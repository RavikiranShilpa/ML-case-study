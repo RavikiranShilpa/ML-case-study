{
  "nbformat": 4,
  "nbformat_minor": 5,
  "metadata": {
    "colab": {
      "name": "detect-spam-nlp.ipynb",
      "provenance": [],
      "collapsed_sections": []
    }
  },
  "cells": [
    {
      "cell_type": "markdown",
      "metadata": {
        "id": "kOTS66V0IqtP"
      },
      "source": [
        "Detect Spam Messages - Natural Languague Processing<a href=\"#Detect-Spam-Messages---Natural-Languague-Processing\" class=\"anchor-link\">¶</a>\n",
        "===========================================================================================================================================\n",
        "\n",
        "In \\[1\\]:\n",
        "\n",
        "    __author__ = \"Shilpa Angadi\"\n",
        "    __email__ = \"shilpa.rpns@gmail.com\"\n",
        "    __website__ = \"ravikiranshilpa.github.io\"\n",
        "\n",
        "Part 1 - Introduction<a href=\"#Part-1---Introduction\" class=\"anchor-link\">¶</a>\n",
        "===============================================================================\n",
        "\n",
        "In order to predict whether a message is spam, first I vectorized text\n",
        "messages into a form that machine learning algorithms can understand.\n",
        "Next I train a machine learning model to learn to discriminate between\n",
        "normal and spam messages. Finally, with the trained model, I will\n",
        "classify unlabel messages into normal or spam.\n",
        "\n",
        "I have taken a great Machine Learning course by Jose Portilla on Udemy\n",
        "and now I want to apply what I have learnt so far in Natural Language\n",
        "Processing to analyze this sms dataset.\n",
        "\n",
        "### Dataset Informatiom<a href=\"#Dataset-Informatiom\" class=\"anchor-link\">¶</a>\n",
        "\n",
        "The [SMS Spam Collection Data\n",
        "Set](https://archive.ics.uci.edu/ml/datasets/sms+spam+collection) is\n",
        "obtained from UCI Machine Learning Repository. The SMS Spam Collection\n",
        "is a set of SMS tagged messages that have been collected for SMS Spam\n",
        "research. It contains one set of SMS messages in English of 5,574\n",
        "messages, tagged acording being ham (legitimate) or spam.\n",
        "\n",
        "Part 2 - Discover<a href=\"#Part-2---Discover\" class=\"anchor-link\">¶</a>\n",
        "=======================================================================\n",
        "\n",
        "In \\[2\\]:\n",
        "\n",
        "    import numpy as np\n",
        "    import pandas as pd\n",
        "    import matplotlib.pyplot as plt\n",
        "    import seaborn as sns\n",
        "\n",
        "    import warnings\n",
        "    warnings.simplefilter(action='ignore', category=FutureWarning)\n",
        "\n",
        "    %matplotlib inline\n",
        "    sns.set_style('darkgrid')\n",
        "\n",
        "Load the Data<a href=\"#Load-the-Data\" class=\"anchor-link\">¶</a>\n",
        "---------------------------------------------------------------\n",
        "\n",
        "In \\[3\\]:\n",
        "\n",
        "    sms = pd.read_csv('smsspamcollection/SMSSpamCollection', sep='\\t',\n",
        "                      names=[\"label\", \"message\"])\n",
        "    sms.head()\n",
        "\n",
        "Out\\[3\\]:\n",
        "\n",
        "|     | label | message                                           |\n",
        "|-----|-------|---------------------------------------------------|\n",
        "| 0   | ham   | Go until jurong point, crazy.. Available only ... |\n",
        "| 1   | ham   | Ok lar... Joking wif u oni...                     |\n",
        "| 2   | spam  | Free entry in 2 a wkly comp to win FA Cup fina... |\n",
        "| 3   | ham   | U dun say so early hor... U c already then say... |\n",
        "| 4   | ham   | Nah I don't think he goes to usf, he lives aro... |\n",
        "\n",
        "Exploratory Data Analysis<a href=\"#Exploratory-Data-Analysis\" class=\"anchor-link\">¶</a>\n",
        "=======================================================================================\n",
        "\n",
        "Let's explore the data:\n",
        "\n",
        "In \\[4\\]:\n",
        "\n",
        "    sms.describe()\n",
        "\n",
        "Out\\[4\\]:\n",
        "\n",
        "|        | label | message                |\n",
        "|--------|-------|------------------------|\n",
        "| count  | 5572  | 5572                   |\n",
        "| unique | 2     | 5169                   |\n",
        "| top    | ham   | Sorry, I'll call later |\n",
        "| freq   | 4825  | 30                     |\n",
        "\n",
        "The data has a total of 5572 messages.\n",
        "\n",
        "In \\[5\\]:\n",
        "\n",
        "    sms.groupby('label').describe()\n",
        "\n",
        "Out\\[5\\]:\n",
        "\n",
        "message\n",
        "\n",
        "count\n",
        "\n",
        "unique\n",
        "\n",
        "top\n",
        "\n",
        "freq\n",
        "\n",
        "label\n",
        "\n",
        "ham\n",
        "\n",
        "4825\n",
        "\n",
        "4516\n",
        "\n",
        "Sorry, I'll call later\n",
        "\n",
        "30\n",
        "\n",
        "spam\n",
        "\n",
        "747\n",
        "\n",
        "653\n",
        "\n",
        "Please call our customer service representativ...\n",
        "\n",
        "4"
      ],
      "id": "kOTS66V0IqtP"
    },
    {
      "cell_type": "markdown",
      "metadata": {
        "id": "PvctUvj5Iqth"
      },
      "source": [
        "The target variable is either ham or spam. There are 4825 ham messages\n",
        "and 747 spam messages."
      ],
      "id": "PvctUvj5Iqth"
    },
    {
      "cell_type": "markdown",
      "metadata": {
        "id": "mBAnQCFiIqtj"
      },
      "source": [
        "In \\[6\\]:\n",
        "\n",
        "    plt.figure(figsize=(8,4))\n",
        "    sns.countplot(x='label', data=sms)\n",
        "\n",
        "    plt.title('Count Plot')\n",
        "\n",
        "Out\\[6\\]:\n",
        "\n",
        "    Text(0.5, 1.0, 'Count Plot')\n",
        "\n",
        "![](data:image/png;base64,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%0A)"
      ],
      "id": "mBAnQCFiIqtj"
    },
    {
      "cell_type": "markdown",
      "metadata": {
        "id": "PopjnI9GIqto"
      },
      "source": [
        "#### Length of messages<a href=\"#Length-of-messages\" class=\"anchor-link\">¶</a>\n",
        "\n",
        "Let's explore the length of messages:"
      ],
      "id": "PopjnI9GIqto"
    },
    {
      "cell_type": "markdown",
      "metadata": {
        "id": "3RlnLfHtIqtp"
      },
      "source": [
        "In \\[7\\]:\n",
        "\n",
        "    sms['length'] = sms['message'].apply(len)\n",
        "    sms.head()\n",
        "\n",
        "Out\\[7\\]:\n",
        "\n",
        "|     | label | message                                           | length |\n",
        "|-----|-------|---------------------------------------------------|--------|\n",
        "| 0   | ham   | Go until jurong point, crazy.. Available only ... | 111    |\n",
        "| 1   | ham   | Ok lar... Joking wif u oni...                     | 29     |\n",
        "| 2   | spam  | Free entry in 2 a wkly comp to win FA Cup fina... | 155    |\n",
        "| 3   | ham   | U dun say so early hor... U c already then say... | 49     |\n",
        "| 4   | ham   | Nah I don't think he goes to usf, he lives aro... | 61     |"
      ],
      "id": "3RlnLfHtIqtp"
    },
    {
      "cell_type": "markdown",
      "metadata": {
        "id": "fYcyNbSTIqtq"
      },
      "source": [
        "In \\[8\\]:\n",
        "\n",
        "    plt.figure(figsize=(8,4))\n",
        "    sns.distplot(sms[('length')])\n",
        "\n",
        "Out\\[8\\]:\n",
        "\n",
        "    <matplotlib.axes._subplots.AxesSubplot at 0x2beb1f940c8>\n",
        "\n",
        "![](data:image/png;base64,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%0A)"
      ],
      "id": "fYcyNbSTIqtq"
    },
    {
      "cell_type": "markdown",
      "metadata": {
        "id": "_tiC9m4PIqtv"
      },
      "source": [
        "The data seems to have some outliers with more than 800 characters. I\n",
        "will use a box plot to discover these outliers."
      ],
      "id": "_tiC9m4PIqtv"
    },
    {
      "cell_type": "markdown",
      "metadata": {
        "id": "CfvpT5MQIqtz"
      },
      "source": [
        "In \\[9\\]:\n",
        "\n",
        "    plt.figure(figsize=(8,2))\n",
        "    sns.boxplot(sms[('length')])\n",
        "\n",
        "Out\\[9\\]:\n",
        "\n",
        "    <matplotlib.axes._subplots.AxesSubplot at 0x2beb2039848>\n",
        "\n",
        "![](data:image/png;base64,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%0A)"
      ],
      "id": "CfvpT5MQIqtz"
    },
    {
      "cell_type": "markdown",
      "metadata": {
        "id": "WU58HWK4Iqt0"
      },
      "source": [
        "There seem to be 3 messages with about 600 characters, 1 with 800\n",
        "characters and 1 with 900 characters. What are they?"
      ],
      "id": "WU58HWK4Iqt0"
    },
    {
      "cell_type": "markdown",
      "metadata": {
        "id": "CcKvMEpXIqt1"
      },
      "source": [
        "In \\[10\\]:\n",
        "\n",
        "    sms[sms['length'] > 500]\n",
        "\n",
        "Out\\[10\\]:\n",
        "\n",
        "|      | label | message                                           | length |\n",
        "|------|-------|---------------------------------------------------|--------|\n",
        "| 1085 | ham   | For me the love should start with attraction.i... | 910    |\n",
        "| 1579 | ham   | How to Make a girl Happy? It's not at all diff... | 611    |\n",
        "| 1863 | ham   | The last thing i ever wanted to do was hurt yo... | 790    |\n",
        "| 2158 | ham   | Sad story of a Man - Last week was my b'day. M... | 588    |\n",
        "| 2434 | ham   | Indians r poor but India is not a poor country... | 629    |\n",
        "| 2849 | ham   | Sad story of a Man - Last week was my b'day. M... | 588    |"
      ],
      "id": "CcKvMEpXIqt1"
    },
    {
      "cell_type": "markdown",
      "metadata": {
        "id": "pYdqWfikIqt1"
      },
      "source": [
        "In \\[11\\]:\n",
        "\n",
        "    for text in sms[sms['length'] > 550]['message']:\n",
        "        print(text, \"\\n\\n\")                \n",
        "\n",
        "    For me the love should start with attraction.i should feel that I need her every time around me.she should be the first thing which comes in my thoughts.I would start the day and end it with her.she should be there every time I dream.love will be then when my every breath has her name.my life should happen around her.my life will be named to her.I would cry for her.will give all my happiness and take all her sorrows.I will be ready to fight with anyone for her.I will be in love when I will be doing the craziest things for her.love will be when I don't have to proove anyone that my girl is the most beautiful lady on the whole planet.I will always be singing praises for her.love will be when I start up making chicken curry and end up makiing sambar.life will be the most beautiful then.will get every morning and thank god for the day because she is with me.I would like to say a lot..will tell later.. \n",
        "\n",
        "\n",
        "    How to Make a girl Happy? It's not at all difficult to make girls happy. U only need to be... 1. A friend 2. Companion 3. Lover 4. Chef . . .  &lt;#&gt; . Good listener  &lt;#&gt; . Organizer  &lt;#&gt; . Good boyfriend  &lt;#&gt; . Very clean  &lt;#&gt; . Sympathetic  &lt;#&gt; . Athletic  &lt;#&gt; . Warm . . .  &lt;#&gt; . Courageous  &lt;#&gt; . Determined  &lt;#&gt; . True  &lt;#&gt; . Dependable  &lt;#&gt; . Intelligent . . .  &lt;#&gt; . Psychologist  &lt;#&gt; . Pest exterminator  &lt;#&gt; . Psychiatrist  &lt;#&gt; . Healer . .  &lt;#&gt; . Stylist  &lt;#&gt; . Driver . . Aaniye pudunga venaam.. \n",
        "\n",
        "\n",
        "    The last thing i ever wanted to do was hurt you. And i didn't think it would have. You'd laugh, be embarassed, delete the tag and keep going. But as far as i knew, it wasn't even up. The fact that you even felt like i would do it to hurt you shows you really don't know me at all. It was messy wednesday, but it wasn't bad. The problem i have with it is you HAVE the time to clean it, but you choose not to. You skype, you take pictures, you sleep, you want to go out. I don't mind a few things here and there, but when you don't make the bed, when you throw laundry on top of it, when i can't have a friend in the house because i'm embarassed that there's underwear and bras strewn on the bed, pillows on the floor, that's something else. You used to be good about at least making the bed. \n",
        "\n",
        "\n",
        "    Sad story of a Man - Last week was my b'day. My Wife did'nt wish me. My Parents forgot n so did my Kids . I went to work. Even my Colleagues did not wish. As I entered my cabin my PA said, '' Happy B'day Boss !!''. I felt special. She askd me 4 lunch. After lunch she invited me to her apartment. We went there. She said,'' do u mind if I go into the bedroom for a minute ? '' ''OK'', I sed in a sexy mood. She came out 5 minuts latr wid a cake...n My Wife, My Parents, My Kidz, My Friends n My Colleagues. All screaming.. SURPRISE !! and I was waiting on the sofa.. ... ..... ' NAKED...! \n",
        "\n",
        "\n",
        "    Indians r poor but India is not a poor country. Says one of the swiss bank directors. He says that \" &lt;#&gt;  lac crore\" of Indian money is deposited in swiss banks which can be used for 'taxless' budget for  &lt;#&gt;  yrs. Can give  &lt;#&gt;  crore jobs to all Indians. From any village to Delhi 4 lane roads. Forever free power suply to more than  &lt;#&gt;  social projects. Every citizen can get monthly  &lt;#&gt; /- for  &lt;#&gt;  yrs. No need of World Bank &amp; IMF loan. Think how our money is blocked by rich politicians. We have full rights against corrupt politicians. Itna forward karo ki pura INDIA padhe.g.m.\" \n",
        "\n",
        "\n",
        "    Sad story of a Man - Last week was my b'day. My Wife did'nt wish me. My Parents forgot n so did my Kids . I went to work. Even my Colleagues did not wish. As I entered my cabin my PA said, '' Happy B'day Boss !!''. I felt special. She askd me 4 lunch. After lunch she invited me to her apartment. We went there. She said,'' do u mind if I go into the bedroom for a minute ? '' ''OK'', I sed in a sexy mood. She came out 5 minuts latr wid a cake...n My Wife, My Parents, My Kidz, My Friends n My Colleagues. All screaming.. SURPRISE !! and I was waiting on the sofa.. ... ..... ' NAKED...!"
      ],
      "id": "pYdqWfikIqt1"
    },
    {
      "cell_type": "markdown",
      "metadata": {
        "id": "YxoxBLRtIqt2"
      },
      "source": [
        "There are some interesting stories going on here, but let's go back to\n",
        "analyzing our data. How are ham and spam messages different in length?"
      ],
      "id": "YxoxBLRtIqt2"
    },
    {
      "cell_type": "markdown",
      "metadata": {
        "id": "Hg0dH71aIqt3"
      },
      "source": [
        "In \\[12\\]:\n",
        "\n",
        "    g = sns.FacetGrid(data=sms, hue=\"label\", height=4, aspect=2)\n",
        "    g.map(sns.distplot, 'length', bins=30)\n",
        "    g.set(xticks=np.arange(0,1000,50))\n",
        "    plt.legend()\n",
        "\n",
        "Out\\[12\\]:\n",
        "\n",
        "    <matplotlib.legend.Legend at 0x2beb213fa48>\n",
        "\n",
        "![](data:image/png;base64,iVBORw0KGgoAAAANSUhEUgAAAjgAAAEYCAYAAABRMYxdAAAABHNCSVQICAgIfAhkiAAAAAlwSFlzAAALEgAACxIB0t1+/AAAADl0RVh0U29mdHdhcmUAbWF0cGxvdGxpYiB2ZXJzaW9uIDMuMC4zLCBodHRwOi8vbWF0cGxvdGxpYi5vcmcvnQurowAAIABJREFUeJzt3XmcXFWd///Xvbe2rl7T6c7KDskhbMEQEGRHBUVQ3Gb8zajjBuj4wxnQGVFn8KuifEdFGIZhRqMRcGTco4LKpoyQIMMqSyAnNISQhCydpPelupb7/eNWJ5VOdXd1963qTvf7+Xjkka66557POX270p+cc+49ju/7iIiIiEwn7mQ3QERERCRsSnBERERk2lGCIyIiItOOEhwRERGZdpTgiIiIyLSjBEdERESmHSU4IiIiMu0owREREZFpRwmOiIiITDuRyW7ASAYGMn5HR99kNwOAmpo43d0pxZjk+isRQ32YOTHUh5kTQ32YGjHCqL+5udYppdyUHsFxnJL6UBGRiKcYU6D+SsRQH2ZODPVh5sRQH6ZGjEr0YdCUTnBERERExkMJjoiIiEw7SnBERERk2pnSi4xFREQkkMmk2blzK5nMQNlibN/u4Pv+lKg/Eokxa1Yznje+VEUJjoiIyAFgy5YtJBJJqqvnle0mHM9zyWZzZal7LPX7vk9PTydtba00Nc0fVyxNUYmIiBwAUqkU1dV1U+oO43JxHIfq6roJjVYpwRERETkA+L4/I5KbQRPtq6aoREREDkApH3rT2dDqS0Y9kqHVNvmU4IiIiByAetNZHli3I7T6zj16DsnIyBM7v/3tnWzc+Aqf+MQVocUtFyU4UhYJenDT3QDkojX0Uz3JLRIRkZlECY6UhZvuJrf+vuDrxW+GqBIcEZHpYO3aZ7nyyk/S3t7GJZe8h7q6On7xi5/uuf372mu/zssvt/Bf/3Ur0WiUHTu28453vJsnn3yclpYXee9738c73/mesrdTCY6IiIiULBKJ8K1v3cy2bVv5h3/4O84//6184xv/SiKR4Otf/yqPPvonmpqa2bFjB7feegfr1r3ANddczY9//Et2797JZz/7aSU4IiIiMrUsXnw0juPQ2Dib/v5+Zs1q5Nprv0gymWTjxlc47rgTADjiiCOJRCLU1tayYMFCotEotbV1DAyUd0f0QUpwREREpGSFt293d3fzve99m5///C4Arrzyk3umqib7jnYlOCIiIgegZNTj3KPnhFrfWFVXV3PMMcfxkY+8n6qqKmpra9m5s5X58xeE1q7xUoIjIiJyAIo7EI+NPSmZiAsvvHhv/Hh8z8hNMcuWLQfg0EMP4+abvwNAbW0td9zx8/I2Mk9PMhYREZFpRwmOiIiITDtKcERERGTaGXUNjjHGBW4BlgIp4GPW2paC45cClwMZ4Fpr7V0Fx84CfmitPTj/+mLgmnzZldbaFSH2RURERAQobQTnEiBhrT0NuBq4fvCAMWYe8CngdOAC4DpjTDx/7GDg00A0/zoK3ACcD5wNXJY/X0RERCRUpdxFdQZwN4C19hFjzPKCY6cAa6y1KSBljGkBTjDGPAv8J3AZ8ES+7BKgxVrbBmCMWQ2cCfw0lJ6IiIjMIIV7/oUhF60hTW1o9U22UhKcOqCj4HXWGBOx1maKHOsC6oGbgW9aa7cYY4arZ7DssDzPoaFhamze7nlu2dsyHWIM1u90RqEqFrwZjxKrCy9mpfpQTurD1IihPsycGNOhDzt2OHje3okXL9WD3/L70Or3Fr2JtFe7T4xyGEv9jjP+PKCUBKcT9knp3HxyU+xYLTBAMDJzlDHmi0CjMeZHwNeKlG0fKXA269Pe3ltCE8uvoSFZ9rZMhxiD9SfTaXJ9AwC4qTS9IcasVB/KSX2YGjHUh5kTYzr0wfd9stncPq9zudwIZ4yNm38CcWGMsHmeO6b6fX//PKC5ubRRplISnDXAxcBPjDGnAs8WHHsU+KoxJgHECaahHrXW7hm2McZss9a+L78GZ5ExphHoBs4CvllSK0VERGTSvfrqRr72tS8RiUTwPI+3ve3t/Pa3d+K6Lrt27eLtb38n7373X/DUU0/w/e8H9xH19/fzT//0JaLRKF/84ueZM2cOW7du5Y1vPJ8NG15i/XrLG95wBpdf/slQ21pKgrMKeLMx5mHAAT5sjLmKYD3Nr40xNwEPESxY/oK1tr9YJdbadP68e/JlV1prt4TSCxERESm7xx77X4w5miuuuIqnn36KV155mZ07W1m58of4fo4PfvB9nHfem9iw4WWuueYrNDU1c/vtK3nggfs5//y38tprm/nWt24mlernve99B7/85W+JxxO85z0XVz7BsdbmgI8PeXtdwfEVwLC3e1tr5xV8fSdw59ibKSIiIpPtoovewQ9/eBuf/vQVVFfXcMopr+e4404gFgvWXB5xxJFs2bKZ5uZmbrzxG1RVJWlt3cHxxy8FYMGCg6ipqSEajdLY2EhdXbAU1ynDzpzai0pERERKsnr1H1m69HV85COXcd99d/Od79xCXV092WyWdDrNhg0vc9BBh3D11Vfxk5/8imSymmuv/eKe8yu5w7gSHBERkQNQLlqDu/jNodY3mqOPPoYvf/mf8TwP13V597v/gt/97jd85jOfoqOjg7/5m4/S0NDABRdcyGWXfYja2lpmzZrNzp2tobWzVEpwREREDkD9VEO0OtQ6R9ubfOHCg/j2t7+/5/WTTz7OCy+s5Utfum6fcldccRVXXLH/+d/97u1kszni8Tg/+9neFSu//vU9E2l2UdqLSkRERKYdjeCIiIjIuCxbtpxly5aPXnASaARHRETkAOA4Dn7+YXwzwUT7qgRHRETkABCPx+np6ZwRSY7v+/T0dBKJxMZdh6aoREREDgALFy7klVdepbt7xF2OJqTco0RjqT8SiTFrVvO4YynBEREROQBEIlGamuaXNcZ02BNskKaoREREZNpRgiMiIiLTjhIcERERmXaU4IiIiMi0owRHREREph0lOCIiIjLtKMERERGRaUcJjoiIiEw7SnBERERk2hn1ScbGGBe4BVgKpICPWWtbCo5fClwOZIBrrbV3GWPmAT8EYsBW4EPW2l5jzFXAR4HW/OmXW2ttmB0SERERKWUE5xIgYa09DbgauH7wQD6R+RRwOnABcJ0xJp4vd5u19kzgeYIECGAZ8EFr7Tn5P0puREREJHSlJDhnAHcDWGsfAZYXHDsFWGOtTVlrO4AW4ATgSuC/8qM/BwPb8+VPAj5njFltjPlcSH0QERER2Ucpm23WAR0Fr7PGmIi1NlPkWBdQb631jTER4GkgAXw5f/xHwL8DncAqY8xF1tq7hgvseQ4NDcnSe1NGnueWvS3TIcZg/U5nFKry29zHo8TqwotZqT6Uk/owNWKoDzMnhvowNWJUog+DSklwOoHagtduPrkpdqwWaAew1qaBY4wxbwJuN8acA9yYH+nBGPMb4HXAsAlONutXbNfR0VRiB9TpEGOw/mQ6Ta5vAAA3laY3xJjTYbdb9WFqxFAfZk4M9WFqxAij/ubm2tELUdoU1RrgQgBjzKnAswXHHgXONMYkjDH1wBLgOWPMLcaYc/NluoAcwWjPc8aYGmOMA5wHPFFSK0VERETGoJQEZxXQb4x5GLgBuNIYc5Ux5u3W2m3ATcBDwB+AL1hr+/PvfdEY8wDwNeBv8yM3nwceyJdfa639bfhdEhERkZlu1Ckqa20O+PiQt9cVHF8BrBhyzjrgnCJ1/QD4wXgaKiIiIlIqPehPREREph0lOCIiIjLtKMERERGRaUcJjoiIiEw7SnBERERk2lGCIyIiItOOEhwRERGZdpTgiIiIyLSjBEdERESmHSU4IiIiMu0owZHySPfh9O2e7FaIiMgMNepeVCJj5XZtofr2MwDoWf53k9waERGZiTSCI6Hzdq/f87WrURwREZkESnAkdG7vjj1fO+meSWyJiIjMVEpwJHRejxIcERGZXEpwJHRu73b8WC2+F8NJd092c0REZAZSgiOhc3t34Ceb8KM1OAMawRERkcrTXVQSOrcnSHDIZjRFJSIik0IjOBK6vSM41ZqiEhGRSTHqCI4xxgVuAZYCKeBj1tqWguOXApcDGeBaa+1dxph5wA+BGLAV+JC1ttcYczFwTb7sSmvtirA7JJPM93F7tpNOno3TvQO3+7XJbpGIiMxApYzgXAIkrLWnAVcD1w8eyCcynwJOBy4ArjPGxPPlbrPWngk8D1xujIkCNwDnA2cDl+XPl+mkvwMnmyoYwekB35/sVomIyAxTyhqcM4C7Aay1jxhjlhccOwVYY61NASljTAtwAnAl4ORHfw4G1gNLgBZrbRuAMWY1cCbw0+ECe55DQ0Ny7L0qA89zy96W6RDDa98GQKS2GZJ1OH6WuDtALMSYZe/DdLgO06APlYihPsycGOrD1IhRiT4MKiXBqQM6Cl5njTERa22myLEuoN5a6xtjIsDTQAL4MkGis1/ZkQJnsz7t7b0lNLH8GhqSZW/LdIgxq6cNF0h7SXwSVAEDHTvoiRwSWoxy92E6XIfp0IdKxFAfZk4M9WFqxAij/ubm2pLKlTJF1QkU1ubmk5tix2qBdgBrbdpaewxwGXD7SGVlGkl1AuDHaiCSANCt4iIiUnGlJDhrgAsBjDGnAs8WHHsUONMYkzDG1BNMQz1njLnFGHNuvkwXkANeABYZYxqNMTHgLOBPIfVDpopUMEg3+KA/ADJ9k9ggERGZiUqZoloFvNkY8zDgAB82xlxFsJ7m18aYm4CHCJKlL1hr+/Pv/acx5hqC5OZvrbXp/Hn35MuutNZuKUenZBL152chY7WQT3CctBIcERGprFETHGttDvj4kLfXFRxfAawYcs464Jwidd0J3DmehsqBwSmconIHR3D6J7FFIiIyE+lBfxKu/k58x4Vocs8UlUZwRESk0pTgSLj6O/BjdeA4e6aotAZHREQqTQmOhMpJdeLH6wC0yFhERCaNEhwJV38HuViQ4OBGAU1RiYhI5SnBkXClOvaM4OB6+I6nRcYiIlJxSnAkVE5/B36s4HmOXkwjOCIiUnFKcCRcqU78+N4dOHwvpjU4IiJScUpwJFz9HeQGp6gA343hKMEREZEKU4Ij4cllcQa695ui0hocERGpNCU4EhpnoAtgyBRVVGtwRESk4pTgSGicgWCbhj23iYNGcEREZFIowZHQuIP7UGkNjoiITDIlOBKawRGc/dbgaIpKREQqTAmOhGbPTuJDbhPXCI6IiFSaEhwJzWCCU3ibuEZwRERkMijBkdC4RaaofDeKk02Bn5usZomIyAykBEdCs2eKqjDBGdxRXKM4IiJSQUpwJDTOQCd+rAbcyN438wmOk+mdpFaJiMhMFBmtgDHGBW4BlgIp4GPW2paC45cClwMZ4Fpr7V3GmEOAlfn6HeAya601xlwFfBRozZ9+ubXWhtkhmTxOqgsK198QTFEBOJl+/MlolIiIzEijJjjAJUDCWnuaMeZU4HrgHQDGmHnAp4DlQAJYbYy5D/gKcLO19pfGmAuA64B3AcuAD1prnwi/KzLZ3IEOSNQPeTP4EXOyqUlokYiIzFSlTFGdAdwNYK19hCCZGXQKsMZam7LWdgAtwAnAp4Hf5MtEgMFH2Z4EfM4Ys9oY87kQ2i9TiJPqxN8vwdk7giMiIlIppYzg1AEdBa+zxpiItTZT5FgXUG+t3QlgjDHANwlGgQB+BPw70AmsMsZcZK29a7jAnufQ0JAsuTPl5Hlu2dtyoMeIZHsgOY+GhiROZxSqYjhVVQDUVvn4IcUt9/fpQL8Olah/usRQH2ZODPVhasSoRB8GlZLgdAIFj6bFzSc3xY7VAu0AxphzCdbufCC//sYBbsyP9GCM+Q3wOmDYBCeb9WlvnxqLUxsakmVvy4Eeo7G3HadpMe3tvSTTaXJ9A3gZSALdbR2ka8KJW+7v04F+HSpR/3SJoT7MnBjqw9SIEUb9zc21oxeitARnDXAx8JP8GpxnC449CnzVGJMA4sAS4Ll8cvOvwFustRvzZevyx5YAPcB5BAuRZZpwUh37PMUYChYZaw2OiIhUUCkJzirgzcaYhwnuiPpw/m6oFmvtr40xNwEPEazn+YK1tt8YcyMQA24LZqmw1trLjTGfBx4guBvr99ba35ahTzIZfB9noGufjTaBPWtw0HYNIiJSQaMmONbaHPDxIW+vKzi+Algx5Jylw9T1A+AHY2+mTHnpXhw/C4mht4kP3kWlRcYiIlI5etCfhMIdCNaaD38XlaaoRESkcpTgSCicVFfwxdAH/Xn5ERzdJi4iIhWkBEdC4eQ32tz/QX/5NTiaohIRkQpSgiOhcPMbbRIf5knGmqISEZEKUoIjoRgcwfGHLDLGcfHdqBYZi4hIRSnBkVA4w43gAETioDU4IiJSQUpwJBR7pqiGjuAAvhfXFJWIiFSUEhwJhTPQie/FIZLY/2AkrikqERGpKCU4Egon1Ykf23/0BgAvrtvERUSkopTgSCicgU5yQ7dpyPO9mNbgiIhIRSnBkVC4qc7996EaFElos00REakoJTgSCmdghCmqiKaoRESkspTgSCiclKaoRERk6lCCI6FwU534sdriB724pqhERKSiIpPdAJkGfB8n1Y4XjeJ0biaZThMhzcDg4UgCVyM4IiJSQUpwZMKcdA9OLk2uawduy/3k+gZwjnzD3gJeTGtwRESkojRFJRPm9LcB4EeTxQtE4qApKhERqSAlODJhbv9uAPxoddHjvh70JyIiFTbqFJUxxgVuAZYCKeBj1tqWguOXApcDGeBaa+1dxphDgJX5+h3gMmutNcZcDFyTL7vSWrsi7A5J5Q2O4DDsCE4CJzcAuSy4XuUaJiIiM1YpIziXAAlr7WnA1cD1gweMMfOATwGnAxcA1xlj4sBXgJuttecAX8u/HwVuAM4HzgYuy58vBzh3cIoqMkyC48WCv7MDxY+LiIiErJQE5wzgbgBr7SPA8oJjpwBrrLUpa20H0AKcAHwa+E2+TAToB5YALdbaNmvtALAaODOUXsikGm0Njh+JB+W04aaIiFRIKXdR1QEdBa+zxpiItTZT5FgXUG+t3QlgjDHANwlGgZqLlR0psOc5NDQMMypQYZ7nlr0tB2oMl24AErX1uK5LVVUMJ+JRVRWM3DhOEK8+CdRNPHa5v08H6nWoZP3TJYb6MHNiqA9TI0Yl+jColASnEyh8gpubT26KHasF2gGMMecSrN35QH79TXy4ssPJZn3a23tLaGL5NTQky96WAzVGTfsOErFa+lJZqlyPvr4B4pksqb5gSipGBA/o2t1GNjdrwvHK/X06UK9DJeufLjHUh5kTQ32YGjHCqL+5eZiHyg5RSoKzBrgY+Ikx5lTg2YJjjwJfNcYkgDjBNNRz+eTmX4G3WGs35su+ACwyxjQC3cBZBKM7coBz+tvwE8MPxg1OUelWcRERqZRSEpxVwJuNMQ8T3BH1YWPMVQTraX5tjLkJeIhgPc8XrLX9xpgbgRhwWzBLhbXWXp4/75582ZXW2i1l6JNUmNvfjh8fYbZxcA2ObhUXEZEKGTXBsdbmgI8PeXtdwfEVwIoh5ywdpq47gTvH3kyZyoIRnIZhj/ueEhwREaksPehPJszt2zVigoOnKSoREaksJTgyMb6P27cTv6px+DKaohIRkQpTgiMT4gx04WRTIyY4vhIcERGpMCU4MiFu387gi6rZwxfSFJWIiFSYEhyZELe3FYBccvgER4uMRUSk0pTgyIQ4+QTHH2kER1NUIiJSYUpwZEIGp6hGXGTsaS8qERGpLCU4MiFubyu+48JIt4m7kaBMRmtwRESkMpTgyIS4va34iUZwveELOQ54CU1RiYhIxSjBkQlxe3eSSzaNWs6PxDVFJSIiFaMERybE7d1BLjln1HJ+JKEpKhERqRglODIhbs82stXzRy3newmN4IiISMUowZHxy2WCEZyaeaOXjcS1BkdERCpGCY6Mm9uzA8fPkavRCI6IiEwtSnBk3NyerQDkahaMWjZYg6MER0REKkMJjoyb1/UaANkSRnCI6DZxERGpHCU4Mm57RnBKWmQcx9FmmyIiUiFKcGTc3O6t+JEkfrx+1LKaohIRkUqKjFbAGOMCtwBLgRTwMWttS8HxS4HLgQxwrbX2roJjfw/Ms9ZenX99FfBRoDVf5HJrrQ2pL1JhXvdrwfSU44xa1tcUlYiIVNCoCQ5wCZCw1p5mjDkVuB54B4AxZh7wKWA5kABWG2PuIxgZWgG8Hvh5QV3LgA9aa58IrwsyWdyuzeRqDyqtsLZqEBGRCipliuoM4G4Aa+0jBMnMoFOANdbalLW2A2gBTiBIdm4HvjqkrpOAzxljVhtjPjfRxsvk8jo2kq0/tKSyfiShNTgiIlIxpYzg1AEdBa+zxpiItTZT5FgXUG+tbQPuNcZ8aEhdPwL+HegEVhljLiqc0hrK8xwaGpIlNLH8PM8te1sOqBj9HbipdmJzj6ShIYnTGYWqGK7rUlUVw4l4VFXFAHCiDk7Uh0w/s5xdkKjFj4+w+3il+jBJ9VcixnToQyViqA8zJ4b6MDViVKIPg0pJcDqB2oLXbj65KXasFmgvVokxxgFuzI/0YIz5DfA6YNgEJ5v1aW/vLaGJ5dfQkCx7Ww6kGJFWyyygOzqfgfZekuk0ub4Bqqpi9PUNEM9kSfUNABDv78bf+QpxfPqeuRP36LfSG41Neh8mq/5KxJgOfahEDPVh5sRQH6ZGjDDqb26uHb0QpSU4a4CLgZ/k1+A8W3DsUeCrxpgEEAeWAM8NU08d8JwxZgnQA5wHrCyplTLluJ0bAcjWlThF5UaDL3KZkQuKiIiEoJQ1OKuAfmPMw8ANwJXGmKuMMW+31m4DbgIeAv4AfMFaW3QlaX7k5vPAA/nya621vw2jEweKpzZ38B+rNzCQyU12UybM63gVgFzdwaWdkE9wnGy6XE0SERHZY9QRHGttDvj4kLfXFRxfQXDHVLFzbx3y+gfAD8bcygPcrp4B/u3Bl/nN8zsAOHx2NW9ZMmeSWzUxXudG/HgDVW4fpPuIkGZghPK+m/9RyynBERGR8tOD/srsF89s5d0rH+Ne28qHX38wBzUkWPXM1slu1oR57S+Tqz+Y3Pr7yK2/Dyc7UnrD3hEcTVGJiEgFlLIGR8ZpW2c/1933IicdXM/n3rSIQxuTVMci3PzQBl7Z3cthjVPjDrHx8NpeInfQ68dwgkZwRESkcjSCU0Z2Rw8AnzzjcA7NJzMXHTsXz3X45TPbJrNpE+KkOvF6t+M3HFbyOf6eERwlOCIiUn5KcMpofWs3DnBUc/We92ZXxzjnqNnctXYbqQN0sbHXFuzUkRtDgsOeNTiaohIRkfJTglNG63d0c8isKqqi3j7vv/P4+XT0Z/ifF3dOUssmxmt/CRhbgrPnNnHdRSUiIhWgBKeM1rf2sHhOzX7vn3xoAwvrE6x69sBabJygh2R6O4ldT+O7Eby6MdwJpikqERGpICU4ZdLVn+G1jn4WF0xPDXIdh0uOn8cTmzrYuHtqPKm5FG66O7hjavOj5BKNOH7pU2y6TVxERCpJCU6ZvLizG6DoCA7ARcfNCxYbP3vgLTZ2e1vJJZvHdpKn28RFRKRylOCUyfr8HVTFRnAAmqpjnHXkbH77/HZyvl/Jpk1MLovbt4tccmwPKty7VYNGcEREpPyU4JTJ+h3dNCajzK4eflPJNy5qYndvmue2dlWwZRPj9u3C8XNjH8HJT1E5WY3giIhI+SnBKZMXW3tY3FyD4zjDlnnD4Y14rsODL+2qYMsmxu1tBRh3gqMRHBERqQQlOGWQyeZ4aVcPi+cUn54aVJuIsOygeh5smQEJjuPiOxE9B0dERCpCCU4ZvLK7j3TWZ3Fz8QXGhc4+cjYbdvfyaltfBVo2cW5fK7lYLUQS4zg5otvERUSkIpTglMH61pHvoCp01lGzAQ6YaSqnbxe5qtnjOtf3ohrBERGRilCCUwZ2RzfxiMvBs6pGLTu/LsGi5moebDkwnmrs9u7EH2eCgxvVCI6IiFSEdhMvg/WtPRzZVE3E3bvAOOVDbzpbtPzrD2vkjsc38cLWThLe/ouSk1GP+PBrlStnoBs33U26qmlcp/tuRFs1iIhIRSjBCZnv+7y4o5tzF+2bBPSmszywbkfRcyIu5Hy49eGNmObkfsfPPXoO8ZhX5MzKcjs3AZAbZ4ITjOBoikpERMpPU1Qh296VoqM/U9L6m0HzauPUxiO8sK2zjC2bOKcjn+Akx7kGx43oNnEREakIJTghe7F15CcYF+M4Douaq2lp7SadLX1/p0pzOyY4guNpDY6IiFTGqFNUxhgXuAVYCqSAj1lrWwqOXwpcDmSAa621dxUc+3tgnrX26vzri4Fr8mVXWmtXhNiXKWF9azcOcNQYEhyARc3VPLm5g427+8Z8bqU4na+Si9WBN/zTmUfkRiDdE26jREREiihlBOcSIGGtPQ24Grh+8IAxZh7wKeB04ALgOmNM3BhTZYz5L+CTBWWjwA3A+cDZwGX586eV9Tt6OKghQXVsbMubDm1MEo+42B3dZWrZxLkdm8Z9izjk96PSGhwREamAUn4LnwHcDWCtfcQYs7zg2CnAGmttCkgZY1qAE4AW4HbgfuDofNklQIu1tg3AGLMaOBP46XCBPc+hoWH/RbeTwfPcktrySlsfR8+v369sX0c/yaqRRz6OmV/H81s7ueR1C4l6e3PPRDxKQ/04HqxXRKn9KMbtfBV/9mKq8v1wIt5+X7uuS1VVrPixWBynO0M8HiVWN/7rOpE+TIX6KxFjOvShEjHUh5kTQ32YGjEq0YdBpSQ4dUBHweusMSZirc0UOdYF1OeTmHuNMR8aoZ4uoH6kwNmsT3t7bwlNLL+GhuSobcnmfDa19XLG4Y37le0fyNLbNzDi+ScsrOepTe08u6mNo+fW7j03laa9PZy1OaX0oxgn1UlTXxsDsUYG8v2IZ7KkhnxdVRWjr2+g6LG4HyGSTpFKpemdwHUdbx+mSv2ViDEd+lCJGOrDzImhPkyNGGHU39xcO3ohSpui6gQKa3PzyU2xY7VAe4n1jFT2gLS9K0U663Nww/hGW45orqY65rF229TbXdzr2AAwsSkqL47Fsz5+AAAeV0lEQVSTHTnJExERCUMpCc4a4EIAY8ypwLMFxx4FzjTGJIwx9QTTUM8NU88LwCJjTKMxJgacBfxp3C2fgjbl95Mq5QnGxbiOwzHzanmptZe+YR4KOFm89sEEZ5x3UAF4MRw/o1vFRUSk7EpJcFYB/caYhwkWCV9pjLnKGPN2a+024CbgIeAPwBestf3FKrHWpoGrgHsIEpuV1totYXRiqtjUnk9wGsaX4AAcO6+WrO9jt0+txcZhjeAAkD4wNhYVEZED16hrcKy1OeDjQ95eV3B8BVD0dm9r7a1DXt8J3DnmVh4gNrX3EY+4NNWM8zZqYF5dnMZklLXbujjxoBGXKFWU176BXPVc8KLjryQSJDiObhUXEZEy04P+QrSprY+DG6pwnfFvHOU4DsfOq+XVtj46+6fOVI7XsQG//pAJ1eEPPj9HIzgiIlJmSnBCtLm9n4PGucC40DHzg7XYz2+bOtNUXvsGchNOcDSCIyIilaEEJyTZnM/mjr4Jrb8Z1JiMsaA+wdqtU2NvKqe/DTfVTq7+4IlVpBEcERGpECU4IdnRnb9FfJx3UA117LxadnQPsL0rFUp9EzF4B5VfF9YIztR4tpGIiExfSnBCsucW8RBGcACOmVdLzHNZ/dKuUOqbiD13UIU0RYUSHBERKbOxbZg0w6V86B3m+TR2Z7CupK4mRtvA/mWy/thiJWMepx42iwdf2sXarZ2cceisMbc3LF77BnzHxa9bCK0to58wbEX5rRuU4IiISJkpwRmD3nSWB9btKHrskQ27ibgOz25qxylyF9Vpi5rHHO/kQxt4YlM7313zCqcf0lC03krwOjaQq1k4/l3E8zRFJSIilaIpqpC09aZpqIqGmoTEPJczj5zN2q1dPDiJU1VexytkGw4PoaL8M3SU4IiISJkpwQlJW2+axuQEHoI3jBMW1HFQQ4J/f+gVMrkxznOFwffx2jeQrQ8hwXFcfC+mERwRESk7JTgh8H2ftr40s8qQ4Hiuw0dOO4wNu3u567ltodc/Gqd/N+5AZzgjOOSnqZTgiIhImSnBCUFnf4ZszmdWcmJrVIZz+pGNHD+/lm8/vJG23sruxh1pCxYVhzKCA+DFNYIjIiJlpwQnBG19wZYK5RjBgWD7hs++cRFdqQyfu+sFMtlcWeIUE2kNNofPNB0TSn2+F9MIjoiIlJ0SnBC09eYTnKryJDgAZm4Nn3/zIp7Y1MGNf3y5bHGGiuxcS66qiVz1vFDq8zWCIyIiFaDbxEPQ1juA5zrUJcr77bzwmLnYHd3c8cQWjp5bw0XHhpN0jCTS+hyZ5mMhrLvDvBhoLyoRESkzjeCEoK03zayQbxEfzhVnHcHyQxq47r4XWbutq7zBsim8tvVkmo4LrUo/UoWTKnO7RURkxlOCE4LdveW5g6qYiOtw3duW0FQd4x9+tZYdZdyrKtL6HE4uQ7r5+NDq9KNJnP720OoTEREpRgnOBPm+T3uZbhEfTkMyyvWXHEfvQJarfrmW3iJbQ4QhtukhfBzSB50eWp1+NImT7oFsOrQ6RUREhlKCM0FdqQyZnF/WBcaO49A2kN3nz+z6BJ+7YDEvtnZz9V0vsCuV2a9M20CW1ASeDRjd9BCZ5uPxE+Htg+VHqwFwUh2h1SkiIjLUqKtijTEucAuwFEgBH7PWthQcvxS4HMgA11pr7zLGNAF3AFXAa8CHrbW9xpibgNOBwUUY77DWHtC/6QbvoGos0zNwAPoyOf70YmvRY+ctbuZ+28oX73yB8xY37Xf83KPnEI95Y47ppDqIbn+CvhMvG/O5I/EjSQDc/jayyf3bKyIiEoZSRnAuARLW2tOAq4HrBw8YY+YBnyJIWi4ArjPGxIFrgDustWcCTxEkQADLgAustefk/xzQyQ0U3CJewSmqQssPrmfZQfX878Y2nnmtM7R64+t/iZPLkDryotDqBPCjVQA4/W2h1isiIlKolATnDOBuAGvtI8DygmOnAGustal8stICnFB4DvA74E35kaBFwHeMMWuMMR8JqQ+TqrVngIjrUFvmW8SH4zgObzbNHNZYxd0v7GBrR//EK/V9Es/fQbrpODJzTph4fYVVR/eO4IiIiJRLKb+V64DCkZasMSZirc0UOdYF1A95f/C9auDfgG8BHvCAMeZxa+0zwwX2PIeGhmSpfSkrz3NJxKMkq/aditrameKgWVXUJOMjnh/x3P3OHcp1naJlSjn3fScfwn88+DKrnt3GJ846gup4cGkT8SgN9Yl9+jHS99RJteO8cCfezrVkz72GxmgHfjZYxOxEsvgF7XAiHlX514Nfu65LVVWs6DEA/AYAqt0ekuO8tqP1YaLKXX8lYkyHPlQihvowc2KoD1MjRiX6MKiUBKcTqC147eaTm2LHaoH2gvf7Ct7rBf7VWtsLYIz5A8G6nmETnGzWp719ajz1tqEhSX8qTW/f3r2g0tkcWzv6eP2hs/Z5v5hMNjdqmWRVrGiZUs51gHeeMI8fPLaZ/37sVd73uoW4rkN/Kk17+96tHRoakiN+T5N9r1H1h6+QrWqmNxsn3rWL1EsPAxA/8g2kCtoRz2T3vB78uqoqRl/fQNFjAGSj1AL9bTvoG+e1Ha0PE1Xu+isRYzr0oRIx1IeZE0N9mBoxwqi/ubl29EKUNkW1BrgQwBhzKvBswbFHgTONMQljTD2wBHiu8BzgrcBDwGJgtTHGM8ZECaaxniyplVPU1s4UOR8WNiRGL1wB8+sSvGXJHDbu7uN/WnaOvQLfJ/bw9bh9O0kteju4Y1+cPCovhu9GNEUlIiJlVUqCswroN8Y8DNwAXGmMucoY83Zr7TbgJoIE5g/AF6y1/cC1wPuMMWuA04CbrbUvAD8EHgH+CNxurV0bfpcqZ0t7HwAL66smuSV7nbCgLr/ouJ0/bx7DGm4/R/LRbxJdt4rUwWeTbVxUngY6Dn68XouMRUSkrEadorLW5oCPD3l7XcHxFcCKIedsB95SpK6vA18fV0unoC0d/TQmoyTHcRt2Ob3JNNPel+buF3Zw8uGNXLxkzn5lEn4Xkdcew93dAv3tuBsfIrr9KdKLL2Zg/mnlbWCiXiM4IiJSVtpsc5x832dzez+Lmqsnuyn78VyHdy6dz38/sYXr7rEsqIlx0sENe4/vfpHkvR/H22X3vJeZdRRd534d96jz4MX7y9o+PzELt29XWWOIiMjMpgRnnNp60/Slsyysnxrrb4aKeS7vPXEBq57Zyqd/uZZv/+VSzJwa2P0yDb98DwD95t1kGo7AOe5d9CYOBiCZ3l72tuVq5uFu/XPZ44iIyMylrRrGaXP+eTMHTZEFxsUkYx5fe8exVMc8Lv/x0/zsqVfxfnU55DL0X7yC9PyT8atmg1e+pzAX49fMw+3Zqv2oRESkbJTgjNOW9j4SEZfZ1ZVNDsZqTm2cFe87kWPn1fLqH7+H+9oTtLzuGvyGQ0OPlfMhkxu9nF87H8fP4fZsC70NIiIioCmqcdvS0c+C+gSO40x2U0a1oD7BzZcsovq2O3k6tZh3PTifczdt4cRILUsbUizNZfdMTUVIM/ITd/aV8+HP7XHue7CNu9cvpC/rcP7cXt5TleI4H9wi355czQIAvK7N5OoODqGHIiIi+1KCMw796Syt3QMsmVvaw4bCdMxsn2q/b8/rHqeK53cNn2QN7kTe8OztVKd2UPPWG3lbyzye2LiL+zuDXcIjj7XQEMnQEMsxu76W2sxsZkWzzI7nmNvbTW1nFY3RHHMa0iT6PV7tibC2M8a6l3bx2KsL2JGKEPd6OLMpRV3c4e4tSVatamVh1QI+t2Q35x+5b5v82vkAuF2bw/8GiYiIoARnXF7Lr7+ZjAf8Vft9dK+9e8/rmmPfAgz/2Ou+TI7H1m3kA0/eTGfTSfRUH8KHjsnymeXNPP2n39PSm6SjYQkbNm2mMxOhN13NK+0RujIJenMevNQONAeVPbYdWLin7vk1AxxXn+Ls5nYuPO0Ecq/8iUjE41NH5njUW8p3HtnOPz7dhFmSYV5Bm/zquUAwgiMiIlIOSnDGYXNHPw6woG7qLjAudPyWHxEbaGNt4lhSz9/DwECG+cvfSH0kw0l1nSxaVsOLuS0ALFp+FC8+Hjxg+pCmWrrnnMTTT/6JrkyE6kNPpGX9CzTHBjisqo+TTj2HFx8P7obKZI7hxW2dxGIRBgYyXHRWNSemW3nPw/O48r5d3H4iRAdXfEXiZJNzcTuV4IiISHlokfE4bGnvY05tnFhk6n/7vL5dLN38A9rnnU5XYuHoJxSIuDA76XFwIsUxNT286fAEb5y9mxNqu6mLZEc9f35Vli8ft5vndqS5aX3DPseyjYuI7Hp+TO0REREp1dT/DT3F5Hyf1zr6J2V6ys2lOeiZGznt5RtY9up3mdP5LPj+iOfMe+IbRHJ9vLbksgq1cl9vnNvHXx1Xza2v1LGmde/3LD13GZGdz0N6amymKiIi04sSnDF6raOfgaxf+Qf8+T7n2WuYs2EVbcnD8R2Po3fcxeLVVzC72xY95YjW+5m9/kc8t+D/o7/usMq2t8DVpzdwVM0An392NjtTwY9cZt4yHD9LtHXYzeRFRETGTWtwxsD3ff7YsouqqMdRTZXdouGo1ns4cuf9bDnmcl4aaATfZ17XMxzevob3PPV+diWPYvOs17OrejG9sSbmdzzBiZtvo2fOMh497G85icl7qF4i4vCNpbv4q0fm8uk/N/G9Y3yyc5cBENn2BOkFp05a20REZHpSgjMGj2zYzattfZx/dDOJaOU22PRSHZz28g1srz2W7Uf9JTx/HzgO2+qW0nfSJ+hddz+H7F7Nca/9GM/P7DmvdcF5+Of+Myd1p2lK+nRXrMWB3kwwfeb5sKBqgM8v2cU/P9fM1/64nUvPPY7aWQbvpbtpO27fvVyTUY/41H+8kIiITGFKcEqUzuZYsWYjjckoJy6sD6XOSLaPEzfdxsL2R3HqD6LtuL+ht3H+fs+2mff4/yWR7uC3x93EEc6+idWsWbPInvAutvMuNvhRXtv8Kol0O51VCzlmfh1zNqyhe0cX85e/MZQ2lyrn+9htnQAsOmiAF7d1ciidXNgEP30OenIv8v5ZF/KGl2/g6cdXs7tm8Z5zzz16DvEptkO7iIgcWLQGp0Q/fnwTm9v7OG9xE16xx/OOUVPX87z7qfezbNPK4PW2B1l07wfxHv/OPg/ym9v5NLPtf/Pswr9kV43Zr55orp/utXfTvfZuDqnJcdTB8znoiCUcM7+OpuTIC5Anw3vnbmP5ggT3rtvB9uYzyLpxlr+6YtTF0iIiImOhBKcE3akMN/2hhaUL6ya89sbL9rPs1e9yydMfoYp+Xjz9Bl4772a2Xfh9UpE6jnvtJ1TvehaAeLqDc+2XyFTPxz/xA5zc2Dti0lKY7HSvvZtowXTVVOE5cO1ZNTR4A3xxdTcPz/1rDt/1PyzZtmqymyYiItOIEpwSrHzkVdr70lx2xuHj3nsqses5Tm/5Bn/96EWcvPHbvDL7XNads5Jt27fTvfZu3GQjLxz6flKRWo7602c49eUbePszl1GT2kbn2V+h0z44ZZOWsapPuHz60FeYFc3wNxvO4xHnRM5o+ReWbP3FZDdNRESmCa3BGUF3KsONf3yZXz27jXe9biGL5tSweXfpz23xsv2c2f97Fm74CTVtz5NzY7zceDbPL3gPW+uXcXJs37rS0VqeWfjXHN3/JEu33EFXfB53H3s9y+cuhfUvhd29SbUwkeJLR7bwWPJMPvn0VXzTv55zW64j9dpz/DlxDacc1kx1TD+eIiIyPqP+BjHGuMAtwFIgBXzMWttScPxS4HIgA1xrrb3LGNME3AFUAa8BH7bW9hYrG3aHwvLIK7u59t4Xae1O8cGTD+If37qE19qKJzduboDqgVaqU60kB1qpHmilseclDt/5e+LZHnqjjbQf9jY2HvMJHumaO2LcgUgNL7/+azy+K46PA47L8nJ0cApwHfjL4+t4w8FV/Hrdl9j+6vd5X++vWH/Pk3wmcymvJo+lqSbBnJoYTdUxZiWjNFRFWTC7hqifoyERpb4qQkNVtKJ3tYmIyNRXyn+RLwES1trTjDGnAtcD7wAwxswDPgUsBxLAamPMfcA1wB3W2luNMVcDlxtj/rtYWWttKvRelcj3fVKZHP2ZHO19aez2btbt6Ob5bV08ubmDwxqr+O77TuT4BXXEIy5Opp/q1Hbq+jbT2PsSTd3raO5eR2Pvyzj+vlsXDHjVbJh9Ds5Rb2Lb9u0cMbeOWQ0NnBzdmySNdOu278yMX9jRXD/Z9b/nbS4ses8VPP5AgmN23cPP3P/DK67hhdQi2rqjdKcderPQ5lfxol/PTupp9evZ6dfTRi11kQzzExkWxAc4JNpOk9/GrNwuIn6WbreOdq+RXZFmdrvN9HvV5IjgFCwWdxwHB3Adh9pkFCfnE4+4Q/54gE8665PO5oK/c7l9X2dzpHPB3wCe4xDxnCF/u1RXRcmks3iuQ6Tgz+DrTC742UxlcqSzOTzXIeq6RDyHeMSlKupRHfOoinokY/k/+a8dx2HAc+noTu1Zu+0T/Lz7QDbnk8355HzI+oNf++RyPo4TtNF1g+9F8LWD6wSvXQc818F1HHLRCN396aCc65DzfXw/uIMu5wfxsvm/cwV/5wr+9vNtyGRzZHLB9zbn+3vi1nUN0NuTKoifbxv7t8st0tbBtjkE7Q76x7inmsPg5y+Kv+c1+7xmyPEhb+9nIP8z4gDk++Xs/TL/tZ67IDNPKQnOGcDdANbaR4wxhQMKpwBr8klKyhjTApyQP+dr+TK/y3/90jBlHwulJ2P0F7c+zoZd+4/IxDyHo5pruPS0Q/jgyQdT3b2Bhu+djtvfxiJgUUHZvugsWmuOJr3g9XR0tDEQqaHpxLexw59FNloLjhMsCt5xDzC4CPj3e84f7tbtpmqPk9nbtio3FkqfDwS9tUfQdtjfsa3lIeZmtzK/+494uQE8ZwAnMsqdVpn8nxLkcNjhNPHRqhvpcYKF477vk81BJpejP51jIJMjlc2RzQ0f13Ug5gWJR8R1iXoOUc8l4jo4DmTyyUQmFyQQg6+zBe+Pdv9Y1HOCZGSEdsjYeQ75hChIhqBIssHg+3vfKTUxGa6uyTaY6jjO3q/JJ/hD3x9MjBwH8PcmTWVpl+Ps830+0OqvRIwDpQ+18Qi3/fXraKqJh9Sq8XFG64gx5rvAz621v8u/fhU4wlqbMca8HzjeWvvZ/LHbgduB/8y/32eMOWLIe/uUtdbeP0L4VmDjhHooIiIi08lO4C2jFSplBKcTqC147VprM8McqwXaC97vK/Le0LIjaS6hfSIiIiL7KOU28TXAhQD5NTjPFhx7FDjTGJMwxtQDS4DnCs8B3go8NEJZERERkVCVMkU1eBfVCQRTsx8mSF5arLW/zt8ZdRlBsvQ1a+3PjTFzgdsIRml2An9lre0pVrZM/RIREZEZbNQER0RERORAoycZi4iIyLSjBEdERESmHSU4IiIiMu1os59RjLZVxQTrfgroyL/cAHwb+FeCx9Xda6390jjrfT3wL9bac4wxRwG3Ejxv7Dngk9banDHmi8Db8rH+3lr76ARiLAPuBF7MH/4Pa+2PxxvDGBMFVgKHAXHgWuD5sPoxTP2bQ+6DB6wADJAlWJzvhNWHEWLUh9mPfJw5wBPAm/Pnh9aHIvUny9D+UT9nE/2cF4lxJ/ANYFP+vS8S3E06rhjGmM8Bbwdi+Tr+SPjXYWiMpwj3M/Eh4EP5lwngROAcQroWw9T/V4R7HaIEN9AcRvCZu5QQPxPD1B/qZ8IYEwe+DxxB8PiWTwKzCfEzMUyM4wnxWpRCCc7oht2qYiKMMQkAa+05Be/9GXg38DLwG2PMMmvtk2Os9x+BDwA9+be+BfyTtfZ/jDH/CbzDGLMROBt4PXAw8HPg5AnEWAZ8y1p7fUGZZROI8X5gl7X2A8aY2QT/0P45xH4Uq//LIffhYgBr7enGmHMIroMTYh+Gi3FnmP3I/4P7bYJnWkHIP09F6g/1Z6nUzxnBL5Rxfc6HiXEt8I+Fd4oaY941nhj5a/sG4HSCX3afIfzrUCyGQ4jXwlp7K0EigDHm3wn+k/GfhHQthql/GSFdh7wLgYi19g3GmDcDXwWihHctitX/O8L9t+lSoNtae6oxxgA3A3MJ8TMxTIzHCPdajEpTVKPbZ6sKCG3vy6VA0hhzrzHmD8aYs4C4tfYla60P3AMU38thZC8B7yp4fRLB//Yg+KC8iaBP91prfWvtq0DEGDOWhyoWi/E2Y8yDxpjvGWNqJxjjp8A/F7zOhNyP4eoPrQ/W2l8SPBIB4FBge8h9GClGmNfimwS/hF7Lvw7756lY/WG2v9TP2UQ+50NjnJrvx0eMMQ8ZY643xkQmEOMCguePrSJIYO8i/OswXIwwrwUAJtju51jgR4R/LfbUb639DuFeB4D1BH12gTogTbjXYrj6w7wOx+TbibXWEiRGYV+HoTGWEP61GJUSnNHVsXfoGSCbvzAT1Uvwj/sFwMcJhvMKN8fqIphuGJN8dpwueMvJ/9AW1jm0T2OKVSTGo8A/WGvPIvgfwBcnEsNa222t7cp/kH8G/FOY/Rim/lD7kI+TMcbcBvxbPk45rsXQGKH1Iz/k32qtvafg7dD6MEz9YV+HUj9nE/mcD43xQ+AB4ArgLKAm//54YzQR/MP/3oL63ZB/lorFCP0zkfd54Ev5ujqL1DXRf3MH6we4j/CuA0A3wcjGOoLp4ZsI93NdrP6wr8OfgYuMMU4+Ga/Pxx1a10S+T0NjLATuJ9xrMSolOKMbaauKiVgP/Fc+A19PcJEbC46XspVFKXJF6hzPthkjWWWtfWLwa+B1E41hjDmY4JfED6y1dxByP4rUH3ofAKy1fwMsJvjHqirMPgwT494Q+/ER4M3GmP8hWM9wOzAnxD4Uq/93IV+HUj9nE/mcD42xC/hva+3L+V98vxqmH6XG2AXcY60dyP9vuJ99f5mF8bNULMZvyvC5bgCOttY+MEJd474WQ+oHWBnidQC4kuD7tJhg5O42gjVLo/Wh1O9TsfrD/kyszJ//AME099NAdQl9GMv3aWiMJ4DvhXwtRqUEZ3QjbVUxER8hmG/EGLOAYN67xxhzpDHGIfjf4EMhxHkqP78Oe7fNWANcYIxxjTGHEPxQ7ZxAjHuMMafkv34jwQ/zuGOY4EnY9wKftdauDLsfw9Qfdh8+YIJFmxD8Dz8HPB7mtRgmxi/C6oe19ixr7dk2WFvyZ+CDwO/C6sMw9f8qzOtA6Z+ziXzOh8aoB/7XGHNQkX6MJ8Zq4C35/w0vIPhl9PuQP9fFYvwm5GsBwf/e7wew1nYCAyFfiz315+t8JsTrANDG3hGH3QTrb8L8N7ZY/XeGfB1OBlbnP3erCBL0sK/D0BgbCP9ajEqLjEe3iuB/mQ+zd6uKMHwPuNUYs5pg9f1HCH5B/RDwCP4n/r8hxPk0sMIYEwNeAH5mrc0aYx4C/kSQ5H5ygjE+AdxsjBkAtgGXWWs7JxDj88As4J+NMYNrZf4OuCmkfhSr/yrgxhD78Avg+8aYBwn+kfr7fLvDvBbFYmwi3GsxVLl/nsL+WSrpc2aMeYzxf86HxvgwwRD8L4wxfQR3AK4guCtmzDGstXeZYO3Qo+zt/wZCvA7DxGgl/J8lQzDNMmhwOiysa7Gnfmutb4z5GCFdh7wbgJX570GM4N+SxwnvWhSrfx3hXocXga8YYz5DMFLzUeAQwr0OxWIcR7jXYlTaqkFERESmHU1RiYiIyLSjBEdERESmHSU4IiIiMu0owREREZFpRwmOiIiITDtKcESk4owxHzLG/N8Q6knkbwXGGPN/jDEfn3jrRGQ6UIIjIgeyecDHJrsRIjL16Dk4IlJxJtiH6mhgC/BXBA/I+5G19iZjzK1AimBPnvnAh6y1TxpjPgr8/wRPeB0Afkyw+/VfEuwF5RLsrhwDZgP/bK29s3K9EpGpRCM4IjJZjiBITs7I/7nEGGPyxzZaay8g2ET0MmNME/BZgoTmfPbunfNV4Hlr7Zfzr7dYa99I8FTnT1SmGyIyFWmrBhGZLMsJtpj4ff71LOCo/NdP5f/eRJDUHEWQyPQC5B/tXszgpoTbCPadEpEZSiM4IjJZngbWAufmN+W7lb2b7Q2dO28BjjbGVBljXGBw88Ec+/47pjl3EQE0giMik8cCu4DVxpg4wUaPW4oWtHanMeZfCHY53g1UAWlgBxDLH+urSKtF5ICgRcYiMuUZYyLAZ621X82/fhD4J2vtg5PbMhGZqjSCIyJTnrU2Y4ypNsY8SXAH1f8SjOaIiBSlERwRERGZdrTIWERERKYdJTgiIiIy7SjBERERkWlHCY6IiIhMO0pwREREZNr5fyfasNuGNINiAAAAAElFTkSuQmCC%0A)"
      ],
      "id": "Hg0dH71aIqt3"
    },
    {
      "cell_type": "markdown",
      "metadata": {
        "id": "xnABPZC3Iqt8"
      },
      "source": [
        "The average length of ham messages is about 40 characters while that of\n",
        "spam messages is 160. It is a big difference, so length could be a good\n",
        "feature to classify message labels."
      ],
      "id": "xnABPZC3Iqt8"
    },
    {
      "cell_type": "markdown",
      "metadata": {
        "id": "zDq2Dv-BIqt9"
      },
      "source": [
        "Part 3 - Create Model<a href=\"#Part-3---Create-Model\" class=\"anchor-link\">¶</a>\n",
        "==============================================================================="
      ],
      "id": "zDq2Dv-BIqt9"
    },
    {
      "cell_type": "markdown",
      "metadata": {
        "id": "ckB4KNRQIqt9"
      },
      "source": [
        "Text Pre-processing<a href=\"#Text-Pre-processing\" class=\"anchor-link\">¶</a>\n",
        "---------------------------------------------------------------------------"
      ],
      "id": "ckB4KNRQIqt9"
    },
    {
      "cell_type": "markdown",
      "metadata": {
        "id": "0mEE2fpHIqt-"
      },
      "source": [
        "Before vectorizing the messages, I will clean them to get the words I\n",
        "actually want by removing punctuation and stop words (i.e. \"the\", \"a\",\n",
        "\"to\"...). This process is called tokenization. I will need to use the\n",
        "NLTK library to do this step."
      ],
      "id": "0mEE2fpHIqt-"
    },
    {
      "cell_type": "markdown",
      "metadata": {
        "id": "wLFZj66lIqt-"
      },
      "source": [
        "In \\[13\\]:\n",
        "\n",
        "    import string\n",
        "    import nltk\n",
        "    from nltk.corpus import stopwords\n",
        "    # nltk.download_shell() #download stopwords"
      ],
      "id": "wLFZj66lIqt-"
    },
    {
      "cell_type": "markdown",
      "metadata": {
        "id": "fkELKuSdIqt-"
      },
      "source": [
        "In \\[14\\]:\n",
        "\n",
        "    def text_preprocess(text):\n",
        "        \"\"\"\n",
        "        1. Remove punctuation in the text\n",
        "        2. Remove stop words in the text\n",
        "        3. Return a list of words in the text\n",
        "        \"\"\"\n",
        "        remove_punctuation = \"\".join([c for c in text if c not in string.punctuation])\n",
        "        remove_stopwords = [word for word in remove_punctuation.split() if word not in stopwords.words('english')]\n",
        "        \n",
        "        return remove_stopwords"
      ],
      "id": "fkELKuSdIqt-"
    },
    {
      "cell_type": "markdown",
      "metadata": {
        "id": "Ymr3rmv-Iqt_"
      },
      "source": [
        "In \\[15\\]:\n",
        "\n",
        "    sms['message'].head(5)\n",
        "\n",
        "Out\\[15\\]:\n",
        "\n",
        "    0    Go until jurong point, crazy.. Available only ...\n",
        "    1                        Ok lar... Joking wif u oni...\n",
        "    2    Free entry in 2 a wkly comp to win FA Cup fina...\n",
        "    3    U dun say so early hor... U c already then say...\n",
        "    4    Nah I don't think he goes to usf, he lives aro...\n",
        "    Name: message, dtype: object"
      ],
      "id": "Ymr3rmv-Iqt_"
    },
    {
      "cell_type": "markdown",
      "metadata": {
        "id": "nLbcsd-mIqt_"
      },
      "source": [
        "In \\[16\\]:\n",
        "\n",
        "    # Let's check the function\n",
        "    sms['message'].head(5).apply(text_preprocess)\n",
        "\n",
        "Out\\[16\\]:\n",
        "\n",
        "    0    [Go, jurong, point, crazy, Available, bugis, n...\n",
        "    1                       [Ok, lar, Joking, wif, u, oni]\n",
        "    2    [Free, entry, 2, wkly, comp, win, FA, Cup, fin...\n",
        "    3        [U, dun, say, early, hor, U, c, already, say]\n",
        "    4    [Nah, I, dont, think, goes, usf, lives, around...\n",
        "    Name: message, dtype: object"
      ],
      "id": "nLbcsd-mIqt_"
    },
    {
      "cell_type": "markdown",
      "metadata": {
        "id": "mgZPDenFIquA"
      },
      "source": [
        "Create Model<a href=\"#Create-Model\" class=\"anchor-link\">¶</a>\n",
        "-------------------------------------------------------------"
      ],
      "id": "mgZPDenFIquA"
    },
    {
      "cell_type": "markdown",
      "metadata": {
        "id": "hk32cqssIquA"
      },
      "source": [
        "In this step I will create a pipeline, in which:\n",
        "\n",
        "-   first, I use **CountVectorizer** convert text messages into a matrix\n",
        "    of token counts, where one dimension is all the words in the data,\n",
        "    and the other is all the messages,\n",
        "-   then, I calculate **term frequency-inverse document frequency\n",
        "    (TF-IDF)**, which measures the importance of each word to each\n",
        "    message in the whole data,\n",
        "-   finally, I use Naive Bayes classifier model to train and predict the\n",
        "    data.\n",
        "\n",
        "But first, let's split the data into train and test data."
      ],
      "id": "hk32cqssIquA"
    },
    {
      "cell_type": "markdown",
      "metadata": {
        "id": "r1f3jKYWIquB"
      },
      "source": [
        "### Train Test Split<a href=\"#Train-Test-Split\" class=\"anchor-link\">¶</a>"
      ],
      "id": "r1f3jKYWIquB"
    },
    {
      "cell_type": "markdown",
      "metadata": {
        "id": "3nF-NeVLIquB"
      },
      "source": [
        "In \\[17\\]:\n",
        "\n",
        "    from sklearn.model_selection import train_test_split\n",
        "\n",
        "    X = sms['message']\n",
        "    y= sms['label']\n",
        "\n",
        "    X_train, X_test, y_train, y_test = train_test_split(\n",
        "        X, y, test_size=0.33, random_state=42)"
      ],
      "id": "3nF-NeVLIquB"
    },
    {
      "cell_type": "markdown",
      "metadata": {
        "id": "yEtfpAb-IquC"
      },
      "source": [
        "### Create pipeline<a href=\"#Create-pipeline\" class=\"anchor-link\">¶</a>"
      ],
      "id": "yEtfpAb-IquC"
    },
    {
      "cell_type": "markdown",
      "metadata": {
        "id": "yq79xERXIquC"
      },
      "source": [
        "In \\[18\\]:\n",
        "\n",
        "    from sklearn.pipeline import Pipeline\n",
        "    from sklearn.feature_extraction.text import CountVectorizer\n",
        "    from sklearn.feature_extraction.text import TfidfTransformer\n",
        "    from sklearn.naive_bayes import MultinomialNB\n",
        "\n",
        "    pipeline = Pipeline([\n",
        "        ('vectorize', CountVectorizer(analyzer=text_preprocess)),\n",
        "        ('tfidf', TfidfTransformer()),\n",
        "        ('NBclassifier', MultinomialNB())\n",
        "    ])"
      ],
      "id": "yq79xERXIquC"
    },
    {
      "cell_type": "markdown",
      "metadata": {
        "id": "ezjkSVJFIquD"
      },
      "source": [
        "### Train the model<a href=\"#Train-the-model\" class=\"anchor-link\">¶</a>"
      ],
      "id": "ezjkSVJFIquD"
    },
    {
      "cell_type": "markdown",
      "metadata": {
        "id": "ZAYSf7lIIquD"
      },
      "source": [
        "In \\[19\\]:\n",
        "\n",
        "    pipeline.fit(X_train, y_train)\n",
        "\n",
        "Out\\[19\\]:\n",
        "\n",
        "    Pipeline(memory=None,\n",
        "             steps=[('vectorize',\n",
        "                     CountVectorizer(analyzer=<function text_preprocess at 0x000002BEB44C6558>,\n",
        "                                     binary=False, decode_error='strict',\n",
        "                                     dtype=<class 'numpy.int64'>, encoding='utf-8',\n",
        "                                     input='content', lowercase=True, max_df=1.0,\n",
        "                                     max_features=None, min_df=1,\n",
        "                                     ngram_range=(1, 1), preprocessor=None,\n",
        "                                     stop_words=None, strip_accents=None,\n",
        "                                     token_pattern='(?u)\\\\b\\\\w\\\\w+\\\\b',\n",
        "                                     tokenizer=None, vocabulary=None)),\n",
        "                    ('tfidf',\n",
        "                     TfidfTransformer(norm='l2', smooth_idf=True,\n",
        "                                      sublinear_tf=False, use_idf=True)),\n",
        "                    ('NBclassifier',\n",
        "                     MultinomialNB(alpha=1.0, class_prior=None, fit_prior=True))],\n",
        "             verbose=False)"
      ],
      "id": "ZAYSf7lIIquD"
    },
    {
      "cell_type": "markdown",
      "metadata": {
        "id": "sJFcvvkWIquE"
      },
      "source": [
        "In \\[20\\]:\n",
        "\n",
        "    y_pred = pipeline.predict(X_test)"
      ],
      "id": "sJFcvvkWIquE"
    },
    {
      "cell_type": "markdown",
      "metadata": {
        "id": "P5noJIEbIquE"
      },
      "source": [
        "Evaluate the model<a href=\"#Evaluate-the-model\" class=\"anchor-link\">¶</a>\n",
        "-------------------------------------------------------------------------"
      ],
      "id": "P5noJIEbIquE"
    },
    {
      "cell_type": "markdown",
      "metadata": {
        "id": "UqDnz-J-IquE"
      },
      "source": [
        "In \\[21\\]:\n",
        "\n",
        "    from sklearn.metrics import confusion_matrix, classification_report\n",
        "\n",
        "    print(f\"\"\"\n",
        "    Confusion Matrix:\n",
        "    {confusion_matrix(y_test, y_pred)}\n",
        "\n",
        "    Classification Report:\n",
        "    {classification_report(y_test, y_pred)}\n",
        "    \"\"\")\n",
        "\n",
        "    Confusion Matrix:\n",
        "    [[1593    0]\n",
        "     [  66  180]]\n",
        "\n",
        "    Classification Report:\n",
        "                  precision    recall  f1-score   support\n",
        "\n",
        "             ham       0.96      1.00      0.98      1593\n",
        "            spam       1.00      0.73      0.85       246\n",
        "\n",
        "        accuracy                           0.96      1839\n",
        "       macro avg       0.98      0.87      0.91      1839\n",
        "    weighted avg       0.97      0.96      0.96      1839"
      ],
      "id": "UqDnz-J-IquE"
    },
    {
      "cell_type": "markdown",
      "metadata": {
        "id": "uqMRk1woIquF"
      },
      "source": [
        "There are 66 messages that the model fails to predict as spam in the\n",
        "total of 246 spam messages in the dataset. It does not misclassify any\n",
        "normal messages as spam. The overall accuracy rate is 96%."
      ],
      "id": "uqMRk1woIquF"
    },
    {
      "cell_type": "markdown",
      "metadata": {
        "id": "FptFUrt6IquF"
      },
      "source": [
        "Part 4 - Conclusion<a href=\"#Part-4---Conclusion\" class=\"anchor-link\">¶</a>\n",
        "==========================================================================="
      ],
      "id": "FptFUrt6IquF"
    },
    {
      "cell_type": "markdown",
      "metadata": {
        "id": "9OPZ27sDIquG"
      },
      "source": [
        "Before using machine learning techniques to identify spam messages, I\n",
        "cleaned the dataset of 5572 messages obtained from UCI Machine Learning\n",
        "Repository by removing punctuation and stop words in each message. Then\n",
        "I created a pipeline that vectorized the text messages, calculated\n",
        "TF-IDF of each vector, and train the data with Naive Bayes algorithm.\n",
        "The model obtains the accuracy rate of 96% overall.\n",
        "\n",
        "There are a lot of approaches to process, tokenize and train text data.\n",
        "What I covered in this project are just some basic techniques to get me\n",
        "to know Natural Language Processing.\n",
        "\n",
        "\n",
        "**Reference:**\n",
        "\n",
        "[**Python for Data Science and Machine Learning Course by Jose Portilla\n",
        "on\n",
        "Udemy**](https://www.udemy.com/python-for-data-science-and-machine-learning-bootcamp/)"
      ],
      "id": "9OPZ27sDIquG"
    }
  ]
}