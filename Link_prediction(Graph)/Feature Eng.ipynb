{
 "cells": [
  {
   "cell_type": "markdown",
   "metadata": {},
   "source": [
    "### Feature Engineering"
   ]
  },
  {
   "cell_type": "code",
   "execution_count": 1,
   "metadata": {},
   "outputs": [],
   "source": [
    "import pandas as pd\n",
    "import numpy as np\n",
    "import matplotlib.pyplot as plt\n",
    "import seaborn as sns\n",
    "from multiprocessing import cpu_count\n",
    "import networkx as ntx\n",
    "import csv\n",
    "from tqdm import tqdm, tqdm_notebook, tqdm_pandas\n",
    "from sklearn.externals import joblib\n",
    "from collections import defaultdict, Counter\n",
    "from multiprocessing import Pool\n",
    "from scipy.sparse.linalg import svds"
   ]
  },
  {
   "cell_type": "code",
   "execution_count": 2,
   "metadata": {},
   "outputs": [],
   "source": [
    "plt.style.use('ggplot')\n",
    "%config InlineBackend.figure_format = 'retina'"
   ]
  },
  {
   "cell_type": "markdown",
   "metadata": {},
   "source": [
    "#  Loading the dataset"
   ]
  },
  {
   "cell_type": "code",
   "execution_count": 3,
   "metadata": {},
   "outputs": [
    {
     "name": "stdout",
     "output_type": "stream",
     "text": [
      "cleaned_df.csv\t    pairs.p\t\t  Xtest.csv\t       ytrain.npy\r\n",
      "data_no_header.csv  pr.p\t\t  Xtrain.csv\r\n",
      "hits.p\t\t    sample_no_header.csv  Xtrain_featured.csv\r\n",
      "katz.p\t\t    train.csv\t\t  ytest.npy\r\n"
     ]
    }
   ],
   "source": [
    "!ls dataset/"
   ]
  },
  {
   "cell_type": "code",
   "execution_count": 4,
   "metadata": {},
   "outputs": [
    {
     "name": "stdout",
     "output_type": "stream",
     "text": [
      "9437520\r\n"
     ]
    }
   ],
   "source": [
    "!cat ./dataset/train.csv | wc -l"
   ]
  },
  {
   "cell_type": "code",
   "execution_count": 5,
   "metadata": {},
   "outputs": [
    {
     "data": {
      "text/plain": [
       "16"
      ]
     },
     "execution_count": 5,
     "metadata": {},
     "output_type": "execute_result"
    }
   ],
   "source": [
    "cpu_count()"
   ]
  },
  {
   "cell_type": "code",
   "execution_count": 6,
   "metadata": {},
   "outputs": [
    {
     "name": "stdout",
     "output_type": "stream",
     "text": [
      "source_node,destination_node\r",
      "\r\n",
      "1,690569\r",
      "\r\n",
      "1,315892\r",
      "\r\n",
      "1,189226\r",
      "\r\n",
      "2,834328\r",
      "\r\n"
     ]
    }
   ],
   "source": [
    "!head -n 5 ./dataset/train.csv"
   ]
  },
  {
   "cell_type": "code",
   "execution_count": 7,
   "metadata": {},
   "outputs": [],
   "source": [
    "data = pd.read_csv('./dataset/train.csv')"
   ]
  },
  {
   "cell_type": "code",
   "execution_count": 8,
   "metadata": {},
   "outputs": [
    {
     "data": {
      "text/plain": [
       "(9437519, 2)"
      ]
     },
     "execution_count": 8,
     "metadata": {},
     "output_type": "execute_result"
    }
   ],
   "source": [
    "data.shape"
   ]
  },
  {
   "cell_type": "code",
   "execution_count": 9,
   "metadata": {},
   "outputs": [
    {
     "data": {
      "text/plain": [
       "Index(['source_node', 'destination_node'], dtype='object')"
      ]
     },
     "execution_count": 9,
     "metadata": {},
     "output_type": "execute_result"
    }
   ],
   "source": [
    "data.columns"
   ]
  },
  {
   "cell_type": "code",
   "execution_count": 10,
   "metadata": {},
   "outputs": [
    {
     "name": "stdout",
     "output_type": "stream",
     "text": [
      "Number of Followers: 1587708\n"
     ]
    }
   ],
   "source": [
    "print('Number of Followers:', data.source_node.unique().shape[0])"
   ]
  },
  {
   "cell_type": "code",
   "execution_count": 11,
   "metadata": {},
   "outputs": [
    {
     "name": "stdout",
     "output_type": "stream",
     "text": [
      "Number of Followees: 1674177\n"
     ]
    }
   ],
   "source": [
    "print('Number of Followees:', data.destination_node.unique().shape[0])"
   ]
  },
  {
   "cell_type": "code",
   "execution_count": 12,
   "metadata": {},
   "outputs": [
    {
     "data": {
      "text/html": [
       "<div>\n",
       "<style scoped>\n",
       "    .dataframe tbody tr th:only-of-type {\n",
       "        vertical-align: middle;\n",
       "    }\n",
       "\n",
       "    .dataframe tbody tr th {\n",
       "        vertical-align: top;\n",
       "    }\n",
       "\n",
       "    .dataframe thead th {\n",
       "        text-align: right;\n",
       "    }\n",
       "</style>\n",
       "<table border=\"1\" class=\"dataframe\">\n",
       "  <thead>\n",
       "    <tr style=\"text-align: right;\">\n",
       "      <th></th>\n",
       "      <th>source_node</th>\n",
       "      <th>destination_node</th>\n",
       "    </tr>\n",
       "  </thead>\n",
       "  <tbody>\n",
       "    <tr>\n",
       "      <th>0</th>\n",
       "      <td>1</td>\n",
       "      <td>690569</td>\n",
       "    </tr>\n",
       "    <tr>\n",
       "      <th>1</th>\n",
       "      <td>1</td>\n",
       "      <td>315892</td>\n",
       "    </tr>\n",
       "    <tr>\n",
       "      <th>2</th>\n",
       "      <td>1</td>\n",
       "      <td>189226</td>\n",
       "    </tr>\n",
       "    <tr>\n",
       "      <th>3</th>\n",
       "      <td>2</td>\n",
       "      <td>834328</td>\n",
       "    </tr>\n",
       "    <tr>\n",
       "      <th>4</th>\n",
       "      <td>2</td>\n",
       "      <td>1615927</td>\n",
       "    </tr>\n",
       "  </tbody>\n",
       "</table>\n",
       "</div>"
      ],
      "text/plain": [
       "   source_node  destination_node\n",
       "0            1            690569\n",
       "1            1            315892\n",
       "2            1            189226\n",
       "3            2            834328\n",
       "4            2           1615927"
      ]
     },
     "execution_count": 12,
     "metadata": {},
     "output_type": "execute_result"
    }
   ],
   "source": [
    "data.head()"
   ]
  },
  {
   "cell_type": "code",
   "execution_count": 13,
   "metadata": {},
   "outputs": [],
   "source": [
    "data.to_csv('./dataset/data_no_header.csv', header=False, index=False)"
   ]
  },
  {
   "cell_type": "code",
   "execution_count": 14,
   "metadata": {},
   "outputs": [
    {
     "name": "stdout",
     "output_type": "stream",
     "text": [
      "1,690569\r\n",
      "1,315892\r\n",
      "1,189226\r\n",
      "2,834328\r\n",
      "2,1615927\r\n"
     ]
    }
   ],
   "source": [
    "!head -n 5 ./dataset/data_no_header.csv"
   ]
  },
  {
   "cell_type": "markdown",
   "metadata": {},
   "source": [
    "# 1. Exploration"
   ]
  },
  {
   "cell_type": "code",
   "execution_count": 8,
   "metadata": {},
   "outputs": [
    {
     "name": "stdout",
     "output_type": "stream",
     "text": [
      "CPU times: user 1min 9s, sys: 2.58 s, total: 1min 11s\n",
      "Wall time: 1min 11s\n"
     ]
    }
   ],
   "source": [
    "%%time\n",
    "g = ntx.read_edgelist('./dataset/data_no_header.csv',\n",
    "                     delimiter=',',\n",
    "                     create_using=ntx.DiGraph(),\n",
    "                     nodetype=int)"
   ]
  },
  {
   "cell_type": "code",
   "execution_count": 16,
   "metadata": {},
   "outputs": [
    {
     "name": "stdout",
     "output_type": "stream",
     "text": [
      "Name: \n",
      "Type: DiGraph\n",
      "Number of nodes: 1862220\n",
      "Number of edges: 9437519\n",
      "Average in degree:   5.0679\n",
      "Average out degree:   5.0679\n",
      "CPU times: user 3.43 s, sys: 0 ns, total: 3.43 s\n",
      "Wall time: 3.43 s\n"
     ]
    }
   ],
   "source": [
    "%%time\n",
    "print(ntx.info(g))"
   ]
  },
  {
   "cell_type": "code",
   "execution_count": 17,
   "metadata": {},
   "outputs": [],
   "source": [
    "data.head(50).to_csv(\n",
    "    './dataset/sample_no_header.csv',\n",
    "    header=False, index=False)"
   ]
  },
  {
   "cell_type": "code",
   "execution_count": 18,
   "metadata": {},
   "outputs": [],
   "source": [
    "subgraph = ntx.read_edgelist(\n",
    "    './dataset/sample_no_header.csv',\n",
    "    delimiter=',',\n",
    "    create_using=ntx.DiGraph(),\n",
    "    nodetype=int)"
   ]
  },
  {
   "cell_type": "code",
   "execution_count": 19,
   "metadata": {},
   "outputs": [
    {
     "data": {
      "image/png": "[encoded data removed]",
      "text/plain": [
       "<Figure size 576x432 with 1 Axes>"
      ]
     },
     "metadata": {
      "image/png": {
       "height": 358,
       "width": 493
      }
     },
     "output_type": "display_data"
    }
   ],
   "source": [
    "fig, ax = plt.subplots(1, 1, figsize=(8, 6));\n",
    "ntx.draw_networkx(subgraph, ax=ax)"
   ]
  },
  {
   "cell_type": "code",
   "execution_count": 20,
   "metadata": {},
   "outputs": [
    {
     "name": "stdout",
     "output_type": "stream",
     "text": [
      "Number of unique nodes: 1862220\n"
     ]
    }
   ],
   "source": [
    "print('Number of unique nodes:', len(g.nodes()))"
   ]
  },
  {
   "cell_type": "markdown",
   "metadata": {},
   "source": [
    "### Generating some edges which are not present in graph for supervised learning"
   ]
  },
  {
   "cell_type": "code",
   "execution_count": 23,
   "metadata": {},
   "outputs": [],
   "source": [
    "# ckpts = np.arange(1, 9437519, 1000)"
   ]
  },
  {
   "cell_type": "code",
   "execution_count": null,
   "metadata": {
    "scrolled": true
   },
   "outputs": [],
   "source": [
    "%%time\n",
    "with open('./dataset/data_no_header.csv', 'r') as fin:\n",
    "    edge_file = csv.reader(fin)\n",
    "    edges = dict()\n",
    "    for each_edge in edge_file:\n",
    "        edges[(each_edge[0], each_edge[1])] = 1\n",
    "    missing_edges = set([])\n",
    "    while len(missing_edges) < 9437519:\n",
    "#         if len(missing_edges) in ckpts:\n",
    "#             print(len(missing_edges))\n",
    "        a, b = np.random.randint(low=1, high=1862221, size=(2,))\n",
    "        if a == b:\n",
    "            # One in a million chance to get a and b same\n",
    "            continue\n",
    "        # Check if the there is already a edge between these nodes\n",
    "        isLinked = edges.get((a, b), 0)\n",
    "        if not isLinked:\n",
    "            try:\n",
    "                spl = ntx.shortest_path_length(g, source=a, target=b)\n",
    "                if spl > 2:\n",
    "                    # If there is edge but it length is more than 2\n",
    "                    missing_edges.add((a, b))\n",
    "                else:\n",
    "                    continue\n",
    "            except ntx.NetworkXNoPath:\n",
    "                # If there is no edge between nodes\n",
    "                missing_edges.add((a, b))\n",
    "        else:\n",
    "            continue"
   ]
  },
  {
   "cell_type": "markdown",
   "metadata": {},
   "source": [
    "```\n",
    "CPU times: user 2h 29min 6s, sys: 2min 59s, total: 2h 32min 6s\n",
    "Wall time: 2h 44min 34s\n",
    "```"
   ]
  },
  {
   "cell_type": "code",
   "execution_count": 25,
   "metadata": {},
   "outputs": [
    {
     "data": {
      "text/plain": [
       "9437519"
      ]
     },
     "execution_count": 25,
     "metadata": {},
     "output_type": "execute_result"
    }
   ],
   "source": [
    "len(missing_edges)"
   ]
  },
  {
   "cell_type": "code",
   "execution_count": 26,
   "metadata": {},
   "outputs": [
    {
     "data": {
      "text/plain": [
       "9437519"
      ]
     },
     "execution_count": 26,
     "metadata": {},
     "output_type": "execute_result"
    }
   ],
   "source": [
    "len(edges)"
   ]
  },
  {
   "cell_type": "code",
   "execution_count": 27,
   "metadata": {},
   "outputs": [],
   "source": [
    "assert(len(missing_edges) == len(edges))"
   ]
  },
  {
   "cell_type": "code",
   "execution_count": 30,
   "metadata": {},
   "outputs": [
    {
     "name": "stderr",
     "output_type": "stream",
     "text": [
      "100%|██████████| 9437519/9437519 [00:14<00:00, 671052.42it/s] \n"
     ]
    }
   ],
   "source": [
    "for each in tqdm(missing_edges):\n",
    "    edges[(each[0], each[1])] = 0"
   ]
  },
  {
   "cell_type": "code",
   "execution_count": 36,
   "metadata": {},
   "outputs": [],
   "source": [
    "assert(len(edges) == len(missing_edges) * 2)"
   ]
  },
  {
   "cell_type": "code",
   "execution_count": 39,
   "metadata": {},
   "outputs": [],
   "source": [
    "data = defaultdict(list)"
   ]
  },
  {
   "cell_type": "code",
   "execution_count": 40,
   "metadata": {},
   "outputs": [],
   "source": [
    "for node, isedge in edges.items():\n",
    "    data['node1'].append(node[0])\n",
    "    data['node2'].append(node[1])\n",
    "    data['edge'].append(isedge)"
   ]
  },
  {
   "cell_type": "code",
   "execution_count": 42,
   "metadata": {},
   "outputs": [],
   "source": [
    "df = pd.DataFrame.from_dict(data)"
   ]
  },
  {
   "cell_type": "code",
   "execution_count": 43,
   "metadata": {},
   "outputs": [
    {
     "data": {
      "text/html": [
       "<div>\n",
       "<style scoped>\n",
       "    .dataframe tbody tr th:only-of-type {\n",
       "        vertical-align: middle;\n",
       "    }\n",
       "\n",
       "    .dataframe tbody tr th {\n",
       "        vertical-align: top;\n",
       "    }\n",
       "\n",
       "    .dataframe thead th {\n",
       "        text-align: right;\n",
       "    }\n",
       "</style>\n",
       "<table border=\"1\" class=\"dataframe\">\n",
       "  <thead>\n",
       "    <tr style=\"text-align: right;\">\n",
       "      <th></th>\n",
       "      <th>node1</th>\n",
       "      <th>node2</th>\n",
       "      <th>edge</th>\n",
       "    </tr>\n",
       "  </thead>\n",
       "  <tbody>\n",
       "    <tr>\n",
       "      <th>0</th>\n",
       "      <td>1</td>\n",
       "      <td>690569</td>\n",
       "      <td>1</td>\n",
       "    </tr>\n",
       "    <tr>\n",
       "      <th>1</th>\n",
       "      <td>1</td>\n",
       "      <td>315892</td>\n",
       "      <td>1</td>\n",
       "    </tr>\n",
       "    <tr>\n",
       "      <th>2</th>\n",
       "      <td>1</td>\n",
       "      <td>189226</td>\n",
       "      <td>1</td>\n",
       "    </tr>\n",
       "    <tr>\n",
       "      <th>3</th>\n",
       "      <td>2</td>\n",
       "      <td>834328</td>\n",
       "      <td>1</td>\n",
       "    </tr>\n",
       "    <tr>\n",
       "      <th>4</th>\n",
       "      <td>2</td>\n",
       "      <td>1615927</td>\n",
       "      <td>1</td>\n",
       "    </tr>\n",
       "  </tbody>\n",
       "</table>\n",
       "</div>"
      ],
      "text/plain": [
       "  node1    node2  edge\n",
       "0     1   690569     1\n",
       "1     1   315892     1\n",
       "2     1   189226     1\n",
       "3     2   834328     1\n",
       "4     2  1615927     1"
      ]
     },
     "execution_count": 43,
     "metadata": {},
     "output_type": "execute_result"
    }
   ],
   "source": [
    "df.head()"
   ]
  },
  {
   "cell_type": "code",
   "execution_count": 44,
   "metadata": {},
   "outputs": [
    {
     "data": {
      "text/plain": [
       "(18875038, 3)"
      ]
     },
     "execution_count": 44,
     "metadata": {},
     "output_type": "execute_result"
    }
   ],
   "source": [
    "df.shape"
   ]
  },
  {
   "cell_type": "code",
   "execution_count": 45,
   "metadata": {},
   "outputs": [
    {
     "data": {
      "text/plain": [
       "array([1, 0])"
      ]
     },
     "execution_count": 45,
     "metadata": {},
     "output_type": "execute_result"
    }
   ],
   "source": [
    "df.edge.unique()"
   ]
  },
  {
   "cell_type": "markdown",
   "metadata": {},
   "source": [
    "### Checkpoint"
   ]
  },
  {
   "cell_type": "code",
   "execution_count": 47,
   "metadata": {},
   "outputs": [],
   "source": [
    "df.to_csv('./dataset/cleaned_df.csv', index=False)"
   ]
  },
  {
   "cell_type": "markdown",
   "metadata": {},
   "source": [
    "### Load the dataset"
   ]
  },
  {
   "cell_type": "code",
   "execution_count": 22,
   "metadata": {},
   "outputs": [],
   "source": [
    "df = pd.read_csv('./dataset/cleaned_df.csv')"
   ]
  },
  {
   "cell_type": "code",
   "execution_count": 23,
   "metadata": {},
   "outputs": [
    {
     "data": {
      "text/html": [
       "<div>\n",
       "<style scoped>\n",
       "    .dataframe tbody tr th:only-of-type {\n",
       "        vertical-align: middle;\n",
       "    }\n",
       "\n",
       "    .dataframe tbody tr th {\n",
       "        vertical-align: top;\n",
       "    }\n",
       "\n",
       "    .dataframe thead th {\n",
       "        text-align: right;\n",
       "    }\n",
       "</style>\n",
       "<table border=\"1\" class=\"dataframe\">\n",
       "  <thead>\n",
       "    <tr style=\"text-align: right;\">\n",
       "      <th></th>\n",
       "      <th>node1</th>\n",
       "      <th>node2</th>\n",
       "      <th>edge</th>\n",
       "    </tr>\n",
       "  </thead>\n",
       "  <tbody>\n",
       "    <tr>\n",
       "      <th>0</th>\n",
       "      <td>1</td>\n",
       "      <td>690569</td>\n",
       "      <td>1</td>\n",
       "    </tr>\n",
       "    <tr>\n",
       "      <th>1</th>\n",
       "      <td>1</td>\n",
       "      <td>315892</td>\n",
       "      <td>1</td>\n",
       "    </tr>\n",
       "    <tr>\n",
       "      <th>2</th>\n",
       "      <td>1</td>\n",
       "      <td>189226</td>\n",
       "      <td>1</td>\n",
       "    </tr>\n",
       "    <tr>\n",
       "      <th>3</th>\n",
       "      <td>2</td>\n",
       "      <td>834328</td>\n",
       "      <td>1</td>\n",
       "    </tr>\n",
       "    <tr>\n",
       "      <th>4</th>\n",
       "      <td>2</td>\n",
       "      <td>1615927</td>\n",
       "      <td>1</td>\n",
       "    </tr>\n",
       "  </tbody>\n",
       "</table>\n",
       "</div>"
      ],
      "text/plain": [
       "   node1    node2  edge\n",
       "0      1   690569     1\n",
       "1      1   315892     1\n",
       "2      1   189226     1\n",
       "3      2   834328     1\n",
       "4      2  1615927     1"
      ]
     },
     "execution_count": 23,
     "metadata": {},
     "output_type": "execute_result"
    }
   ],
   "source": [
    "df.head()"
   ]
  },
  {
   "cell_type": "code",
   "execution_count": 24,
   "metadata": {},
   "outputs": [
    {
     "data": {
      "text/plain": [
       "(18875038, 3)"
      ]
     },
     "execution_count": 24,
     "metadata": {},
     "output_type": "execute_result"
    }
   ],
   "source": [
    "df.shape"
   ]
  },
  {
   "cell_type": "markdown",
   "metadata": {},
   "source": [
    "### Splitting the dataset"
   ]
  },
  {
   "cell_type": "code",
   "execution_count": 25,
   "metadata": {},
   "outputs": [],
   "source": [
    "from sklearn.model_selection import train_test_split"
   ]
  },
  {
   "cell_type": "code",
   "execution_count": 26,
   "metadata": {},
   "outputs": [],
   "source": [
    "X_train, X_test, y_train, y_test = train_test_split(df[['node1', 'node2']], df.edge, \n",
    "                                                    random_state=42, test_size=0.2)"
   ]
  },
  {
   "cell_type": "code",
   "execution_count": 27,
   "metadata": {},
   "outputs": [
    {
     "data": {
      "text/plain": [
       "(15100030, 2)"
      ]
     },
     "execution_count": 27,
     "metadata": {},
     "output_type": "execute_result"
    }
   ],
   "source": [
    "X_train.shape"
   ]
  },
  {
   "cell_type": "code",
   "execution_count": 28,
   "metadata": {},
   "outputs": [
    {
     "data": {
      "text/plain": [
       "(3775008, 2)"
      ]
     },
     "execution_count": 28,
     "metadata": {},
     "output_type": "execute_result"
    }
   ],
   "source": [
    "X_test.shape"
   ]
  },
  {
   "cell_type": "code",
   "execution_count": 30,
   "metadata": {},
   "outputs": [
    {
     "data": {
      "text/plain": [
       "Counter({1: 7549166, 0: 7550864})"
      ]
     },
     "execution_count": 30,
     "metadata": {},
     "output_type": "execute_result"
    }
   ],
   "source": [
    "Counter(y_train)"
   ]
  },
  {
   "cell_type": "code",
   "execution_count": 31,
   "metadata": {},
   "outputs": [
    {
     "data": {
      "text/plain": [
       "Counter({1: 1888353, 0: 1886655})"
      ]
     },
     "execution_count": 31,
     "metadata": {},
     "output_type": "execute_result"
    }
   ],
   "source": [
    "Counter(y_test)"
   ]
  },
  {
   "cell_type": "markdown",
   "metadata": {},
   "source": [
    "### Checkpoint 2"
   ]
  },
  {
   "cell_type": "code",
   "execution_count": 44,
   "metadata": {},
   "outputs": [],
   "source": [
    "X_train.to_csv('./dataset/Xtrain.csv', index=False, header=False)\n",
    "X_test.to_csv('./dataset/Xtest.csv', index=False, header=False)\n",
    "np.save('./dataset/ytrain', y_train)\n",
    "np.save('./dataset/ytest', y_test)"
   ]
  },
  {
   "cell_type": "code",
   "execution_count": 10,
   "metadata": {},
   "outputs": [],
   "source": [
    "del g"
   ]
  },
  {
   "cell_type": "markdown",
   "metadata": {},
   "source": [
    "### Build the train_graph"
   ]
  },
  {
   "cell_type": "code",
   "execution_count": 6,
   "metadata": {},
   "outputs": [
    {
     "name": "stdout",
     "output_type": "stream",
     "text": [
      "CPU times: user 1min 46s, sys: 3.7 s, total: 1min 50s\n",
      "Wall time: 1min 50s\n"
     ]
    }
   ],
   "source": [
    "%%time\n",
    "train_g = ntx.read_edgelist('./dataset/Xtrain.csv',\n",
    "                     delimiter=',',\n",
    "                     create_using=ntx.DiGraph(),\n",
    "                     nodetype=int)"
   ]
  },
  {
   "cell_type": "markdown",
   "metadata": {},
   "source": [
    "# 2. Feature Engineering"
   ]
  },
  {
   "cell_type": "markdown",
   "metadata": {},
   "source": [
    "## 2.1 Neighbor-based Metrics"
   ]
  },
  {
   "cell_type": "markdown",
   "metadata": {},
   "source": [
    "### Common Neighbors"
   ]
  },
  {
   "cell_type": "markdown",
   "metadata": {},
   "source": [
    "$$\n",
    "CN(x, y) = |\\tau(x) \\cap \\tau(y)|\n",
    "$$"
   ]
  },
  {
   "cell_type": "code",
   "execution_count": 57,
   "metadata": {},
   "outputs": [],
   "source": [
    "def common_neighbors(x, y):\n",
    "#     if of == 'predecessor':\n",
    "    try:\n",
    "        return len(set(train_g.neighbors(x)).intersection(\n",
    "        set(train_g.neighbors(y))))\n",
    "    except:\n",
    "        return 0\n",
    "#     return len(set(train_g.successors(x)).intersection(\n",
    "#         set(train_g.successors(y))))"
   ]
  },
  {
   "cell_type": "code",
   "execution_count": 58,
   "metadata": {},
   "outputs": [
    {
     "name": "stdout",
     "output_type": "stream",
     "text": [
      "1\n",
      "0\n"
     ]
    }
   ],
   "source": [
    "print(common_neighbors(1, 189226))\n",
    "print(common_neighbors(273084, 1505602))"
   ]
  },
  {
   "cell_type": "markdown",
   "metadata": {},
   "source": [
    "### Jaccard Coefficient"
   ]
  },
  {
   "cell_type": "markdown",
   "metadata": {},
   "source": [
    "$$\n",
    "JC(x, y) = \\frac{|\\tau(x) \\cap \\tau(y)|}{|\\tau(x) \\cup \\tau(y)|}\n",
    "$$"
   ]
  },
  {
   "cell_type": "code",
   "execution_count": 59,
   "metadata": {},
   "outputs": [],
   "source": [
    "def jaccard_coefficient(x, y):\n",
    "    try:\n",
    "        intersect = common_neighbors(x, y)\n",
    "    #     if of == 'predecessor':\n",
    "        return intersect / len(set(train_g.neighbors(x)).union(\n",
    "            set(train_g.neighbors(y))))\n",
    "    except:\n",
    "        return 0\n",
    "#     return intersect / len(set(train_g.successors(x)).union(\n",
    "#         set(train_g.successors(y))))"
   ]
  },
  {
   "cell_type": "code",
   "execution_count": 60,
   "metadata": {},
   "outputs": [
    {
     "name": "stdout",
     "output_type": "stream",
     "text": [
      "0.125\n",
      "0.0\n"
     ]
    }
   ],
   "source": [
    "print(jaccard_coefficient(1, 189226))\n",
    "print(jaccard_coefficient(273084, 1505602))"
   ]
  },
  {
   "cell_type": "markdown",
   "metadata": {},
   "source": [
    "### Sørensen  Index"
   ]
  },
  {
   "cell_type": "markdown",
   "metadata": {},
   "source": [
    "$$\n",
    "SI(x, y) = \\frac{|\\tau(x) \\cap \\tau(y)|}{|\\tau(x)| + |\\tau(y)|}\n",
    "$$"
   ]
  },
  {
   "cell_type": "code",
   "execution_count": 63,
   "metadata": {},
   "outputs": [],
   "source": [
    "def sorensen_index(x, y):\n",
    "    try:\n",
    "        intersect = common_neighbors(x, y)\n",
    "    #     if of == 'predecessor':\n",
    "        return intersect / (len(set(train_g.neighbors(x))) + \\\n",
    "        len(set(train_g.neighbors(y))))\n",
    "    except:\n",
    "        return 0.0\n",
    "#     return intersect / (len(set(train_g.successors(x))) + \\\n",
    "#     len(set(train_g.successors(y))))"
   ]
  },
  {
   "cell_type": "code",
   "execution_count": 64,
   "metadata": {},
   "outputs": [
    {
     "name": "stdout",
     "output_type": "stream",
     "text": [
      "0.1111111111111111\n",
      "0.0\n"
     ]
    }
   ],
   "source": [
    "print(sorensen_index(1, 189226))\n",
    "print(sorensen_index(273084, 1505602))"
   ]
  },
  {
   "cell_type": "markdown",
   "metadata": {},
   "source": [
    "### Salton Cosine Similarity"
   ]
  },
  {
   "cell_type": "markdown",
   "metadata": {},
   "source": [
    "$$\n",
    "SC(x, y) = \\frac{|\\tau(x) \\cap \\tau(y)|}{\\sqrt{|\\tau(x)| * |\\tau(y)|}}\n",
    "$$"
   ]
  },
  {
   "cell_type": "code",
   "execution_count": 65,
   "metadata": {},
   "outputs": [],
   "source": [
    "def salton_cosine(x, y):\n",
    "    try:\n",
    "        intersect = common_neighbors(x, y)\n",
    "    #     if of == 'predecessor':\n",
    "        nx = len(set(train_g.neighbors(x)))\n",
    "        ny = len(set(train_g.neighbors(y)))\n",
    "        return intersect / np.sqrt(nx * ny)\n",
    "    except:\n",
    "        return 0.0\n",
    "#     nx = len(set(train_g.successors(x)))\n",
    "#     ny = len(set(train_g.successors(y)))\n",
    "#     return intersect / np.sqrt(nx * ny)"
   ]
  },
  {
   "cell_type": "code",
   "execution_count": 66,
   "metadata": {},
   "outputs": [
    {
     "name": "stdout",
     "output_type": "stream",
     "text": [
      "0.22360679774997896\n",
      "0.0\n"
     ]
    }
   ],
   "source": [
    "print(salton_cosine(1, 189226,))\n",
    "print(salton_cosine(273084, 1505602,))"
   ]
  },
  {
   "cell_type": "markdown",
   "metadata": {},
   "source": [
    "### Hub Promoted"
   ]
  },
  {
   "cell_type": "markdown",
   "metadata": {},
   "source": [
    "$$\n",
    "HP(x, y) = \\frac{|\\tau(x) \\cap \\tau(y)|}{\\min(|\\tau(x)|, |\\tau(y)|)}\n",
    "$$"
   ]
  },
  {
   "cell_type": "code",
   "execution_count": 67,
   "metadata": {},
   "outputs": [],
   "source": [
    "def hub_promoted(x, y):\n",
    "    try:\n",
    "        intersect = common_neighbors(x, y)\n",
    "        nx = len(set(train_g.neighbors(x)))\n",
    "        ny = len(set(train_g.neighbors(y)))\n",
    "        return intersect / (min(nx, ny) + 0.001)\n",
    "    except:\n",
    "        return 0.0"
   ]
  },
  {
   "cell_type": "code",
   "execution_count": 68,
   "metadata": {},
   "outputs": [
    {
     "name": "stdout",
     "output_type": "stream",
     "text": [
      "0.2499375156210947\n",
      "0.0\n"
     ]
    }
   ],
   "source": [
    "print(hub_promoted(1, 189226,))\n",
    "print(hub_promoted(273084, 1505602,))"
   ]
  },
  {
   "cell_type": "markdown",
   "metadata": {},
   "source": [
    "### Hub Depressed"
   ]
  },
  {
   "cell_type": "markdown",
   "metadata": {},
   "source": [
    "$$\n",
    "HD(x, y) = \\frac{|\\tau(x) \\cap \\tau(y)|}{\\max(|\\tau(x)|, |\\tau(y)|)}\n",
    "$$"
   ]
  },
  {
   "cell_type": "code",
   "execution_count": 69,
   "metadata": {},
   "outputs": [],
   "source": [
    "def hub_depressed(x, y):\n",
    "    try:\n",
    "        intersect = common_neighbors(x, y)\n",
    "        nx = len(set(train_g.neighbors(x)))\n",
    "        ny = len(set(train_g.neighbors(y)))\n",
    "        return intersect / (max(nx, ny) + 0.001)\n",
    "    except:\n",
    "        return 0"
   ]
  },
  {
   "cell_type": "code",
   "execution_count": 70,
   "metadata": {},
   "outputs": [
    {
     "name": "stdout",
     "output_type": "stream",
     "text": [
      "0.2499375156210947\n",
      "0.0\n"
     ]
    }
   ],
   "source": [
    "print(hub_promoted(1, 189226,))\n",
    "print(hub_promoted(273084, 1505602,))"
   ]
  },
  {
   "cell_type": "markdown",
   "metadata": {},
   "source": [
    "### Leicht-Holme-Nerman"
   ]
  },
  {
   "cell_type": "markdown",
   "metadata": {},
   "source": [
    "$$\n",
    "LHN(x, y) = \\frac{|\\tau(x) \\cap \\tau(y)|}{|\\tau(x)| * |\\tau(y)|)}\n",
    "$$"
   ]
  },
  {
   "cell_type": "code",
   "execution_count": 71,
   "metadata": {},
   "outputs": [],
   "source": [
    "def leicht_holme_nerman(x, y):\n",
    "    try:\n",
    "        intersect = common_neighbors(x, y)\n",
    "        nx = len(set(train_g.neighbors(x)))\n",
    "        ny = len(set(train_g.neighbors(y)))\n",
    "        return intersect / ((nx * ny) + 0.001)\n",
    "    except:\n",
    "        return 0"
   ]
  },
  {
   "cell_type": "code",
   "execution_count": 72,
   "metadata": {},
   "outputs": [
    {
     "name": "stdout",
     "output_type": "stream",
     "text": [
      "0.049997500124993745\n",
      "0.0\n"
     ]
    }
   ],
   "source": [
    "print(leicht_holme_nerman(1, 189226,))\n",
    "print(leicht_holme_nerman(273084, 1505602,))"
   ]
  },
  {
   "cell_type": "markdown",
   "metadata": {},
   "source": [
    "### Adamic-Adar Coefficient"
   ]
  },
  {
   "cell_type": "markdown",
   "metadata": {},
   "source": [
    "$$\n",
    "AA(x, y) = \\sum_{z \\in N(x) \\cap N(y)}\\frac{1}{log(|\\tau(z)|)}\n",
    "$$"
   ]
  },
  {
   "cell_type": "code",
   "execution_count": 73,
   "metadata": {},
   "outputs": [],
   "source": [
    "def adamic_index(x, y):\n",
    "    try:\n",
    "        nodes = set(train_g.successors(x)).intersection(\n",
    "            train_g.successors(y))\n",
    "        total = 0\n",
    "        for n in nodes:\n",
    "            total += 1 / np.log10(len(set(train_g.predecessors(n))))\n",
    "        return total\n",
    "    except:\n",
    "        return 0"
   ]
  },
  {
   "cell_type": "code",
   "execution_count": 74,
   "metadata": {},
   "outputs": [
    {
     "name": "stdout",
     "output_type": "stream",
     "text": [
      "0.6986344247631282\n",
      "0\n"
     ]
    }
   ],
   "source": [
    "print(adamic_index(1, 189226,))\n",
    "print(adamic_index(273084, 1505602,))"
   ]
  },
  {
   "cell_type": "markdown",
   "metadata": {},
   "source": [
    "### Preferential  Attachment"
   ]
  },
  {
   "cell_type": "markdown",
   "metadata": {},
   "source": [
    "$$\n",
    "PA(x, y) = |\\tau(x)| * |\\tau(y)|\n",
    "$$"
   ]
  },
  {
   "cell_type": "code",
   "execution_count": 75,
   "metadata": {},
   "outputs": [],
   "source": [
    "def preferential_attachment(x, y):\n",
    "    try:\n",
    "        return len(set(train_g.successors(x))) * len(\n",
    "            set(train_g.successors(y)))\n",
    "    except:\n",
    "        return 0"
   ]
  },
  {
   "cell_type": "code",
   "execution_count": 76,
   "metadata": {},
   "outputs": [
    {
     "name": "stdout",
     "output_type": "stream",
     "text": [
      "20\n",
      "180\n"
     ]
    }
   ],
   "source": [
    "print(preferential_attachment(1, 189226,))\n",
    "print(preferential_attachment(273084, 1505602,))"
   ]
  },
  {
   "cell_type": "markdown",
   "metadata": {},
   "source": [
    "### Resource Allocation"
   ]
  },
  {
   "cell_type": "markdown",
   "metadata": {},
   "source": [
    "$$\n",
    "RA(x, y) = \\sum_{z \\in N(x) \\cap N(y)}\\frac{1}{|N(z)|}\n",
    "$$"
   ]
  },
  {
   "cell_type": "code",
   "execution_count": 77,
   "metadata": {},
   "outputs": [],
   "source": [
    "def resource_allocation(x, y):\n",
    "    try:\n",
    "        nodes = set(train_g.successors(x)).intersection(\n",
    "            train_g.successors(y))\n",
    "        total = 0\n",
    "        for n in nodes:\n",
    "            total += 1 / len(set(train_g.predecessors(n)))\n",
    "        return total\n",
    "    except:\n",
    "        return 0"
   ]
  },
  {
   "cell_type": "code",
   "execution_count": 78,
   "metadata": {},
   "outputs": [
    {
     "name": "stdout",
     "output_type": "stream",
     "text": [
      "0.037037037037037035\n",
      "0\n"
     ]
    }
   ],
   "source": [
    "print(resource_allocation(1, 189226,))\n",
    "print(resource_allocation(273084, 1505602,))"
   ]
  },
  {
   "cell_type": "markdown",
   "metadata": {},
   "source": [
    "## 2.2 Path-based Metrics"
   ]
  },
  {
   "cell_type": "markdown",
   "metadata": {},
   "source": [
    "### Katz"
   ]
  },
  {
   "cell_type": "code",
   "execution_count": null,
   "metadata": {},
   "outputs": [],
   "source": [
    "katz = ntx.katz.katz_centrality(train_g, alpha=0.005, beta=1)"
   ]
  },
  {
   "cell_type": "code",
   "execution_count": 31,
   "metadata": {},
   "outputs": [
    {
     "name": "stdout",
     "output_type": "stream",
     "text": [
      "min 0.0007010514682016344\n",
      "max 0.003299981294781887\n",
      "mean 0.0007318229029406612\n"
     ]
    }
   ],
   "source": [
    "print('min',katz[min(katz, key=katz.get)])\n",
    "print('max',katz[max(katz, key=katz.get)])\n",
    "print('mean',float(sum(katz.values())) / len(katz))"
   ]
  },
  {
   "cell_type": "code",
   "execution_count": 32,
   "metadata": {},
   "outputs": [
    {
     "name": "stdout",
     "output_type": "stream",
     "text": [
      "0.0007318229029406612\n"
     ]
    }
   ],
   "source": [
    "mean_katz = float(sum(katz.values())) / len(katz)\n",
    "print(mean_katz)"
   ]
  },
  {
   "cell_type": "code",
   "execution_count": 34,
   "metadata": {},
   "outputs": [
    {
     "data": {
      "text/plain": [
       "['./dataset/katz.p']"
      ]
     },
     "execution_count": 34,
     "metadata": {},
     "output_type": "execute_result"
    }
   ],
   "source": [
    "joblib.dump(katz, './dataset/katz.p')"
   ]
  },
  {
   "cell_type": "markdown",
   "metadata": {},
   "source": [
    "## 2.3 Random Walk based Metrics"
   ]
  },
  {
   "cell_type": "markdown",
   "metadata": {},
   "source": [
    "### Hits Score"
   ]
  },
  {
   "cell_type": "code",
   "execution_count": null,
   "metadata": {},
   "outputs": [],
   "source": [
    "hits = ntx.hits(train_g, max_iter=100, \n",
    "               tol=1e-08, nstart=None, \n",
    "               normalized=True)"
   ]
  },
  {
   "cell_type": "code",
   "execution_count": null,
   "metadata": {},
   "outputs": [],
   "source": [
    "joblib.dump(hits, './dataset/hits.p')"
   ]
  },
  {
   "cell_type": "code",
   "execution_count": 38,
   "metadata": {},
   "outputs": [
    {
     "name": "stdout",
     "output_type": "stream",
     "text": [
      "min 0.0\n",
      "max 0.004868653378780953\n",
      "mean 5.615699699344123e-07\n"
     ]
    }
   ],
   "source": [
    "print('min',hits[0][min(hits[0], key=hits[0].get)])\n",
    "print('max',hits[0][max(hits[0], key=hits[0].get)])\n",
    "print('mean',float(sum(hits[0].values())) / len(hits[0]))"
   ]
  },
  {
   "cell_type": "markdown",
   "metadata": {},
   "source": [
    "### PageRank"
   ]
  },
  {
   "cell_type": "code",
   "execution_count": 5,
   "metadata": {},
   "outputs": [],
   "source": [
    "pr = ntx.pagerank(train_g, alpha=0.85)"
   ]
  },
  {
   "cell_type": "code",
   "execution_count": 6,
   "metadata": {},
   "outputs": [
    {
     "data": {
      "text/plain": [
       "['./dataset/pr.p']"
      ]
     },
     "execution_count": 6,
     "metadata": {},
     "output_type": "execute_result"
    }
   ],
   "source": [
    "joblib.dump(pr, './dataset/pr.p')"
   ]
  },
  {
   "cell_type": "code",
   "execution_count": 7,
   "metadata": {},
   "outputs": [],
   "source": [
    "pr = joblib.load('./dataset/pr.p')"
   ]
  },
  {
   "cell_type": "markdown",
   "metadata": {},
   "source": [
    "### Shortest path between nodes"
   ]
  },
  {
   "cell_type": "code",
   "execution_count": 79,
   "metadata": {},
   "outputs": [],
   "source": [
    "# Code Courtesy : AAIC\n",
    "\n",
    "def shortest_path_length(a, b):\n",
    "    p = -1\n",
    "    try:\n",
    "        if train_g.has_edge(a, b):\n",
    "            train_g.remove_edge(a, b)\n",
    "            p = ntx.shortest_path_length(train_g, source=a, target=b)\n",
    "            train_g.add_edge(a, b)\n",
    "        else:\n",
    "            p = ntx.shortest_path_length(train_g, source=a, target=b)\n",
    "        return p\n",
    "    except:\n",
    "        return -1"
   ]
  },
  {
   "cell_type": "code",
   "execution_count": 80,
   "metadata": {},
   "outputs": [
    {
     "data": {
      "text/plain": [
       "7"
      ]
     },
     "execution_count": 80,
     "metadata": {},
     "output_type": "execute_result"
    }
   ],
   "source": [
    "shortest_path_length(77697, 826021)"
   ]
  },
  {
   "cell_type": "code",
   "execution_count": 81,
   "metadata": {},
   "outputs": [
    {
     "data": {
      "text/plain": [
       "9"
      ]
     },
     "execution_count": 81,
     "metadata": {},
     "output_type": "execute_result"
    }
   ],
   "source": [
    "shortest_path_length(669354,1635354)"
   ]
  },
  {
   "cell_type": "markdown",
   "metadata": {},
   "source": [
    "## 2.4 Other Features"
   ]
  },
  {
   "cell_type": "markdown",
   "metadata": {},
   "source": [
    "### Ranking Measures"
   ]
  },
  {
   "cell_type": "markdown",
   "metadata": {},
   "source": [
    "### Weakly Connected Components"
   ]
  },
  {
   "cell_type": "code",
   "execution_count": 115,
   "metadata": {},
   "outputs": [],
   "source": [
    "wcc = list(ntx.weakly_connected_components(train_g))"
   ]
  },
  {
   "cell_type": "code",
   "execution_count": 116,
   "metadata": {},
   "outputs": [],
   "source": [
    "#getting weekly connected edges from graph \n",
    "def belongs_to_same_wcc(a, b):\n",
    "    index = []\n",
    "    if train_g.has_edge(b, a):\n",
    "        return 1\n",
    "    if train_g.has_edge(a, b):\n",
    "        for i in wcc:\n",
    "            if a in i:\n",
    "                index= i\n",
    "                break\n",
    "        if (b in index):\n",
    "            train_g.remove_edge(a, b)\n",
    "            if shortest_path_length(a,b)==-1:\n",
    "                train_g.add_edge(a,b)\n",
    "                return 0\n",
    "            else:\n",
    "                train_g.add_edge(a,b)\n",
    "                return 1\n",
    "        else:\n",
    "            return 0\n",
    "    else:\n",
    "        for i in wcc:\n",
    "            if a in i:\n",
    "                index= i\n",
    "                break\n",
    "        if(b in index):\n",
    "            return 1\n",
    "        else:\n",
    "            return 0"
   ]
  },
  {
   "cell_type": "code",
   "execution_count": 117,
   "metadata": {},
   "outputs": [
    {
     "data": {
      "text/plain": [
       "1"
      ]
     },
     "execution_count": 117,
     "metadata": {},
     "output_type": "execute_result"
    }
   ],
   "source": [
    "belongs_to_same_wcc(861, 1659750)"
   ]
  },
  {
   "cell_type": "code",
   "execution_count": 118,
   "metadata": {},
   "outputs": [
    {
     "data": {
      "text/plain": [
       "1"
      ]
     },
     "execution_count": 118,
     "metadata": {},
     "output_type": "execute_result"
    }
   ],
   "source": [
    "belongs_to_same_wcc(669354,1635354)"
   ]
  },
  {
   "cell_type": "markdown",
   "metadata": {},
   "source": [
    "### Follows Back"
   ]
  },
  {
   "cell_type": "code",
   "execution_count": 108,
   "metadata": {},
   "outputs": [],
   "source": [
    "def follows_back(a, b):\n",
    "    if train_g.has_edge(b,a):\n",
    "        return 1\n",
    "    else:\n",
    "        return 0"
   ]
  },
  {
   "cell_type": "code",
   "execution_count": 109,
   "metadata": {},
   "outputs": [
    {
     "data": {
      "text/plain": [
       "1"
      ]
     },
     "execution_count": 109,
     "metadata": {},
     "output_type": "execute_result"
    }
   ],
   "source": [
    "follows_back(1, 189226)"
   ]
  },
  {
   "cell_type": "code",
   "execution_count": 110,
   "metadata": {},
   "outputs": [
    {
     "data": {
      "text/plain": [
       "0"
      ]
     },
     "execution_count": 110,
     "metadata": {},
     "output_type": "execute_result"
    }
   ],
   "source": [
    "follows_back(669354, 1635354)"
   ]
  },
  {
   "cell_type": "markdown",
   "metadata": {},
   "source": [
    "### Weight Features"
   ]
  },
  {
   "cell_type": "code",
   "execution_count": 49,
   "metadata": {},
   "outputs": [
    {
     "name": "stderr",
     "output_type": "stream",
     "text": [
      "100%|██████████| 1862201/1862201 [00:22<00:00, 81255.27it/s] \n"
     ]
    }
   ],
   "source": [
    "## Code Courtesy: AAIC\n",
    "\n",
    "Weight_in = {}\n",
    "Weight_out = {}\n",
    "for i in train_g.nodes():\n",
    "    s1 = set(train_g.predecessors(i))\n",
    "    w_in = 1.0/(np.sqrt(1+len(s1)))\n",
    "    Weight_in[i] = w_in\n",
    "    \n",
    "    s2 = set(train_g.successors(i))\n",
    "    w_out = 1.0/(np.sqrt(1+len(s2)))\n",
    "    Weight_out[i] = w_out\n",
    "    \n",
    "#for imputing with mean\n",
    "mean_weight_in = np.mean(list(Weight_in.values()))\n",
    "mean_weight_out = np.mean(list(Weight_out.values()))"
   ]
  },
  {
   "cell_type": "markdown",
   "metadata": {},
   "source": [
    "### svd_dot"
   ]
  },
  {
   "cell_type": "code",
   "execution_count": 11,
   "metadata": {},
   "outputs": [],
   "source": [
    "sadj_col = sorted(train_g.nodes())\n",
    "sadj_dict = { val:idx for idx,val in enumerate(sadj_col)}"
   ]
  },
  {
   "cell_type": "code",
   "execution_count": 12,
   "metadata": {},
   "outputs": [],
   "source": [
    "Adj = ntx.adjacency_matrix(train_g, nodelist=sorted(train_g.nodes())).asfptype()"
   ]
  },
  {
   "cell_type": "code",
   "execution_count": 13,
   "metadata": {},
   "outputs": [],
   "source": [
    "def svd(x, S):\n",
    "    try:\n",
    "        z = sadj_dict[x]\n",
    "        return S[z]\n",
    "    except:\n",
    "        return np.zeros(6,)"
   ]
  },
  {
   "cell_type": "code",
   "execution_count": 14,
   "metadata": {},
   "outputs": [],
   "source": [
    "U, s, V = svds(Adj, k = 6)"
   ]
  },
  {
   "cell_type": "code",
   "execution_count": 146,
   "metadata": {},
   "outputs": [
    {
     "name": "stdout",
     "output_type": "stream",
     "text": [
      "Adjacency matrix Shape (1862201, 1862201)\n",
      "U Shape (1862201, 6)\n",
      "V Shape (6, 1862201)\n",
      "s Shape (6,)\n"
     ]
    }
   ],
   "source": [
    "print('Adjacency matrix Shape', Adj.shape)\n",
    "print('U Shape', U.shape)\n",
    "print('V Shape', V.shape)\n",
    "print('s Shape', s.shape)"
   ]
  },
  {
   "cell_type": "code",
   "execution_count": 16,
   "metadata": {},
   "outputs": [
    {
     "name": "stderr",
     "output_type": "stream",
     "text": [
      "100%|██████████| 15100030/15100030 [00:39<00:00, 384644.60it/s]\n"
     ]
    }
   ],
   "source": [
    "source_svd = X_train.source.progress_apply(lambda x: svd(x, U))"
   ]
  },
  {
   "cell_type": "code",
   "execution_count": 28,
   "metadata": {},
   "outputs": [],
   "source": [
    "S = []\n",
    "for each in source_svd:\n",
    "    k = each.reshape(1, 6)[0]\n",
    "    S.append(k)"
   ]
  },
  {
   "cell_type": "code",
   "execution_count": 30,
   "metadata": {},
   "outputs": [],
   "source": [
    "S = np.array(S)"
   ]
  },
  {
   "cell_type": "code",
   "execution_count": 33,
   "metadata": {},
   "outputs": [
    {
     "name": "stderr",
     "output_type": "stream",
     "text": [
      "100%|██████████| 15100030/15100030 [00:35<00:00, 422582.15it/s]\n"
     ]
    }
   ],
   "source": [
    "dest_svd = X_train.destination.progress_apply(lambda x: svd(x, U))"
   ]
  },
  {
   "cell_type": "code",
   "execution_count": 34,
   "metadata": {},
   "outputs": [],
   "source": [
    "D = []\n",
    "for each in dest_svd:\n",
    "    k = each.reshape(1, 6)[0]\n",
    "    D.append(k)\n",
    "    \n",
    "D = np.array(D)"
   ]
  },
  {
   "cell_type": "code",
   "execution_count": 35,
   "metadata": {},
   "outputs": [
    {
     "data": {
      "text/plain": [
       "(15100030, 6)"
      ]
     },
     "execution_count": 35,
     "metadata": {},
     "output_type": "execute_result"
    }
   ],
   "source": [
    "D.shape"
   ]
  },
  {
   "cell_type": "code",
   "execution_count": 45,
   "metadata": {},
   "outputs": [],
   "source": [
    "DOT = np.einsum('ij,ij->i', S, D)"
   ]
  },
  {
   "cell_type": "code",
   "execution_count": 48,
   "metadata": {},
   "outputs": [
    {
     "data": {
      "text/plain": [
       "(15100030,)"
      ]
     },
     "execution_count": 48,
     "metadata": {},
     "output_type": "execute_result"
    }
   ],
   "source": [
    "DOT.shape"
   ]
  },
  {
   "cell_type": "code",
   "execution_count": 147,
   "metadata": {},
   "outputs": [
    {
     "data": {
      "text/plain": [
       "(3775008,)"
      ]
     },
     "execution_count": 147,
     "metadata": {},
     "output_type": "execute_result"
    }
   ],
   "source": [
    "source_svd = X_test.source.apply(lambda x: svd(x, U))\n",
    "S2 = []\n",
    "for each in source_svd:\n",
    "    k = each.reshape(1, 6)[0]\n",
    "    S2.append(k)\n",
    "S2 = np.array(S2)\n",
    "dest_svd = X_test.destination.apply(lambda x: svd(x, U))\n",
    "D2 = []\n",
    "for each in dest_svd:\n",
    "    k = each.reshape(1, 6)[0]\n",
    "    D2.append(k)\n",
    "    \n",
    "D2 = np.array(D2)\n",
    "DOT2 = np.einsum('ij,ij->i', S2, D2)\n",
    "DOT2.shape"
   ]
  },
  {
   "cell_type": "markdown",
   "metadata": {},
   "source": [
    "## Adding the features"
   ]
  },
  {
   "cell_type": "code",
   "execution_count": 53,
   "metadata": {},
   "outputs": [],
   "source": [
    "# X_train = pd.read_csv('./dataset/Xtrain.csv', names=['source', 'destination'])\n",
    "X_test = pd.read_csv('./dataset/Xtest.csv', names=['source', 'destination'])"
   ]
  },
  {
   "cell_type": "code",
   "execution_count": 21,
   "metadata": {},
   "outputs": [
    {
     "data": {
      "text/html": [
       "<div>\n",
       "<style scoped>\n",
       "    .dataframe tbody tr th:only-of-type {\n",
       "        vertical-align: middle;\n",
       "    }\n",
       "\n",
       "    .dataframe tbody tr th {\n",
       "        vertical-align: top;\n",
       "    }\n",
       "\n",
       "    .dataframe thead th {\n",
       "        text-align: right;\n",
       "    }\n",
       "</style>\n",
       "<table border=\"1\" class=\"dataframe\">\n",
       "  <thead>\n",
       "    <tr style=\"text-align: right;\">\n",
       "      <th></th>\n",
       "      <th>source</th>\n",
       "      <th>destination</th>\n",
       "    </tr>\n",
       "  </thead>\n",
       "  <tbody>\n",
       "    <tr>\n",
       "      <th>0</th>\n",
       "      <td>369499</td>\n",
       "      <td>1676558</td>\n",
       "    </tr>\n",
       "    <tr>\n",
       "      <th>1</th>\n",
       "      <td>311235</td>\n",
       "      <td>1770606</td>\n",
       "    </tr>\n",
       "    <tr>\n",
       "      <th>2</th>\n",
       "      <td>123992</td>\n",
       "      <td>139109</td>\n",
       "    </tr>\n",
       "    <tr>\n",
       "      <th>3</th>\n",
       "      <td>163924</td>\n",
       "      <td>1750412</td>\n",
       "    </tr>\n",
       "    <tr>\n",
       "      <th>4</th>\n",
       "      <td>1692336</td>\n",
       "      <td>678091</td>\n",
       "    </tr>\n",
       "  </tbody>\n",
       "</table>\n",
       "</div>"
      ],
      "text/plain": [
       "    source  destination\n",
       "0   369499      1676558\n",
       "1   311235      1770606\n",
       "2   123992       139109\n",
       "3   163924      1750412\n",
       "4  1692336       678091"
      ]
     },
     "execution_count": 21,
     "metadata": {},
     "output_type": "execute_result"
    }
   ],
   "source": [
    "X_train.head()"
   ]
  },
  {
   "cell_type": "code",
   "execution_count": 54,
   "metadata": {},
   "outputs": [
    {
     "data": {
      "text/html": [
       "<div>\n",
       "<style scoped>\n",
       "    .dataframe tbody tr th:only-of-type {\n",
       "        vertical-align: middle;\n",
       "    }\n",
       "\n",
       "    .dataframe tbody tr th {\n",
       "        vertical-align: top;\n",
       "    }\n",
       "\n",
       "    .dataframe thead th {\n",
       "        text-align: right;\n",
       "    }\n",
       "</style>\n",
       "<table border=\"1\" class=\"dataframe\">\n",
       "  <thead>\n",
       "    <tr style=\"text-align: right;\">\n",
       "      <th></th>\n",
       "      <th>source</th>\n",
       "      <th>destination</th>\n",
       "    </tr>\n",
       "  </thead>\n",
       "  <tbody>\n",
       "    <tr>\n",
       "      <th>0</th>\n",
       "      <td>143163</td>\n",
       "      <td>1209196</td>\n",
       "    </tr>\n",
       "    <tr>\n",
       "      <th>1</th>\n",
       "      <td>1848346</td>\n",
       "      <td>1317849</td>\n",
       "    </tr>\n",
       "    <tr>\n",
       "      <th>2</th>\n",
       "      <td>1635508</td>\n",
       "      <td>1750924</td>\n",
       "    </tr>\n",
       "    <tr>\n",
       "      <th>3</th>\n",
       "      <td>626461</td>\n",
       "      <td>291813</td>\n",
       "    </tr>\n",
       "    <tr>\n",
       "      <th>4</th>\n",
       "      <td>470725</td>\n",
       "      <td>957851</td>\n",
       "    </tr>\n",
       "  </tbody>\n",
       "</table>\n",
       "</div>"
      ],
      "text/plain": [
       "    source  destination\n",
       "0   143163      1209196\n",
       "1  1848346      1317849\n",
       "2  1635508      1750924\n",
       "3   626461       291813\n",
       "4   470725       957851"
      ]
     },
     "execution_count": 54,
     "metadata": {},
     "output_type": "execute_result"
    }
   ],
   "source": [
    "X_test.head()"
   ]
  },
  {
   "cell_type": "code",
   "execution_count": 10,
   "metadata": {},
   "outputs": [],
   "source": [
    "tqdm.pandas()"
   ]
  },
  {
   "cell_type": "code",
   "execution_count": 23,
   "metadata": {},
   "outputs": [
    {
     "name": "stderr",
     "output_type": "stream",
     "text": [
      "100%|██████████| 15100030/15100030 [12:55<00:00, 19474.28it/s]\n"
     ]
    }
   ],
   "source": [
    "X_train['common_neighbors'] = X_train.progress_apply(\n",
    "    lambda x: common_neighbors(x.source, x.destination), axis=1)"
   ]
  },
  {
   "cell_type": "code",
   "execution_count": 82,
   "metadata": {},
   "outputs": [
    {
     "name": "stderr",
     "output_type": "stream",
     "text": [
      "100%|██████████| 3775008/3775008 [03:10<00:00, 19785.94it/s]\n"
     ]
    }
   ],
   "source": [
    "X_test['common_neighbors'] = X_test.progress_apply(\n",
    "    lambda x: common_neighbors(x.source, x.destination), axis=1)"
   ]
  },
  {
   "cell_type": "code",
   "execution_count": 83,
   "metadata": {},
   "outputs": [
    {
     "data": {
      "text/plain": [
       "array([  0,  10,   1,   3,  22,   5,   4,   2,  51,   8,  63,   7,  45,\n",
       "         6,  16,  12, 158,  25,  62,  44,  49,  42,  18,  83,  57, 109,\n",
       "        27,  13,   9,  24,  26,  88,  67,  95,  11,  14,  37,  70,  20,\n",
       "        34,  23,  60,  77,  46,  38,  28,  31,  78,  72,  21,  17,  90,\n",
       "        15,  47,  73,  65,  53,  19,  30,  40,  56, 116,  39,  43,  99,\n",
       "        75,  33,  54,  85,  35,  91,  29,  84, 101,  69,  55,  89, 121,\n",
       "        36,  32,  76, 111,  82, 127, 103,  80,  86,  74,  92,  59,  68,\n",
       "       153,  96,  58,  79, 112,  52,  97, 118,  61, 117, 114, 102,  66,\n",
       "        48,  71, 100,  81, 160,  98,  50, 107, 110,  41,  64, 120, 108,\n",
       "       129,  87,  94, 106, 113, 139, 105, 119, 170, 155, 125, 166, 134,\n",
       "       148, 104, 145, 146, 131, 156, 135, 141,  93, 147, 165, 132, 154,\n",
       "       122, 128, 136, 140, 133, 175, 151, 142, 157, 124, 130, 161, 196,\n",
       "       144, 123, 138, 149, 152, 163, 115, 126, 143, 159, 183, 137, 189,\n",
       "       164, 171, 184, 169, 172, 150, 187, 162, 201, 177, 178, 167, 168,\n",
       "       185, 211, 174, 182, 193, 179, 197, 173, 180, 181, 186, 176, 198,\n",
       "       192, 221, 188, 191, 190, 194, 203, 199, 208, 207, 218, 206, 209,\n",
       "       195, 202, 219])"
      ]
     },
     "execution_count": 83,
     "metadata": {},
     "output_type": "execute_result"
    }
   ],
   "source": [
    "X_train.common_neighbors.unique()"
   ]
  },
  {
   "cell_type": "code",
   "execution_count": 84,
   "metadata": {},
   "outputs": [
    {
     "data": {
      "text/plain": [
       "array([  2,   0,  19,   8,   6,   1,   3,  33,  68,  43,  15,  11,  17,\n",
       "        16,  31,  78,   4,   5,  13,  90,  36,  23,  44,   9, 102,  37,\n",
       "        35,  61,   7,  14,  60, 138,  39,  85,  40,  10,  26,  76,  41,\n",
       "        57,  70,  29,  48, 110,  59,  69, 115,  38,  50, 148,  20,  27,\n",
       "        25,  28,  65,  12,  18,  49,  34,  30, 119,  62,  66, 101,  47,\n",
       "        63,  24,  71,  79,  52,  42,  21, 113,  95,  22,  32,  46, 120,\n",
       "        54, 117,  58,  51,  94,  81,  74,  56,  72,  98,  67,  75,  55,\n",
       "        86, 100,  92,  53, 105,  73, 103, 150,  99, 155, 122,  45,  91,\n",
       "        77,  96, 121, 106,  64,  97, 108, 159,  87, 125, 114, 136, 139,\n",
       "        89, 109,  84,  80,  88, 104,  83, 107,  82, 128, 154, 162, 133,\n",
       "       151, 131, 111, 132, 130, 143,  93, 135, 158, 137, 127, 176, 153,\n",
       "       118, 144, 141, 142, 112, 129, 181, 165, 145, 167, 140, 116, 126,\n",
       "       124, 152, 173, 157, 123, 149, 134, 147, 182, 146, 156, 164, 188,\n",
       "       169, 180, 172, 160, 168, 186, 184, 174, 166, 163, 171, 161, 205,\n",
       "       217, 177, 190, 175, 170, 196, 183, 187, 185, 189, 179, 195, 193,\n",
       "       178, 197])"
      ]
     },
     "execution_count": 84,
     "metadata": {},
     "output_type": "execute_result"
    }
   ],
   "source": [
    "X_test.common_neighbors.unique()"
   ]
  },
  {
   "cell_type": "code",
   "execution_count": 25,
   "metadata": {},
   "outputs": [
    {
     "name": "stderr",
     "output_type": "stream",
     "text": [
      "100%|██████████| 15100030/15100030 [14:22<00:00, 17499.96it/s]\n"
     ]
    }
   ],
   "source": [
    "X_train['jaccard'] = X_train.progress_apply(\n",
    "    lambda x: jaccard_coefficient(x.source, x.destination), axis=1)"
   ]
  },
  {
   "cell_type": "code",
   "execution_count": 26,
   "metadata": {},
   "outputs": [
    {
     "data": {
      "text/plain": [
       "array([0.        , 0.38461538, 0.04545455, ..., 0.00821355, 0.46557377,\n",
       "       0.6212766 ])"
      ]
     },
     "execution_count": 26,
     "metadata": {},
     "output_type": "execute_result"
    }
   ],
   "source": [
    "X_train.jaccard.unique()"
   ]
  },
  {
   "cell_type": "code",
   "execution_count": 85,
   "metadata": {},
   "outputs": [
    {
     "name": "stderr",
     "output_type": "stream",
     "text": [
      "100%|██████████| 3775008/3775008 [03:31<00:00, 17850.64it/s]\n"
     ]
    }
   ],
   "source": [
    "X_test['jaccard'] = X_test.progress_apply(\n",
    "    lambda x: jaccard_coefficient(x.source, x.destination), axis=1)"
   ]
  },
  {
   "cell_type": "code",
   "execution_count": 86,
   "metadata": {},
   "outputs": [
    {
     "data": {
      "text/plain": [
       "array([0.08      , 0.        , 0.46341463, ..., 0.25751073, 0.36178862,\n",
       "       0.47404844])"
      ]
     },
     "execution_count": 86,
     "metadata": {},
     "output_type": "execute_result"
    }
   ],
   "source": [
    "X_test.jaccard.unique()"
   ]
  },
  {
   "cell_type": "code",
   "execution_count": 27,
   "metadata": {},
   "outputs": [
    {
     "name": "stderr",
     "output_type": "stream",
     "text": [
      "100%|██████████| 15100030/15100030 [13:59<00:00, 17983.32it/s]\n"
     ]
    }
   ],
   "source": [
    "X_train['sorensen'] = X_train.progress_apply(\n",
    "    lambda x: sorensen_index(x.source, x.destination), axis=1)"
   ]
  },
  {
   "cell_type": "code",
   "execution_count": 28,
   "metadata": {},
   "outputs": [
    {
     "data": {
      "text/plain": [
       "array([0.        , 0.27777778, 0.04347826, ..., 0.00814664, 0.31767338,\n",
       "       0.3832021 ])"
      ]
     },
     "execution_count": 28,
     "metadata": {},
     "output_type": "execute_result"
    }
   ],
   "source": [
    "X_train.sorensen.unique()"
   ]
  },
  {
   "cell_type": "code",
   "execution_count": 87,
   "metadata": {},
   "outputs": [
    {
     "name": "stderr",
     "output_type": "stream",
     "text": [
      "100%|██████████| 3775008/3775008 [03:26<00:00, 18237.06it/s]\n"
     ]
    }
   ],
   "source": [
    "X_test['sorensen'] = X_test.progress_apply(\n",
    "    lambda x: sorensen_index(x.source, x.destination), axis=1)"
   ]
  },
  {
   "cell_type": "code",
   "execution_count": 89,
   "metadata": {},
   "outputs": [
    {
     "data": {
      "text/plain": [
       "array([0.07407407, 0.        , 0.31666667, ..., 0.20477816, 0.26567164,\n",
       "       0.32159624])"
      ]
     },
     "execution_count": 89,
     "metadata": {},
     "output_type": "execute_result"
    }
   ],
   "source": [
    "X_test.sorensen.unique()"
   ]
  },
  {
   "cell_type": "code",
   "execution_count": 29,
   "metadata": {},
   "outputs": [
    {
     "name": "stderr",
     "output_type": "stream",
     "text": [
      "  0%|          | 1/15100030 [00:00<3050:46:22,  1.37it/s]/home/paperspace/anaconda3/lib/python3.6/site-packages/ipykernel_launcher.py:6: RuntimeWarning: invalid value encountered in double_scalars\n",
      "  \n",
      "100%|██████████| 15100030/15100030 [15:24<00:00, 16328.39it/s]\n"
     ]
    }
   ],
   "source": [
    "X_train['salton_cosine'] = X_train.progress_apply(\n",
    "    lambda x: salton_cosine(x.source, x.destination), axis=1)"
   ]
  },
  {
   "cell_type": "code",
   "execution_count": 30,
   "metadata": {},
   "outputs": [
    {
     "data": {
      "text/plain": [
       "array([0.        , 0.55901699, 0.09449112, ..., 0.5763796 , 0.51691597,\n",
       "       0.49802812])"
      ]
     },
     "execution_count": 30,
     "metadata": {},
     "output_type": "execute_result"
    }
   ],
   "source": [
    "X_train.salton_cosine.unique()"
   ]
  },
  {
   "cell_type": "code",
   "execution_count": 90,
   "metadata": {},
   "outputs": [
    {
     "name": "stderr",
     "output_type": "stream",
     "text": [
      "  0%|          | 1/3775008 [00:00<248:37:53,  4.22it/s]/home/paperspace/anaconda3/lib/python3.6/site-packages/ipykernel_launcher.py:7: RuntimeWarning: invalid value encountered in double_scalars\n",
      "  import sys\n",
      "100%|██████████| 3775008/3775008 [03:50<00:00, 16383.15it/s]\n"
     ]
    }
   ],
   "source": [
    "X_test['salton_cosine'] = X_test.progress_apply(\n",
    "    lambda x: salton_cosine(x.source, x.destination), axis=1)"
   ]
  },
  {
   "cell_type": "code",
   "execution_count": 91,
   "metadata": {},
   "outputs": [
    {
     "data": {
      "text/plain": [
       "array([0.153393  , 0.        , 0.63368548, ..., 0.25380861, 0.58679882,\n",
       "       0.52057441])"
      ]
     },
     "execution_count": 91,
     "metadata": {},
     "output_type": "execute_result"
    }
   ],
   "source": [
    "X_test.salton_cosine.unique()"
   ]
  },
  {
   "cell_type": "code",
   "execution_count": 31,
   "metadata": {},
   "outputs": [
    {
     "name": "stderr",
     "output_type": "stream",
     "text": [
      "100%|██████████| 15100030/15100030 [14:20<00:00, 17545.63it/s]\n"
     ]
    }
   ],
   "source": [
    "X_train['hub_promoted'] = X_train.progress_apply(\n",
    "    lambda x: hub_promoted(x.source, x.destination), axis=1)"
   ]
  },
  {
   "cell_type": "code",
   "execution_count": 32,
   "metadata": {},
   "outputs": [
    {
     "data": {
      "text/plain": [
       "array([0.        , 0.62496094, 0.14283674, ..., 0.54077021, 0.63963676,\n",
       "       0.78835562])"
      ]
     },
     "execution_count": 32,
     "metadata": {},
     "output_type": "execute_result"
    }
   ],
   "source": [
    "X_train.hub_promoted.unique()"
   ]
  },
  {
   "cell_type": "code",
   "execution_count": 92,
   "metadata": {},
   "outputs": [
    {
     "name": "stderr",
     "output_type": "stream",
     "text": [
      "100%|██████████| 3775008/3775008 [03:31<00:00, 17808.07it/s]\n"
     ]
    }
   ],
   "source": [
    "X_test['hub_promoted'] = X_test.progress_apply(\n",
    "    lambda x: hub_promoted(x.source, x.destination), axis=1)"
   ]
  },
  {
   "cell_type": "code",
   "execution_count": 93,
   "metadata": {},
   "outputs": [
    {
     "data": {
      "text/plain": [
       "array([0.19998   , 0.        , 0.65514982, ..., 0.70618193, 0.28695403,\n",
       "       0.54973534])"
      ]
     },
     "execution_count": 93,
     "metadata": {},
     "output_type": "execute_result"
    }
   ],
   "source": [
    "X_test.hub_promoted.unique()"
   ]
  },
  {
   "cell_type": "code",
   "execution_count": 33,
   "metadata": {},
   "outputs": [
    {
     "name": "stderr",
     "output_type": "stream",
     "text": [
      "100%|██████████| 15100030/15100030 [14:26<00:00, 17434.87it/s]\n"
     ]
    }
   ],
   "source": [
    "X_train['hub_depressed'] = X_train.progress_apply(\n",
    "    lambda x: hub_depressed(x.source, x.destination), axis=1)"
   ]
  },
  {
   "cell_type": "code",
   "execution_count": 34,
   "metadata": {},
   "outputs": [
    {
     "data": {
      "text/plain": [
       "array([0.        , 0.499975  , 0.06249609, ..., 0.64044584, 0.50602206,\n",
       "       0.37978962])"
      ]
     },
     "execution_count": 34,
     "metadata": {},
     "output_type": "execute_result"
    }
   ],
   "source": [
    "X_train.hub_depressed.unique()"
   ]
  },
  {
   "cell_type": "code",
   "execution_count": 94,
   "metadata": {},
   "outputs": [
    {
     "name": "stderr",
     "output_type": "stream",
     "text": [
      "100%|██████████| 3775008/3775008 [03:32<00:00, 17782.15it/s]\n"
     ]
    }
   ],
   "source": [
    "X_test['hub_depressed'] = X_test.progress_apply(\n",
    "    lambda x: hub_depressed(x.source, x.destination), axis=1)"
   ]
  },
  {
   "cell_type": "code",
   "execution_count": 95,
   "metadata": {},
   "outputs": [
    {
     "data": {
      "text/plain": [
       "array([0.11764014, 0.        , 0.61288346, ..., 0.52918082, 0.17446734,\n",
       "       0.49295543])"
      ]
     },
     "execution_count": 95,
     "metadata": {},
     "output_type": "execute_result"
    }
   ],
   "source": [
    "X_test.hub_depressed.unique()"
   ]
  },
  {
   "cell_type": "code",
   "execution_count": 37,
   "metadata": {},
   "outputs": [
    {
     "name": "stderr",
     "output_type": "stream",
     "text": [
      "100%|██████████| 15100030/15100030 [14:06<00:00, 17828.91it/s]\n"
     ]
    }
   ],
   "source": [
    "X_train['leicht_holme_nerman'] = X_train.progress_apply(\n",
    "    lambda x: leicht_holme_nerman(x.source, x.destination), axis=1)"
   ]
  },
  {
   "cell_type": "code",
   "execution_count": 38,
   "metadata": {},
   "outputs": [
    {
     "data": {
      "text/plain": [
       "array([0.        , 0.0312499 , 0.00892849, ..., 0.0041108 , 0.00434783,\n",
       "       0.00400052])"
      ]
     },
     "execution_count": 38,
     "metadata": {},
     "output_type": "execute_result"
    }
   ],
   "source": [
    "X_train.leicht_holme_nerman.unique()"
   ]
  },
  {
   "cell_type": "code",
   "execution_count": 96,
   "metadata": {},
   "outputs": [
    {
     "name": "stderr",
     "output_type": "stream",
     "text": [
      "100%|██████████| 3775008/3775008 [03:29<00:00, 18027.71it/s]\n"
     ]
    }
   ],
   "source": [
    "X_test['leicht_holme_nerman'] = X_test.progress_apply(\n",
    "    lambda x: leicht_holme_nerman(x.source, x.destination), axis=1)"
   ]
  },
  {
   "cell_type": "code",
   "execution_count": 97,
   "metadata": {},
   "outputs": [
    {
     "data": {
      "text/plain": [
       "array([0.01176464, 0.        , 0.02113457, ..., 0.00573888, 0.00173511,\n",
       "       0.00258093])"
      ]
     },
     "execution_count": 97,
     "metadata": {},
     "output_type": "execute_result"
    }
   ],
   "source": [
    "X_test.leicht_holme_nerman.unique()"
   ]
  },
  {
   "cell_type": "code",
   "execution_count": 41,
   "metadata": {},
   "outputs": [
    {
     "name": "stderr",
     "output_type": "stream",
     "text": [
      "100%|██████████| 15100030/15100030 [27:38<00:00, 9102.10it/s] \n"
     ]
    }
   ],
   "source": [
    "X_train['adamic_index'] = X_train.progress_apply(\n",
    "    lambda x: adamic_index(x.source, x.destination), axis=1)"
   ]
  },
  {
   "cell_type": "code",
   "execution_count": 42,
   "metadata": {},
   "outputs": [
    {
     "data": {
      "text/plain": [
       "array([ 0.        ,  8.35275607,  0.85027415, ...,  9.30762155,\n",
       "        3.26751845, 10.50112064])"
      ]
     },
     "execution_count": 42,
     "metadata": {},
     "output_type": "execute_result"
    }
   ],
   "source": [
    "X_train.adamic_index.unique()"
   ]
  },
  {
   "cell_type": "code",
   "execution_count": 98,
   "metadata": {},
   "outputs": [
    {
     "name": "stderr",
     "output_type": "stream",
     "text": [
      "100%|██████████| 3775008/3775008 [06:26<00:00, 9763.71it/s] \n"
     ]
    }
   ],
   "source": [
    "X_test['adamic_index'] = X_test.progress_apply(\n",
    "    lambda x: adamic_index(x.source, x.destination), axis=1)"
   ]
  },
  {
   "cell_type": "code",
   "execution_count": 99,
   "metadata": {},
   "outputs": [
    {
     "data": {
      "text/plain": [
       "array([ 1.5142904 ,  0.        , 14.33735887, ..., 48.08354681,\n",
       "        4.38349016,  3.39435549])"
      ]
     },
     "execution_count": 99,
     "metadata": {},
     "output_type": "execute_result"
    }
   ],
   "source": [
    "X_test.adamic_index.unique()"
   ]
  },
  {
   "cell_type": "code",
   "execution_count": 45,
   "metadata": {},
   "outputs": [
    {
     "name": "stderr",
     "output_type": "stream",
     "text": [
      "100%|██████████| 15100030/15100030 [12:47<00:00, 19664.09it/s]\n"
     ]
    }
   ],
   "source": [
    "X_train['preferential_attachment'] = X_train.progress_apply(\n",
    "    lambda x: preferential_attachment(x.source, x.destination), axis=1)"
   ]
  },
  {
   "cell_type": "code",
   "execution_count": 47,
   "metadata": {},
   "outputs": [
    {
     "data": {
      "text/plain": [
       "array([   504,    352,     36, ...,  61548, 104346,  58017])"
      ]
     },
     "execution_count": 47,
     "metadata": {},
     "output_type": "execute_result"
    }
   ],
   "source": [
    "X_train.preferential_attachment.unique()"
   ]
  },
  {
   "cell_type": "code",
   "execution_count": 100,
   "metadata": {},
   "outputs": [
    {
     "name": "stderr",
     "output_type": "stream",
     "text": [
      "100%|██████████| 3775008/3775008 [03:09<00:00, 19905.11it/s]\n"
     ]
    }
   ],
   "source": [
    "X_test['preferential_attachment'] = X_test.progress_apply(\n",
    "    lambda x: preferential_attachment(x.source, x.destination), axis=1)"
   ]
  },
  {
   "cell_type": "code",
   "execution_count": 101,
   "metadata": {},
   "outputs": [
    {
     "data": {
      "text/plain": [
       "array([  170,    18,    28, ..., 39104, 22172, 47288])"
      ]
     },
     "execution_count": 101,
     "metadata": {},
     "output_type": "execute_result"
    }
   ],
   "source": [
    "X_test.preferential_attachment.unique()"
   ]
  },
  {
   "cell_type": "code",
   "execution_count": 9,
   "metadata": {},
   "outputs": [
    {
     "name": "stderr",
     "output_type": "stream",
     "text": [
      "100%|██████████| 15100030/15100030 [24:09<00:00, 10417.82it/s]\n"
     ]
    }
   ],
   "source": [
    "X_train['resource_allocation'] = X_train.progress_apply(\n",
    "    lambda x: resource_allocation(x.source, x.destination), axis=1)"
   ]
  },
  {
   "cell_type": "code",
   "execution_count": 17,
   "metadata": {},
   "outputs": [
    {
     "data": {
      "text/plain": [
       "array([0.        , 0.6408947 , 0.06666667, ..., 0.21032345, 0.15812325,\n",
       "       0.26126684])"
      ]
     },
     "execution_count": 17,
     "metadata": {},
     "output_type": "execute_result"
    }
   ],
   "source": [
    "X_train.resource_allocation.unique()"
   ]
  },
  {
   "cell_type": "code",
   "execution_count": 102,
   "metadata": {},
   "outputs": [
    {
     "name": "stderr",
     "output_type": "stream",
     "text": [
      "100%|██████████| 3775008/3775008 [06:09<00:00, 10223.04it/s]\n"
     ]
    }
   ],
   "source": [
    "X_test['resource_allocation'] = X_test.progress_apply(\n",
    "    lambda x: resource_allocation(x.source, x.destination), axis=1)"
   ]
  },
  {
   "cell_type": "code",
   "execution_count": 103,
   "metadata": {},
   "outputs": [
    {
     "data": {
      "text/plain": [
       "array([0.09698276, 0.        , 0.92334834, ..., 0.27741703, 0.71157706,\n",
       "       0.2740368 ])"
      ]
     },
     "execution_count": 103,
     "metadata": {},
     "output_type": "execute_result"
    }
   ],
   "source": [
    "X_test.resource_allocation.unique()"
   ]
  },
  {
   "cell_type": "code",
   "execution_count": 12,
   "metadata": {},
   "outputs": [],
   "source": [
    "# 5+ hours....extremely slow...let's add multiprocessing\n",
    "\n",
    "\n",
    "# X_train['shortest_path_length'] = X_train.progress_apply(\n",
    "#     lambda x: shortest_path_length(x.source, x.destination), axis=1)"
   ]
  },
  {
   "cell_type": "code",
   "execution_count": 12,
   "metadata": {},
   "outputs": [],
   "source": [
    "pairs = []\n",
    "for each in X_train[['source', 'destination']].values:\n",
    "    pairs.append(tuple(each))\n",
    "#     break"
   ]
  },
  {
   "cell_type": "code",
   "execution_count": 13,
   "metadata": {},
   "outputs": [
    {
     "data": {
      "text/plain": [
       "15100030"
      ]
     },
     "execution_count": 13,
     "metadata": {},
     "output_type": "execute_result"
    }
   ],
   "source": [
    "len(pairs)"
   ]
  },
  {
   "cell_type": "code",
   "execution_count": 10,
   "metadata": {},
   "outputs": [
    {
     "name": "stdout",
     "output_type": "stream",
     "text": [
      "CPU times: user 4min 45s, sys: 12.9 s, total: 4min 58s\n",
      "Wall time: 43min 24s\n"
     ]
    }
   ],
   "source": [
    "## And I brought it down to 44 mints with half the CPU cores\n",
    "%%time\n",
    "with Pool(processes=8) as pool:\n",
    "    shortest_paths = pool.starmap(shortest_path_length, pairs) # strmap is ordered"
   ]
  },
  {
   "cell_type": "code",
   "execution_count": 11,
   "metadata": {},
   "outputs": [
    {
     "data": {
      "text/plain": [
       "15100030"
      ]
     },
     "execution_count": 11,
     "metadata": {},
     "output_type": "execute_result"
    }
   ],
   "source": [
    "len(shortest_paths)"
   ]
  },
  {
   "cell_type": "code",
   "execution_count": 12,
   "metadata": {},
   "outputs": [
    {
     "data": {
      "text/plain": [
       "array([-1,  2,  3,  4,  5,  6,  7,  8,  9, 10, 11, 12])"
      ]
     },
     "execution_count": 12,
     "metadata": {},
     "output_type": "execute_result"
    }
   ],
   "source": [
    "np.unique(shortest_paths)"
   ]
  },
  {
   "cell_type": "code",
   "execution_count": 13,
   "metadata": {},
   "outputs": [],
   "source": [
    "X_train['shortest_paths'] = shortest_paths"
   ]
  },
  {
   "cell_type": "code",
   "execution_count": 19,
   "metadata": {},
   "outputs": [],
   "source": [
    "del shortest_paths"
   ]
  },
  {
   "cell_type": "code",
   "execution_count": 104,
   "metadata": {},
   "outputs": [
    {
     "name": "stderr",
     "output_type": "stream",
     "text": [
      "100%|██████████| 3775008/3775008 [1:22:21<00:00, 763.93it/s]\n"
     ]
    }
   ],
   "source": [
    "X_test['shortest_path_length'] = X_test.progress_apply(\n",
    "    lambda x: shortest_path_length(x.source, x.destination), axis=1)"
   ]
  },
  {
   "cell_type": "code",
   "execution_count": 106,
   "metadata": {},
   "outputs": [
    {
     "data": {
      "text/plain": [
       "array([ 2,  8,  7,  6,  3,  5,  4, -1,  9, 10, 11, 12])"
      ]
     },
     "execution_count": 106,
     "metadata": {},
     "output_type": "execute_result"
    }
   ],
   "source": [
    "X_test.shortest_path_length.unique()"
   ]
  },
  {
   "cell_type": "code",
   "execution_count": 25,
   "metadata": {},
   "outputs": [
    {
     "name": "stderr",
     "output_type": "stream",
     "text": [
      "100%|██████████| 15100030/15100030 [08:17<00:00, 30334.84it/s]\n"
     ]
    }
   ],
   "source": [
    "X_train['follows_back'] = X_train.progress_apply(\n",
    "    lambda x: follows_back(x.source, x.destination), axis=1)"
   ]
  },
  {
   "cell_type": "code",
   "execution_count": 31,
   "metadata": {},
   "outputs": [
    {
     "data": {
      "text/plain": [
       "array([0, 1])"
      ]
     },
     "execution_count": 31,
     "metadata": {},
     "output_type": "execute_result"
    }
   ],
   "source": [
    "X_train.follows_back.unique()"
   ]
  },
  {
   "cell_type": "code",
   "execution_count": 112,
   "metadata": {},
   "outputs": [],
   "source": [
    "X_test['follows_back'] = X_test.apply(\n",
    "    lambda x: follows_back(x.source, x.destination), axis=1)"
   ]
  },
  {
   "cell_type": "code",
   "execution_count": 113,
   "metadata": {},
   "outputs": [
    {
     "data": {
      "text/plain": [
       "array([1, 0])"
      ]
     },
     "execution_count": 113,
     "metadata": {},
     "output_type": "execute_result"
    }
   ],
   "source": [
    "X_test.follows_back.unique()"
   ]
  },
  {
   "cell_type": "code",
   "execution_count": 33,
   "metadata": {},
   "outputs": [
    {
     "name": "stderr",
     "output_type": "stream",
     "text": [
      "\r",
      "  0%|          | 18682/15100030 [00:40<4:47:49, 873.30it/s]"
     ]
    }
   ],
   "source": [
    "# X_train['belongs_to_same_wcc'] = X_train.progress_apply(\n",
    "#     lambda x: belongs_to_same_wcc(x.source, x.destination), axis=1)"
   ]
  },
  {
   "cell_type": "code",
   "execution_count": 14,
   "metadata": {},
   "outputs": [
    {
     "name": "stdout",
     "output_type": "stream",
     "text": [
      "CPU times: user 4min 59s, sys: 13.4 s, total: 5min 13s\n",
      "Wall time: 39min 14s\n"
     ]
    }
   ],
   "source": [
    "%%time\n",
    "with Pool(processes=8) as pool:\n",
    "    all_communities = pool.starmap(belongs_to_same_wcc, pairs) # strmap is ordered"
   ]
  },
  {
   "cell_type": "code",
   "execution_count": 15,
   "metadata": {},
   "outputs": [
    {
     "data": {
      "text/plain": [
       "15100030"
      ]
     },
     "execution_count": 15,
     "metadata": {},
     "output_type": "execute_result"
    }
   ],
   "source": [
    "len(all_communities)"
   ]
  },
  {
   "cell_type": "code",
   "execution_count": 16,
   "metadata": {},
   "outputs": [],
   "source": [
    "X_train['belongs_to_same_wcc'] = all_communities"
   ]
  },
  {
   "cell_type": "code",
   "execution_count": 119,
   "metadata": {},
   "outputs": [],
   "source": [
    "X_test['belongs_to_same_wcc'] = X_test.apply(\n",
    "    lambda x: belongs_to_same_wcc(x.source, x.destination), axis=1)"
   ]
  },
  {
   "cell_type": "code",
   "execution_count": 17,
   "metadata": {},
   "outputs": [
    {
     "data": {
      "text/html": [
       "<div>\n",
       "<style scoped>\n",
       "    .dataframe tbody tr th:only-of-type {\n",
       "        vertical-align: middle;\n",
       "    }\n",
       "\n",
       "    .dataframe tbody tr th {\n",
       "        vertical-align: top;\n",
       "    }\n",
       "\n",
       "    .dataframe thead th {\n",
       "        text-align: right;\n",
       "    }\n",
       "</style>\n",
       "<table border=\"1\" class=\"dataframe\">\n",
       "  <thead>\n",
       "    <tr style=\"text-align: right;\">\n",
       "      <th></th>\n",
       "      <th>source</th>\n",
       "      <th>destination</th>\n",
       "      <th>common_neighbors</th>\n",
       "      <th>jaccard</th>\n",
       "      <th>sorensen</th>\n",
       "      <th>salton_cosine</th>\n",
       "      <th>hub_promoted</th>\n",
       "      <th>hub_depressed</th>\n",
       "      <th>leicht_holme_nerman</th>\n",
       "      <th>adamic_index</th>\n",
       "      <th>preferential_attachment</th>\n",
       "      <th>resource_allocation</th>\n",
       "      <th>shortest_paths</th>\n",
       "      <th>follows_back</th>\n",
       "      <th>belongs_to_same_wcc</th>\n",
       "    </tr>\n",
       "  </thead>\n",
       "  <tbody>\n",
       "    <tr>\n",
       "      <th>0</th>\n",
       "      <td>369499</td>\n",
       "      <td>1676558</td>\n",
       "      <td>0</td>\n",
       "      <td>0.0</td>\n",
       "      <td>0.0</td>\n",
       "      <td>0.0</td>\n",
       "      <td>0.0</td>\n",
       "      <td>0.0</td>\n",
       "      <td>0.0</td>\n",
       "      <td>0.0</td>\n",
       "      <td>504</td>\n",
       "      <td>0.0</td>\n",
       "      <td>4</td>\n",
       "      <td>0</td>\n",
       "      <td>1</td>\n",
       "    </tr>\n",
       "    <tr>\n",
       "      <th>1</th>\n",
       "      <td>311235</td>\n",
       "      <td>1770606</td>\n",
       "      <td>0</td>\n",
       "      <td>0.0</td>\n",
       "      <td>0.0</td>\n",
       "      <td>0.0</td>\n",
       "      <td>0.0</td>\n",
       "      <td>0.0</td>\n",
       "      <td>0.0</td>\n",
       "      <td>0.0</td>\n",
       "      <td>352</td>\n",
       "      <td>0.0</td>\n",
       "      <td>5</td>\n",
       "      <td>0</td>\n",
       "      <td>1</td>\n",
       "    </tr>\n",
       "    <tr>\n",
       "      <th>2</th>\n",
       "      <td>123992</td>\n",
       "      <td>139109</td>\n",
       "      <td>0</td>\n",
       "      <td>0.0</td>\n",
       "      <td>0.0</td>\n",
       "      <td>0.0</td>\n",
       "      <td>0.0</td>\n",
       "      <td>0.0</td>\n",
       "      <td>0.0</td>\n",
       "      <td>0.0</td>\n",
       "      <td>36</td>\n",
       "      <td>0.0</td>\n",
       "      <td>7</td>\n",
       "      <td>0</td>\n",
       "      <td>1</td>\n",
       "    </tr>\n",
       "    <tr>\n",
       "      <th>3</th>\n",
       "      <td>163924</td>\n",
       "      <td>1750412</td>\n",
       "      <td>0</td>\n",
       "      <td>0.0</td>\n",
       "      <td>0.0</td>\n",
       "      <td>0.0</td>\n",
       "      <td>0.0</td>\n",
       "      <td>0.0</td>\n",
       "      <td>0.0</td>\n",
       "      <td>0.0</td>\n",
       "      <td>84</td>\n",
       "      <td>0.0</td>\n",
       "      <td>2</td>\n",
       "      <td>1</td>\n",
       "      <td>1</td>\n",
       "    </tr>\n",
       "    <tr>\n",
       "      <th>4</th>\n",
       "      <td>1692336</td>\n",
       "      <td>678091</td>\n",
       "      <td>0</td>\n",
       "      <td>0.0</td>\n",
       "      <td>0.0</td>\n",
       "      <td>0.0</td>\n",
       "      <td>0.0</td>\n",
       "      <td>0.0</td>\n",
       "      <td>0.0</td>\n",
       "      <td>0.0</td>\n",
       "      <td>20</td>\n",
       "      <td>0.0</td>\n",
       "      <td>7</td>\n",
       "      <td>0</td>\n",
       "      <td>1</td>\n",
       "    </tr>\n",
       "  </tbody>\n",
       "</table>\n",
       "</div>"
      ],
      "text/plain": [
       "    source  destination  common_neighbors  jaccard  sorensen  salton_cosine  \\\n",
       "0   369499      1676558                 0      0.0       0.0            0.0   \n",
       "1   311235      1770606                 0      0.0       0.0            0.0   \n",
       "2   123992       139109                 0      0.0       0.0            0.0   \n",
       "3   163924      1750412                 0      0.0       0.0            0.0   \n",
       "4  1692336       678091                 0      0.0       0.0            0.0   \n",
       "\n",
       "   hub_promoted  hub_depressed  leicht_holme_nerman  adamic_index  \\\n",
       "0           0.0            0.0                  0.0           0.0   \n",
       "1           0.0            0.0                  0.0           0.0   \n",
       "2           0.0            0.0                  0.0           0.0   \n",
       "3           0.0            0.0                  0.0           0.0   \n",
       "4           0.0            0.0                  0.0           0.0   \n",
       "\n",
       "   preferential_attachment  resource_allocation  shortest_paths  follows_back  \\\n",
       "0                      504                  0.0               4             0   \n",
       "1                      352                  0.0               5             0   \n",
       "2                       36                  0.0               7             0   \n",
       "3                       84                  0.0               2             1   \n",
       "4                       20                  0.0               7             0   \n",
       "\n",
       "   belongs_to_same_wcc  \n",
       "0                    1  \n",
       "1                    1  \n",
       "2                    1  \n",
       "3                    1  \n",
       "4                    1  "
      ]
     },
     "execution_count": 17,
     "metadata": {},
     "output_type": "execute_result"
    }
   ],
   "source": [
    "X_train.head()"
   ]
  },
  {
   "cell_type": "code",
   "execution_count": 18,
   "metadata": {},
   "outputs": [],
   "source": [
    "X_train.to_csv('./dataset/Xtrain_featured.csv', index=False)"
   ]
  },
  {
   "cell_type": "code",
   "execution_count": 120,
   "metadata": {},
   "outputs": [
    {
     "data": {
      "text/html": [
       "<div>\n",
       "<style scoped>\n",
       "    .dataframe tbody tr th:only-of-type {\n",
       "        vertical-align: middle;\n",
       "    }\n",
       "\n",
       "    .dataframe tbody tr th {\n",
       "        vertical-align: top;\n",
       "    }\n",
       "\n",
       "    .dataframe thead th {\n",
       "        text-align: right;\n",
       "    }\n",
       "</style>\n",
       "<table border=\"1\" class=\"dataframe\">\n",
       "  <thead>\n",
       "    <tr style=\"text-align: right;\">\n",
       "      <th></th>\n",
       "      <th>source</th>\n",
       "      <th>destination</th>\n",
       "      <th>common_neighbors</th>\n",
       "      <th>jaccard</th>\n",
       "      <th>sorensen</th>\n",
       "      <th>salton_cosine</th>\n",
       "      <th>hub_promoted</th>\n",
       "      <th>hub_depressed</th>\n",
       "      <th>leicht_holme_nerman</th>\n",
       "      <th>adamic_index</th>\n",
       "      <th>preferential_attachment</th>\n",
       "      <th>resource_allocation</th>\n",
       "      <th>shortest_path_length</th>\n",
       "      <th>follows_back</th>\n",
       "      <th>belongs_to_same_wcc</th>\n",
       "    </tr>\n",
       "  </thead>\n",
       "  <tbody>\n",
       "    <tr>\n",
       "      <th>0</th>\n",
       "      <td>143163</td>\n",
       "      <td>1209196</td>\n",
       "      <td>2</td>\n",
       "      <td>0.080000</td>\n",
       "      <td>0.074074</td>\n",
       "      <td>0.153393</td>\n",
       "      <td>0.19998</td>\n",
       "      <td>0.117640</td>\n",
       "      <td>0.011765</td>\n",
       "      <td>1.514290</td>\n",
       "      <td>170</td>\n",
       "      <td>0.096983</td>\n",
       "      <td>2</td>\n",
       "      <td>1</td>\n",
       "      <td>1</td>\n",
       "    </tr>\n",
       "    <tr>\n",
       "      <th>1</th>\n",
       "      <td>1848346</td>\n",
       "      <td>1317849</td>\n",
       "      <td>0</td>\n",
       "      <td>0.000000</td>\n",
       "      <td>0.000000</td>\n",
       "      <td>0.000000</td>\n",
       "      <td>0.00000</td>\n",
       "      <td>0.000000</td>\n",
       "      <td>0.000000</td>\n",
       "      <td>0.000000</td>\n",
       "      <td>18</td>\n",
       "      <td>0.000000</td>\n",
       "      <td>8</td>\n",
       "      <td>0</td>\n",
       "      <td>1</td>\n",
       "    </tr>\n",
       "    <tr>\n",
       "      <th>2</th>\n",
       "      <td>1635508</td>\n",
       "      <td>1750924</td>\n",
       "      <td>0</td>\n",
       "      <td>0.000000</td>\n",
       "      <td>0.000000</td>\n",
       "      <td>0.000000</td>\n",
       "      <td>0.00000</td>\n",
       "      <td>0.000000</td>\n",
       "      <td>0.000000</td>\n",
       "      <td>0.000000</td>\n",
       "      <td>28</td>\n",
       "      <td>0.000000</td>\n",
       "      <td>7</td>\n",
       "      <td>0</td>\n",
       "      <td>1</td>\n",
       "    </tr>\n",
       "    <tr>\n",
       "      <th>3</th>\n",
       "      <td>626461</td>\n",
       "      <td>291813</td>\n",
       "      <td>19</td>\n",
       "      <td>0.463415</td>\n",
       "      <td>0.316667</td>\n",
       "      <td>0.633685</td>\n",
       "      <td>0.65515</td>\n",
       "      <td>0.612883</td>\n",
       "      <td>0.021135</td>\n",
       "      <td>14.337359</td>\n",
       "      <td>899</td>\n",
       "      <td>0.923348</td>\n",
       "      <td>2</td>\n",
       "      <td>1</td>\n",
       "      <td>1</td>\n",
       "    </tr>\n",
       "    <tr>\n",
       "      <th>4</th>\n",
       "      <td>470725</td>\n",
       "      <td>957851</td>\n",
       "      <td>8</td>\n",
       "      <td>0.153846</td>\n",
       "      <td>0.133333</td>\n",
       "      <td>0.290957</td>\n",
       "      <td>0.44442</td>\n",
       "      <td>0.190472</td>\n",
       "      <td>0.010582</td>\n",
       "      <td>6.829084</td>\n",
       "      <td>756</td>\n",
       "      <td>0.557450</td>\n",
       "      <td>2</td>\n",
       "      <td>1</td>\n",
       "      <td>1</td>\n",
       "    </tr>\n",
       "  </tbody>\n",
       "</table>\n",
       "</div>"
      ],
      "text/plain": [
       "    source  destination  common_neighbors   jaccard  sorensen  salton_cosine  \\\n",
       "0   143163      1209196                 2  0.080000  0.074074       0.153393   \n",
       "1  1848346      1317849                 0  0.000000  0.000000       0.000000   \n",
       "2  1635508      1750924                 0  0.000000  0.000000       0.000000   \n",
       "3   626461       291813                19  0.463415  0.316667       0.633685   \n",
       "4   470725       957851                 8  0.153846  0.133333       0.290957   \n",
       "\n",
       "   hub_promoted  hub_depressed  leicht_holme_nerman  adamic_index  \\\n",
       "0       0.19998       0.117640             0.011765      1.514290   \n",
       "1       0.00000       0.000000             0.000000      0.000000   \n",
       "2       0.00000       0.000000             0.000000      0.000000   \n",
       "3       0.65515       0.612883             0.021135     14.337359   \n",
       "4       0.44442       0.190472             0.010582      6.829084   \n",
       "\n",
       "   preferential_attachment  resource_allocation  shortest_path_length  \\\n",
       "0                      170             0.096983                     2   \n",
       "1                       18             0.000000                     8   \n",
       "2                       28             0.000000                     7   \n",
       "3                      899             0.923348                     2   \n",
       "4                      756             0.557450                     2   \n",
       "\n",
       "   follows_back  belongs_to_same_wcc  \n",
       "0             1                    1  \n",
       "1             0                    1  \n",
       "2             0                    1  \n",
       "3             1                    1  \n",
       "4             1                    1  "
      ]
     },
     "execution_count": 120,
     "metadata": {},
     "output_type": "execute_result"
    }
   ],
   "source": [
    "X_test.head()"
   ]
  },
  {
   "cell_type": "code",
   "execution_count": 121,
   "metadata": {},
   "outputs": [],
   "source": [
    "X_test.to_csv('./dataset/Xtest_featured.csv', index=False)"
   ]
  },
  {
   "cell_type": "code",
   "execution_count": 122,
   "metadata": {},
   "outputs": [],
   "source": [
    "pr = joblib.load('./dataset/pr.p')"
   ]
  },
  {
   "cell_type": "code",
   "execution_count": 123,
   "metadata": {},
   "outputs": [],
   "source": [
    "mean_pr = float(sum(pr.values())) / len(pr)"
   ]
  },
  {
   "cell_type": "code",
   "execution_count": 27,
   "metadata": {},
   "outputs": [
    {
     "name": "stderr",
     "output_type": "stream",
     "text": [
      "100%|██████████| 15100030/15100030 [00:28<00:00, 536410.76it/s]\n"
     ]
    }
   ],
   "source": [
    "X_train['pr_source'] = X_train.source.progress_apply(\n",
    "    lambda x: pr.get(x, mean_pr))"
   ]
  },
  {
   "cell_type": "code",
   "execution_count": 28,
   "metadata": {},
   "outputs": [
    {
     "name": "stderr",
     "output_type": "stream",
     "text": [
      "100%|██████████| 15100030/15100030 [00:28<00:00, 534442.35it/s]\n"
     ]
    }
   ],
   "source": [
    "X_train['pr_dest'] = X_train.destination.progress_apply(\n",
    "    lambda x: pr.get(x, mean_pr))"
   ]
  },
  {
   "cell_type": "code",
   "execution_count": 125,
   "metadata": {},
   "outputs": [],
   "source": [
    "X_test['pr_source'] = X_test.source.apply(\n",
    "    lambda x: pr.get(x, mean_pr))\n",
    "X_test['pr_dest'] = X_test.destination.apply(\n",
    "    lambda x: pr.get(x, mean_pr))"
   ]
  },
  {
   "cell_type": "code",
   "execution_count": 126,
   "metadata": {},
   "outputs": [],
   "source": [
    "hits = joblib.load('./dataset/hits.p')[0]"
   ]
  },
  {
   "cell_type": "code",
   "execution_count": 39,
   "metadata": {},
   "outputs": [
    {
     "name": "stderr",
     "output_type": "stream",
     "text": [
      "\n",
      "\n",
      " 14%|█▍        | 2082904/15100030 [00:20<02:05, 103602.61it/s]\u001b[A\u001b[A"
     ]
    }
   ],
   "source": [
    "X_train['hits_source'] = X_train.source.apply(\n",
    "    lambda x: hits.get(x, 0))"
   ]
  },
  {
   "cell_type": "code",
   "execution_count": 40,
   "metadata": {},
   "outputs": [],
   "source": [
    "X_train['hits_dest'] = X_train.destination.apply(\n",
    "    lambda x: hits.get(x, 0))"
   ]
  },
  {
   "cell_type": "code",
   "execution_count": 127,
   "metadata": {},
   "outputs": [],
   "source": [
    "X_test['hits_source'] = X_test.source.apply(\n",
    "    lambda x: hits.get(x, 0))\n",
    "X_test['hits_dest'] = X_test.destination.apply(\n",
    "    lambda x: hits.get(x, 0))"
   ]
  },
  {
   "cell_type": "code",
   "execution_count": 128,
   "metadata": {},
   "outputs": [],
   "source": [
    "authority = joblib.load('./dataset/hits.p')[1]"
   ]
  },
  {
   "cell_type": "code",
   "execution_count": 45,
   "metadata": {},
   "outputs": [],
   "source": [
    "X_train['authority_source'] = X_train.source.apply(\n",
    "    lambda x: authority.get(x, 0))\n",
    "X_train['authority_dest'] = X_train.destination.apply(\n",
    "    lambda x: authority.get(x, 0))"
   ]
  },
  {
   "cell_type": "code",
   "execution_count": 129,
   "metadata": {},
   "outputs": [],
   "source": [
    "X_test['authority_source'] = X_test.source.apply(\n",
    "    lambda x: authority.get(x, 0))\n",
    "X_test['authority_dest'] = X_test.destination.apply(\n",
    "    lambda x: authority.get(x, 0))"
   ]
  },
  {
   "cell_type": "code",
   "execution_count": 130,
   "metadata": {},
   "outputs": [],
   "source": [
    "katz = joblib.load('./dataset/katz.p')"
   ]
  },
  {
   "cell_type": "code",
   "execution_count": 131,
   "metadata": {},
   "outputs": [],
   "source": [
    "mean_katz = float(sum(katz.values())) / len(katz)"
   ]
  },
  {
   "cell_type": "code",
   "execution_count": 43,
   "metadata": {},
   "outputs": [],
   "source": [
    "X_train['katz_source'] = X_train.source.apply(\n",
    "    lambda x: katz.get(x, mean_katz))\n",
    "X_train['katz_dest'] = X_train.destination.apply(\n",
    "    lambda x: katz.get(x, mean_katz))"
   ]
  },
  {
   "cell_type": "code",
   "execution_count": 132,
   "metadata": {},
   "outputs": [],
   "source": [
    "X_test['katz_source'] = X_test.source.apply(\n",
    "    lambda x: katz.get(x, mean_katz))\n",
    "X_test['katz_dest'] = X_test.destination.apply(\n",
    "    lambda x: katz.get(x, mean_katz))"
   ]
  },
  {
   "cell_type": "code",
   "execution_count": 32,
   "metadata": {},
   "outputs": [
    {
     "name": "stderr",
     "output_type": "stream",
     "text": [
      "100%|██████████| 15100030/15100030 [01:40<00:00, 150391.12it/s]\n",
      "100%|██████████| 15100030/15100030 [01:53<00:00, 132566.52it/s]\n",
      "100%|██████████| 15100030/15100030 [01:50<00:00, 136897.69it/s]\n",
      "100%|██████████| 15100030/15100030 [01:46<00:00, 142442.79it/s]\n"
     ]
    }
   ],
   "source": [
    "X_train['num_follower_source'] = X_train.source.progress_apply(\n",
    "    lambda x: len(set(train_g.predecessors(x))))\n",
    "X_train['num_followee_source'] = X_train.source.progress_apply(\n",
    "    lambda x: len(set(train_g.successors(x))))\n",
    "X_train['num_follower_dest'] = X_train.destination.progress_apply(\n",
    "    lambda x: len(set(train_g.predecessors(x))))\n",
    "X_train['num_followee_dest'] = X_train.destination.progress_apply(\n",
    "    lambda x: len(set(train_g.successors(x))))"
   ]
  },
  {
   "cell_type": "code",
   "execution_count": 135,
   "metadata": {},
   "outputs": [],
   "source": [
    "def num_follower(x):\n",
    "    try:\n",
    "        return len(set(train_g.predecessors(x)))\n",
    "    except:\n",
    "        return 0\n",
    "    \n",
    "def num_followee(x):\n",
    "    try:\n",
    "        return len(set(train_g.successors(x)))\n",
    "    except:\n",
    "        return 0\n",
    "\n"
   ]
  },
  {
   "cell_type": "code",
   "execution_count": 136,
   "metadata": {},
   "outputs": [],
   "source": [
    "X_test['num_follower_source'] = X_test.source.apply(\n",
    "    lambda x: num_follower(x))\n",
    "X_test['num_followee_source'] = X_test.source.apply(\n",
    "    lambda x: num_followee(x))\n",
    "X_test['num_follower_dest'] = X_test.destination.apply(\n",
    "    lambda x: num_follower(x))\n",
    "X_test['num_followee_dest'] = X_test.destination.apply(\n",
    "    lambda x: num_followee(x))"
   ]
  },
  {
   "cell_type": "code",
   "execution_count": 33,
   "metadata": {},
   "outputs": [
    {
     "name": "stderr",
     "output_type": "stream",
     "text": [
      "100%|██████████| 15100030/15100030 [11:49<00:00, 21286.84it/s]\n",
      "100%|██████████| 15100030/15100030 [11:55<00:00, 21100.99it/s]\n"
     ]
    }
   ],
   "source": [
    "X_train['inter_follower'] = X_train.progress_apply(\n",
    "    lambda x: len(set(train_g.predecessors(x.source)).intersection(set(\n",
    "        train_g.predecessors(x.destination)))), axis=1)\n",
    "\n",
    "X_train['inter_followee'] = X_train.progress_apply(\n",
    "    lambda x: len(set(train_g.successors(x.source)).intersection(set(\n",
    "        train_g.successors(x.destination)))), axis=1)"
   ]
  },
  {
   "cell_type": "code",
   "execution_count": 137,
   "metadata": {},
   "outputs": [],
   "source": [
    "def inter_follower(x):\n",
    "    try:\n",
    "        return len(set(train_g.predecessors(x.source)).intersection(set(\n",
    "        train_g.predecessors(x.destination))))\n",
    "    except:\n",
    "        return 0\n",
    "\n",
    "def inter_followee(x):\n",
    "    try:\n",
    "        return len(set(train_g.successors(x.source)).intersection(set(\n",
    "        train_g.successors(x.destination))))\n",
    "    except:\n",
    "        return 0"
   ]
  },
  {
   "cell_type": "code",
   "execution_count": 138,
   "metadata": {},
   "outputs": [],
   "source": [
    "X_test['inter_follower'] = X_test.apply(\n",
    "    lambda x: inter_follower(x), axis=1)\n",
    "\n",
    "X_test['inter_followee'] = X_test.apply(\n",
    "    lambda x: inter_followee(x), axis=1)"
   ]
  },
  {
   "cell_type": "code",
   "execution_count": 50,
   "metadata": {},
   "outputs": [
    {
     "name": "stderr",
     "output_type": "stream",
     "text": [
      "100%|██████████| 15100030/15100030 [00:31<00:00, 485240.95it/s]\n",
      "100%|██████████| 15100030/15100030 [00:31<00:00, 483600.41it/s]\n"
     ]
    }
   ],
   "source": [
    "X_train['weight_in'] = X_train.destination.progress_apply(\n",
    "    lambda x: Weight_in.get(x, mean_weight_in))\n",
    "X_train['weight_out'] = X_train.source.progress_apply(\n",
    "    lambda x: Weight_out.get(x, mean_weight_out))\n",
    "\n",
    "X_train['weight_f1'] = X_train.weight_in + X_train.weight_out\n",
    "X_train['weight_f2'] = X_train.weight_in * X_train.weight_out\n",
    "X_train['weight_f3'] = (2*X_train.weight_in + 1*X_train.weight_out)"
   ]
  },
  {
   "cell_type": "code",
   "execution_count": 141,
   "metadata": {},
   "outputs": [],
   "source": [
    "X_test['weight_in'] = X_test.destination.apply(\n",
    "    lambda x: Weight_in.get(x, mean_weight_in))\n",
    "X_test['weight_out'] = X_test.source.apply(\n",
    "    lambda x: Weight_out.get(x, mean_weight_out))\n",
    "\n",
    "X_test['weight_f1'] = X_test.weight_in + X_test.weight_out\n",
    "X_test['weight_f2'] = X_test.weight_in * X_test.weight_out\n",
    "X_test['weight_f3'] = (2*X_test.weight_in + 1*X_test.weight_out)"
   ]
  },
  {
   "cell_type": "code",
   "execution_count": 51,
   "metadata": {},
   "outputs": [
    {
     "data": {
      "text/html": [
       "<div>\n",
       "<style scoped>\n",
       "    .dataframe tbody tr th:only-of-type {\n",
       "        vertical-align: middle;\n",
       "    }\n",
       "\n",
       "    .dataframe tbody tr th {\n",
       "        vertical-align: top;\n",
       "    }\n",
       "\n",
       "    .dataframe thead th {\n",
       "        text-align: right;\n",
       "    }\n",
       "</style>\n",
       "<table border=\"1\" class=\"dataframe\">\n",
       "  <thead>\n",
       "    <tr style=\"text-align: right;\">\n",
       "      <th></th>\n",
       "      <th>source</th>\n",
       "      <th>destination</th>\n",
       "      <th>common_neighbors</th>\n",
       "      <th>jaccard</th>\n",
       "      <th>sorensen</th>\n",
       "      <th>salton_cosine</th>\n",
       "      <th>hub_promoted</th>\n",
       "      <th>hub_depressed</th>\n",
       "      <th>leicht_holme_nerman</th>\n",
       "      <th>adamic_index</th>\n",
       "      <th>...</th>\n",
       "      <th>num_followee_source</th>\n",
       "      <th>num_follower_dest</th>\n",
       "      <th>num_followee_dest</th>\n",
       "      <th>inter_follower</th>\n",
       "      <th>inter_followee</th>\n",
       "      <th>weight_in</th>\n",
       "      <th>weight_out</th>\n",
       "      <th>weight_f1</th>\n",
       "      <th>weight_f2</th>\n",
       "      <th>weight_f3</th>\n",
       "    </tr>\n",
       "  </thead>\n",
       "  <tbody>\n",
       "    <tr>\n",
       "      <th>0</th>\n",
       "      <td>369499</td>\n",
       "      <td>1676558</td>\n",
       "      <td>0</td>\n",
       "      <td>0.0</td>\n",
       "      <td>0.0</td>\n",
       "      <td>0.0</td>\n",
       "      <td>0.0</td>\n",
       "      <td>0.0</td>\n",
       "      <td>0.0</td>\n",
       "      <td>0.0</td>\n",
       "      <td>...</td>\n",
       "      <td>24</td>\n",
       "      <td>22</td>\n",
       "      <td>21</td>\n",
       "      <td>0</td>\n",
       "      <td>0</td>\n",
       "      <td>0.208514</td>\n",
       "      <td>0.200000</td>\n",
       "      <td>0.408514</td>\n",
       "      <td>0.041703</td>\n",
       "      <td>0.617029</td>\n",
       "    </tr>\n",
       "    <tr>\n",
       "      <th>1</th>\n",
       "      <td>311235</td>\n",
       "      <td>1770606</td>\n",
       "      <td>0</td>\n",
       "      <td>0.0</td>\n",
       "      <td>0.0</td>\n",
       "      <td>0.0</td>\n",
       "      <td>0.0</td>\n",
       "      <td>0.0</td>\n",
       "      <td>0.0</td>\n",
       "      <td>0.0</td>\n",
       "      <td>...</td>\n",
       "      <td>44</td>\n",
       "      <td>9</td>\n",
       "      <td>8</td>\n",
       "      <td>0</td>\n",
       "      <td>0</td>\n",
       "      <td>0.316228</td>\n",
       "      <td>0.149071</td>\n",
       "      <td>0.465299</td>\n",
       "      <td>0.047140</td>\n",
       "      <td>0.781527</td>\n",
       "    </tr>\n",
       "    <tr>\n",
       "      <th>2</th>\n",
       "      <td>123992</td>\n",
       "      <td>139109</td>\n",
       "      <td>0</td>\n",
       "      <td>0.0</td>\n",
       "      <td>0.0</td>\n",
       "      <td>0.0</td>\n",
       "      <td>0.0</td>\n",
       "      <td>0.0</td>\n",
       "      <td>0.0</td>\n",
       "      <td>0.0</td>\n",
       "      <td>...</td>\n",
       "      <td>12</td>\n",
       "      <td>4</td>\n",
       "      <td>3</td>\n",
       "      <td>0</td>\n",
       "      <td>0</td>\n",
       "      <td>0.447214</td>\n",
       "      <td>0.277350</td>\n",
       "      <td>0.724564</td>\n",
       "      <td>0.124035</td>\n",
       "      <td>1.171777</td>\n",
       "    </tr>\n",
       "    <tr>\n",
       "      <th>3</th>\n",
       "      <td>163924</td>\n",
       "      <td>1750412</td>\n",
       "      <td>0</td>\n",
       "      <td>0.0</td>\n",
       "      <td>0.0</td>\n",
       "      <td>0.0</td>\n",
       "      <td>0.0</td>\n",
       "      <td>0.0</td>\n",
       "      <td>0.0</td>\n",
       "      <td>0.0</td>\n",
       "      <td>...</td>\n",
       "      <td>12</td>\n",
       "      <td>6</td>\n",
       "      <td>7</td>\n",
       "      <td>1</td>\n",
       "      <td>0</td>\n",
       "      <td>0.377964</td>\n",
       "      <td>0.277350</td>\n",
       "      <td>0.655315</td>\n",
       "      <td>0.104828</td>\n",
       "      <td>1.033279</td>\n",
       "    </tr>\n",
       "    <tr>\n",
       "      <th>4</th>\n",
       "      <td>1692336</td>\n",
       "      <td>678091</td>\n",
       "      <td>0</td>\n",
       "      <td>0.0</td>\n",
       "      <td>0.0</td>\n",
       "      <td>0.0</td>\n",
       "      <td>0.0</td>\n",
       "      <td>0.0</td>\n",
       "      <td>0.0</td>\n",
       "      <td>0.0</td>\n",
       "      <td>...</td>\n",
       "      <td>5</td>\n",
       "      <td>6</td>\n",
       "      <td>4</td>\n",
       "      <td>0</td>\n",
       "      <td>0</td>\n",
       "      <td>0.377964</td>\n",
       "      <td>0.408248</td>\n",
       "      <td>0.786213</td>\n",
       "      <td>0.154303</td>\n",
       "      <td>1.164177</td>\n",
       "    </tr>\n",
       "  </tbody>\n",
       "</table>\n",
       "<p>5 rows × 34 columns</p>\n",
       "</div>"
      ],
      "text/plain": [
       "    source  destination  common_neighbors  jaccard  sorensen  salton_cosine  \\\n",
       "0   369499      1676558                 0      0.0       0.0            0.0   \n",
       "1   311235      1770606                 0      0.0       0.0            0.0   \n",
       "2   123992       139109                 0      0.0       0.0            0.0   \n",
       "3   163924      1750412                 0      0.0       0.0            0.0   \n",
       "4  1692336       678091                 0      0.0       0.0            0.0   \n",
       "\n",
       "   hub_promoted  hub_depressed  leicht_holme_nerman  adamic_index    ...      \\\n",
       "0           0.0            0.0                  0.0           0.0    ...       \n",
       "1           0.0            0.0                  0.0           0.0    ...       \n",
       "2           0.0            0.0                  0.0           0.0    ...       \n",
       "3           0.0            0.0                  0.0           0.0    ...       \n",
       "4           0.0            0.0                  0.0           0.0    ...       \n",
       "\n",
       "   num_followee_source  num_follower_dest  num_followee_dest  inter_follower  \\\n",
       "0                   24                 22                 21               0   \n",
       "1                   44                  9                  8               0   \n",
       "2                   12                  4                  3               0   \n",
       "3                   12                  6                  7               1   \n",
       "4                    5                  6                  4               0   \n",
       "\n",
       "   inter_followee  weight_in  weight_out  weight_f1  weight_f2  weight_f3  \n",
       "0               0   0.208514    0.200000   0.408514   0.041703   0.617029  \n",
       "1               0   0.316228    0.149071   0.465299   0.047140   0.781527  \n",
       "2               0   0.447214    0.277350   0.724564   0.124035   1.171777  \n",
       "3               0   0.377964    0.277350   0.655315   0.104828   1.033279  \n",
       "4               0   0.377964    0.408248   0.786213   0.154303   1.164177  \n",
       "\n",
       "[5 rows x 34 columns]"
      ]
     },
     "execution_count": 51,
     "metadata": {},
     "output_type": "execute_result"
    }
   ],
   "source": [
    "X_train.head()"
   ]
  },
  {
   "cell_type": "code",
   "execution_count": 142,
   "metadata": {},
   "outputs": [
    {
     "data": {
      "text/html": [
       "<div>\n",
       "<style scoped>\n",
       "    .dataframe tbody tr th:only-of-type {\n",
       "        vertical-align: middle;\n",
       "    }\n",
       "\n",
       "    .dataframe tbody tr th {\n",
       "        vertical-align: top;\n",
       "    }\n",
       "\n",
       "    .dataframe thead th {\n",
       "        text-align: right;\n",
       "    }\n",
       "</style>\n",
       "<table border=\"1\" class=\"dataframe\">\n",
       "  <thead>\n",
       "    <tr style=\"text-align: right;\">\n",
       "      <th></th>\n",
       "      <th>source</th>\n",
       "      <th>destination</th>\n",
       "      <th>common_neighbors</th>\n",
       "      <th>jaccard</th>\n",
       "      <th>sorensen</th>\n",
       "      <th>salton_cosine</th>\n",
       "      <th>hub_promoted</th>\n",
       "      <th>hub_depressed</th>\n",
       "      <th>leicht_holme_nerman</th>\n",
       "      <th>adamic_index</th>\n",
       "      <th>...</th>\n",
       "      <th>num_followee_source</th>\n",
       "      <th>num_follower_dest</th>\n",
       "      <th>num_followee_dest</th>\n",
       "      <th>inter_follower</th>\n",
       "      <th>inter_followee</th>\n",
       "      <th>weight_in</th>\n",
       "      <th>weight_out</th>\n",
       "      <th>weight_f1</th>\n",
       "      <th>weight_f2</th>\n",
       "      <th>weight_f3</th>\n",
       "    </tr>\n",
       "  </thead>\n",
       "  <tbody>\n",
       "    <tr>\n",
       "      <th>0</th>\n",
       "      <td>143163</td>\n",
       "      <td>1209196</td>\n",
       "      <td>2</td>\n",
       "      <td>0.080000</td>\n",
       "      <td>0.074074</td>\n",
       "      <td>0.153393</td>\n",
       "      <td>0.19998</td>\n",
       "      <td>0.117640</td>\n",
       "      <td>0.011765</td>\n",
       "      <td>1.514290</td>\n",
       "      <td>...</td>\n",
       "      <td>10</td>\n",
       "      <td>22</td>\n",
       "      <td>17</td>\n",
       "      <td>2</td>\n",
       "      <td>2</td>\n",
       "      <td>0.208514</td>\n",
       "      <td>0.301511</td>\n",
       "      <td>0.510026</td>\n",
       "      <td>0.062869</td>\n",
       "      <td>0.718540</td>\n",
       "    </tr>\n",
       "    <tr>\n",
       "      <th>1</th>\n",
       "      <td>1848346</td>\n",
       "      <td>1317849</td>\n",
       "      <td>0</td>\n",
       "      <td>0.000000</td>\n",
       "      <td>0.000000</td>\n",
       "      <td>0.000000</td>\n",
       "      <td>0.00000</td>\n",
       "      <td>0.000000</td>\n",
       "      <td>0.000000</td>\n",
       "      <td>0.000000</td>\n",
       "      <td>...</td>\n",
       "      <td>3</td>\n",
       "      <td>2</td>\n",
       "      <td>6</td>\n",
       "      <td>0</td>\n",
       "      <td>0</td>\n",
       "      <td>0.577350</td>\n",
       "      <td>0.500000</td>\n",
       "      <td>1.077350</td>\n",
       "      <td>0.288675</td>\n",
       "      <td>1.654701</td>\n",
       "    </tr>\n",
       "    <tr>\n",
       "      <th>2</th>\n",
       "      <td>1635508</td>\n",
       "      <td>1750924</td>\n",
       "      <td>0</td>\n",
       "      <td>0.000000</td>\n",
       "      <td>0.000000</td>\n",
       "      <td>0.000000</td>\n",
       "      <td>0.00000</td>\n",
       "      <td>0.000000</td>\n",
       "      <td>0.000000</td>\n",
       "      <td>0.000000</td>\n",
       "      <td>...</td>\n",
       "      <td>4</td>\n",
       "      <td>3</td>\n",
       "      <td>7</td>\n",
       "      <td>0</td>\n",
       "      <td>0</td>\n",
       "      <td>0.500000</td>\n",
       "      <td>0.447214</td>\n",
       "      <td>0.947214</td>\n",
       "      <td>0.223607</td>\n",
       "      <td>1.447214</td>\n",
       "    </tr>\n",
       "    <tr>\n",
       "      <th>3</th>\n",
       "      <td>626461</td>\n",
       "      <td>291813</td>\n",
       "      <td>19</td>\n",
       "      <td>0.463415</td>\n",
       "      <td>0.316667</td>\n",
       "      <td>0.633685</td>\n",
       "      <td>0.65515</td>\n",
       "      <td>0.612883</td>\n",
       "      <td>0.021135</td>\n",
       "      <td>14.337359</td>\n",
       "      <td>...</td>\n",
       "      <td>31</td>\n",
       "      <td>20</td>\n",
       "      <td>29</td>\n",
       "      <td>13</td>\n",
       "      <td>19</td>\n",
       "      <td>0.218218</td>\n",
       "      <td>0.176777</td>\n",
       "      <td>0.394995</td>\n",
       "      <td>0.038576</td>\n",
       "      <td>0.613212</td>\n",
       "    </tr>\n",
       "    <tr>\n",
       "      <th>4</th>\n",
       "      <td>470725</td>\n",
       "      <td>957851</td>\n",
       "      <td>8</td>\n",
       "      <td>0.153846</td>\n",
       "      <td>0.133333</td>\n",
       "      <td>0.290957</td>\n",
       "      <td>0.44442</td>\n",
       "      <td>0.190472</td>\n",
       "      <td>0.010582</td>\n",
       "      <td>6.829084</td>\n",
       "      <td>...</td>\n",
       "      <td>18</td>\n",
       "      <td>36</td>\n",
       "      <td>42</td>\n",
       "      <td>4</td>\n",
       "      <td>8</td>\n",
       "      <td>0.164399</td>\n",
       "      <td>0.229416</td>\n",
       "      <td>0.393815</td>\n",
       "      <td>0.037716</td>\n",
       "      <td>0.558214</td>\n",
       "    </tr>\n",
       "  </tbody>\n",
       "</table>\n",
       "<p>5 rows × 34 columns</p>\n",
       "</div>"
      ],
      "text/plain": [
       "    source  destination  common_neighbors   jaccard  sorensen  salton_cosine  \\\n",
       "0   143163      1209196                 2  0.080000  0.074074       0.153393   \n",
       "1  1848346      1317849                 0  0.000000  0.000000       0.000000   \n",
       "2  1635508      1750924                 0  0.000000  0.000000       0.000000   \n",
       "3   626461       291813                19  0.463415  0.316667       0.633685   \n",
       "4   470725       957851                 8  0.153846  0.133333       0.290957   \n",
       "\n",
       "   hub_promoted  hub_depressed  leicht_holme_nerman  adamic_index    ...      \\\n",
       "0       0.19998       0.117640             0.011765      1.514290    ...       \n",
       "1       0.00000       0.000000             0.000000      0.000000    ...       \n",
       "2       0.00000       0.000000             0.000000      0.000000    ...       \n",
       "3       0.65515       0.612883             0.021135     14.337359    ...       \n",
       "4       0.44442       0.190472             0.010582      6.829084    ...       \n",
       "\n",
       "   num_followee_source  num_follower_dest  num_followee_dest  inter_follower  \\\n",
       "0                   10                 22                 17               2   \n",
       "1                    3                  2                  6               0   \n",
       "2                    4                  3                  7               0   \n",
       "3                   31                 20                 29              13   \n",
       "4                   18                 36                 42               4   \n",
       "\n",
       "   inter_followee  weight_in  weight_out  weight_f1  weight_f2  weight_f3  \n",
       "0               2   0.208514    0.301511   0.510026   0.062869   0.718540  \n",
       "1               0   0.577350    0.500000   1.077350   0.288675   1.654701  \n",
       "2               0   0.500000    0.447214   0.947214   0.223607   1.447214  \n",
       "3              19   0.218218    0.176777   0.394995   0.038576   0.613212  \n",
       "4               8   0.164399    0.229416   0.393815   0.037716   0.558214  \n",
       "\n",
       "[5 rows x 34 columns]"
      ]
     },
     "execution_count": 142,
     "metadata": {},
     "output_type": "execute_result"
    }
   ],
   "source": [
    "X_test.head()"
   ]
  },
  {
   "cell_type": "code",
   "execution_count": 143,
   "metadata": {},
   "outputs": [
    {
     "data": {
      "text/plain": [
       "(15100030, 34)"
      ]
     },
     "execution_count": 143,
     "metadata": {},
     "output_type": "execute_result"
    }
   ],
   "source": [
    "X_train.shape"
   ]
  },
  {
   "cell_type": "code",
   "execution_count": 144,
   "metadata": {},
   "outputs": [
    {
     "data": {
      "text/plain": [
       "(3775008, 34)"
      ]
     },
     "execution_count": 144,
     "metadata": {},
     "output_type": "execute_result"
    }
   ],
   "source": [
    "X_test.shape"
   ]
  },
  {
   "cell_type": "code",
   "execution_count": 52,
   "metadata": {},
   "outputs": [],
   "source": [
    "X_train.to_csv('./dataset/Xtrain_featured.csv', index=False)"
   ]
  },
  {
   "cell_type": "code",
   "execution_count": 145,
   "metadata": {},
   "outputs": [],
   "source": [
    "X_test.to_csv('./dataset/Xtest_featured.csv', index=False)"
   ]
  },
  {
   "cell_type": "code",
   "execution_count": 148,
   "metadata": {},
   "outputs": [
    {
     "data": {
      "text/plain": [
       "(15100030, 6)"
      ]
     },
     "execution_count": 148,
     "metadata": {},
     "output_type": "execute_result"
    }
   ],
   "source": [
    "S.shape"
   ]
  },
  {
   "cell_type": "code",
   "execution_count": 149,
   "metadata": {},
   "outputs": [
    {
     "data": {
      "text/plain": [
       "(3775008, 6)"
      ]
     },
     "execution_count": 149,
     "metadata": {},
     "output_type": "execute_result"
    }
   ],
   "source": [
    "S2.shape"
   ]
  },
  {
   "cell_type": "code",
   "execution_count": 150,
   "metadata": {},
   "outputs": [
    {
     "data": {
      "text/plain": [
       "(15100030, 6)"
      ]
     },
     "execution_count": 150,
     "metadata": {},
     "output_type": "execute_result"
    }
   ],
   "source": [
    "D.shape"
   ]
  },
  {
   "cell_type": "code",
   "execution_count": 151,
   "metadata": {},
   "outputs": [
    {
     "data": {
      "text/plain": [
       "(3775008, 6)"
      ]
     },
     "execution_count": 151,
     "metadata": {},
     "output_type": "execute_result"
    }
   ],
   "source": [
    "D2.shape"
   ]
  },
  {
   "cell_type": "code",
   "execution_count": 152,
   "metadata": {},
   "outputs": [
    {
     "data": {
      "text/plain": [
       "(15100030,)"
      ]
     },
     "execution_count": 152,
     "metadata": {},
     "output_type": "execute_result"
    }
   ],
   "source": [
    "DOT.shape"
   ]
  },
  {
   "cell_type": "code",
   "execution_count": 153,
   "metadata": {},
   "outputs": [
    {
     "data": {
      "text/plain": [
       "(3775008,)"
      ]
     },
     "execution_count": 153,
     "metadata": {},
     "output_type": "execute_result"
    }
   ],
   "source": [
    "DOT2.shape"
   ]
  },
  {
   "cell_type": "code",
   "execution_count": 161,
   "metadata": {},
   "outputs": [],
   "source": [
    "train = np.hstack((X_train.values, S, D, DOT.reshape(-1, 1)))\n",
    "test = np.hstack((X_test.values, S2, D2, DOT2.reshape(-1, 1)))"
   ]
  },
  {
   "cell_type": "code",
   "execution_count": 162,
   "metadata": {},
   "outputs": [
    {
     "data": {
      "text/plain": [
       "(15100030, 47)"
      ]
     },
     "execution_count": 162,
     "metadata": {},
     "output_type": "execute_result"
    }
   ],
   "source": [
    "train.shape"
   ]
  },
  {
   "cell_type": "code",
   "execution_count": 163,
   "metadata": {},
   "outputs": [
    {
     "data": {
      "text/plain": [
       "(3775008, 47)"
      ]
     },
     "execution_count": 163,
     "metadata": {},
     "output_type": "execute_result"
    }
   ],
   "source": [
    "test.shape"
   ]
  },
  {
   "cell_type": "code",
   "execution_count": 164,
   "metadata": {},
   "outputs": [],
   "source": [
    "np.save('./dataset/train', train)\n",
    "np.save('./dataset/test', test)"
   ]
  },
  {
   "cell_type": "code",
   "execution_count": 166,
   "metadata": {},
   "outputs": [
    {
     "name": "stdout",
     "output_type": "stream",
     "text": [
      "./dataset/test.npy   ./dataset/ytest.npy\r\n",
      "./dataset/train.npy  ./dataset/ytrain.npy\r\n"
     ]
    }
   ],
   "source": [
    "!ls ./dataset/*.npy"
   ]
  },
  {
   "cell_type": "code",
   "execution_count": null,
   "metadata": {},
   "outputs": [],
   "source": []
  }
 ],
 "metadata": {
  "kernelspec": {
   "display_name": "Python 3",
   "language": "python",
   "name": "python3"
  },
  "language_info": {
   "codemirror_mode": {
    "name": "ipython",
    "version": 3
   },
   "file_extension": ".py",
   "mimetype": "text/x-python",
   "name": "python",
   "nbconvert_exporter": "python",
   "pygments_lexer": "ipython3",
   "version": "3.6.5"
  }
 },
 "nbformat": 4,
 "nbformat_minor": 2
}
